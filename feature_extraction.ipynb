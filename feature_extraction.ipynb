{
 "cells": [
  {
   "cell_type": "code",
   "execution_count": 15,
   "metadata": {},
   "outputs": [],
   "source": [
    "import scipy.io as sio\n",
    "import os\n",
    "import sys\n",
    "import numpy as np\n",
    "import pandas as pd\n",
    "import time\n",
    "import pickle\n",
    "import torch\n",
    "from tqdm import tqdm\n",
    "import math\n",
    "import scipy"
   ]
  },
  {
   "cell_type": "code",
   "execution_count": 140,
   "metadata": {},
   "outputs": [],
   "source": [
    "import scipy.io as sio\n",
    "import os\n",
    "import sys\n",
    "import numpy as np\n",
    "import pandas as pd\n",
    "import time\n",
    "import pickle\n",
    "import torch\n",
    "from tqdm import tqdm\n",
    "import math\n",
    "import scipy\n",
    "\n",
    "def data_1Dto2D(data, Y=9, X=9):\n",
    "    data_2D = np.zeros([Y, X])\n",
    "    data_2D[0] = (0,        0,          0,          data[0],    0,          data[16],   0,          0,          0       )\n",
    "    data_2D[1] = (0,        0,          0,          data[1],    0,          data[17],   0,          0,          0       )\n",
    "    data_2D[2] = (data[3],  0,          data[2],    0,          data[18],   0,          data[19],   0,          data[20])\n",
    "    data_2D[3] = (0,        data[4],    0,          data[5],    0,          data[22],   0,          data[21],   0       )\n",
    "    data_2D[4] = (data[7],  0,          data[6],    0,          data[23],   0,          data[24],   0,          data[25])\n",
    "    data_2D[5] = (0,        data[8],    0,          data[9],    0,          data[27],   0,          data[26],   0       )\n",
    "    data_2D[6] = (data[11], 0,          data[10],   0,          data[15],   0,          data[28],   0,          data[29])\n",
    "    data_2D[7] = (0,        0,          0,          data[12],   0,          data[30],   0,          0,          0       )\n",
    "    data_2D[8] = (0,        0,          0,          data[13],   data[14],   data[31],   0,          0,          0       )\n",
    "    return data_2D\n",
    "\n",
    "\n",
    "def norm_dataset(dataset_1D):\n",
    "    norm_dataset_1D = np.zeros([dataset_1D.shape[0], 32])\n",
    "    for i in range(dataset_1D.shape[0]):\n",
    "        norm_dataset_1D[i] = feature_normalize(dataset_1D[i])\n",
    "    return norm_dataset_1D\n",
    "\n",
    "\n",
    "def feature_normalize(data):\n",
    "    mean = data[data.nonzero()].mean()\n",
    "    sigma = data[data. nonzero ()].std()\n",
    "    data_normalized = data\n",
    "    data_normalized[data_normalized.nonzero()] = (data_normalized[data_normalized.nonzero()] - mean)/sigma\n",
    "    return data_normalized\n",
    "\n",
    "\n",
    "def dataset_1Dto2D(dataset_1D):\n",
    "    dataset_2D = np.zeros([dataset_1D.shape[0],9,9])\n",
    "    for i in range(dataset_1D.shape[0]):\n",
    "        dataset_2D[i] = data_1Dto2D(dataset_1D[i])\n",
    "    return dataset_2D\n",
    "\n",
    "\n",
    "def norm_dataset_1Dto2D(dataset_1D):\n",
    "    norm_dataset_2D = np.zeros([dataset_1D.shape[0], 9, 9])\n",
    "    for i in range(dataset_1D.shape[0]):\n",
    "        norm_dataset_2D[i] = feature_normalize(data_1Dto2D(dataset_1D[i]))\n",
    "    return norm_dataset_2D\n",
    "\n",
    "\n",
    "def windows(data, size):\n",
    "    start = 0\n",
    "    while ((start+size) < data.shape[0]):\n",
    "        yield int(start), int(start + size)\n",
    "        start += size\n",
    "\n",
    "        \n",
    "def segment_signal_without_transition(data,label,label_index,window_size):\n",
    "    for (start, end) in windows(data, window_size):\n",
    "        if((len(data[start:end]) == window_size)):\n",
    "            if(start == 0):\n",
    "                segments = data[start:end]\n",
    "                segments = np.vstack([segments, data[start:end]])\n",
    "\n",
    "#                 labels = np.array(label[label_index])\n",
    "#                 labels = np.append(labels, np.array(label[label_index]))\n",
    "            else:\n",
    "                segments = np.vstack([segments, data[start:end]])\n",
    "#                 labels = np.append(labels, np.array(label[label_index])) \n",
    "    return segments, np.array(label[label_index])\n",
    "\n",
    "\n",
    "def apply_mixup(dataset_file,window_size,label,basemean):\n",
    "    print(\"Processing\",dataset_file,\"..........\")\n",
    "    data_file_in = sio.loadmat(dataset_file)\n",
    "    print(\"original EEG data size:\", data_file_in[\"data\"].shape)\n",
    "    data_in = data_file_in[\"data\"].transpose(0,2,1)\n",
    "    print(\"transpose EEG data size:\", data_in.shape)\n",
    "    #0 valence, 1 arousal, 2 dominance, 3 liking\n",
    "    if label==\"arousal\":\n",
    "        label=1\n",
    "    elif label==\"valence\":\n",
    "        label=0\n",
    "    label_in= data_file_in[\"labels\"][:,label]\n",
    "    label_inter = np.empty([0]) \n",
    "    data_inter_E = np.empty([0, 60*window_size, 9, 9])\n",
    "    data_inter_C = np.empty([0, 60*window_size, 32])\n",
    "    DE_FEATURE = np.empty([0, 60, 9, 9]) \n",
    "    trials = data_in.shape[0]\n",
    "\n",
    "\n",
    "    for trial in range(0,trials):\n",
    "        if basemean==\"yes\":\n",
    "            base_signal = (data_in[trial,0:128,0:32]+data_in[trial,128:256,0:32]+data_in[trial,256:384,0:32])/3\n",
    "            if trial == 0: print(\"40번 반복\")\n",
    "            if trial == 0: print(\"base signal data size\", base_signal.shape)\n",
    "        else:\n",
    "            base_signal = np.zeros([128,32])\n",
    "        data_E = data_in[trial,384:8064,0:32]\n",
    "        # data_C = data_in[trial,384:8064,0:32]\n",
    "        \n",
    "        DE = np.empty([60, 32]) \n",
    "\n",
    "        for i in range(0,60):\n",
    "            for k in range(0,32):\n",
    "                DE[i, k] = scipy.stats.differential_entropy(data_E[i*128:(i+1)*128, k]-base_signal[:, k])\n",
    "        label_index = trial\n",
    "\n",
    "        if trial == 0: print(\"DE before norm data size:\", DE.shape)\n",
    "        DE = norm_dataset(DE)\n",
    "        if trial == 0: print(\"DE after norm data size:\", DE.shape)\n",
    "        DE, label = segment_signal_without_transition(DE, label_in, label_index, 1)\n",
    "        # data_C = norm_dataset(data_C)\n",
    "        # data_C, label = segment_signal_without_transition(data_C, label_in, label_index, window_size)\n",
    "\n",
    "        if trial == 0: print(\"DE segment signal without transition data size:\", DE.shape)\n",
    "        DE = dataset_1Dto2D(DE)\n",
    "        if trial == 0: print(\"DE 1D to 2D data size:\", DE.shape)\n",
    "        DE = DE.reshape (1, DE.shape[0], 9, 9)\n",
    "        if trial == 0: print(\"DE reshape data size:\", DE.shape)\n",
    "\n",
    "        # data_C = data_C.reshape(1, data_C.shape[0], 32)\n",
    "\n",
    "        DE_FEATURE  = np.vstack([DE_FEATURE, DE])\n",
    "        # data_inter_C  = np.vstack([data_inter_C, data_C])\n",
    "        # label_inter = np.append(label_inter, label)\n",
    "    \n",
    "    print(\"Total DE_FEATURE data size:\", DE_FEATURE.shape)\n",
    "    # print(\"EEG-ContextNet data size:\", data_inter_C.shape)\n",
    "    # print(\"total label size:\", label_inter.shape)\n",
    "    \n",
    "\n",
    "    return DE_FEATURE ,data_inter_C, label_inter"
   ]
  },
  {
   "cell_type": "markdown",
   "metadata": {},
   "source": [
    "### DE Feature Extraction"
   ]
  },
  {
   "cell_type": "markdown",
   "metadata": {},
   "source": [
    "#### Training dataset"
   ]
  },
  {
   "cell_type": "markdown",
   "metadata": {},
   "source": [
    "##### save pkl"
   ]
  },
  {
   "cell_type": "code",
   "execution_count": 125,
   "metadata": {},
   "outputs": [
    {
     "name": "stdout",
     "output_type": "stream",
     "text": [
      "time begin: time.struct_time(tm_year=2023, tm_mon=8, tm_mday=16, tm_hour=14, tm_min=53, tm_sec=0, tm_wday=2, tm_yday=228, tm_isdst=0)\n",
      "Processing /workspace/G_Project/DEAP_Dataset/data_preprocessed_matlab/s24.mat ..........\n",
      "original EEG data size: (40, 40, 8064)\n",
      "transpose EEG data size: (40, 8064, 40)\n",
      "40번 반복\n",
      "base signal data size (128, 32)\n",
      "DE before norm data size: (60, 32)\n",
      "DE after norm data size: (60, 32)\n",
      "DE segment signal without transition data size: (60, 32)\n",
      "DE 1D to 2D data size: (60, 9, 9)\n",
      "DE reshape data size: (1, 60, 9, 9)\n",
      "Total DE_FEATURE data size: (40, 60, 9, 9)\n",
      "end time: time.struct_time(tm_year=2023, tm_mon=8, tm_mday=16, tm_hour=14, tm_min=53, tm_sec=7, tm_wday=2, tm_yday=228, tm_isdst=0)\n",
      "time consuming: 7.059483766555786\n",
      "Processing /workspace/G_Project/DEAP_Dataset/data_preprocessed_matlab/s23.mat ..........\n",
      "original EEG data size: (40, 40, 8064)\n",
      "transpose EEG data size: (40, 8064, 40)\n",
      "40번 반복\n",
      "base signal data size (128, 32)\n",
      "DE before norm data size: (60, 32)\n",
      "DE after norm data size: (60, 32)\n",
      "DE segment signal without transition data size: (60, 32)\n",
      "DE 1D to 2D data size: (60, 9, 9)\n",
      "DE reshape data size: (1, 60, 9, 9)\n",
      "Total DE_FEATURE data size: (40, 60, 9, 9)\n",
      "end time: time.struct_time(tm_year=2023, tm_mon=8, tm_mday=16, tm_hour=14, tm_min=53, tm_sec=14, tm_wday=2, tm_yday=228, tm_isdst=0)\n",
      "time consuming: 14.162320375442505\n",
      "Processing /workspace/G_Project/DEAP_Dataset/data_preprocessed_matlab/s18.mat ..........\n",
      "original EEG data size: (40, 40, 8064)\n",
      "transpose EEG data size: (40, 8064, 40)\n",
      "40번 반복\n",
      "base signal data size (128, 32)\n",
      "DE before norm data size: (60, 32)\n",
      "DE after norm data size: (60, 32)\n",
      "DE segment signal without transition data size: (60, 32)\n",
      "DE 1D to 2D data size: (60, 9, 9)\n",
      "DE reshape data size: (1, 60, 9, 9)\n",
      "Total DE_FEATURE data size: (40, 60, 9, 9)\n",
      "end time: time.struct_time(tm_year=2023, tm_mon=8, tm_mday=16, tm_hour=14, tm_min=53, tm_sec=21, tm_wday=2, tm_yday=228, tm_isdst=0)\n",
      "time consuming: 21.18427062034607\n",
      "Processing /workspace/G_Project/DEAP_Dataset/data_preprocessed_matlab/s21.mat ..........\n",
      "original EEG data size: (40, 40, 8064)\n",
      "transpose EEG data size: (40, 8064, 40)\n",
      "40번 반복\n",
      "base signal data size (128, 32)\n",
      "DE before norm data size: (60, 32)\n",
      "DE after norm data size: (60, 32)\n",
      "DE segment signal without transition data size: (60, 32)\n",
      "DE 1D to 2D data size: (60, 9, 9)\n",
      "DE reshape data size: (1, 60, 9, 9)\n",
      "Total DE_FEATURE data size: (40, 60, 9, 9)\n",
      "end time: time.struct_time(tm_year=2023, tm_mon=8, tm_mday=16, tm_hour=14, tm_min=53, tm_sec=28, tm_wday=2, tm_yday=228, tm_isdst=0)\n",
      "time consuming: 28.219496965408325\n",
      "Processing /workspace/G_Project/DEAP_Dataset/data_preprocessed_matlab/s32.mat ..........\n",
      "original EEG data size: (40, 40, 8064)\n",
      "transpose EEG data size: (40, 8064, 40)\n",
      "40번 반복\n",
      "base signal data size (128, 32)\n",
      "DE before norm data size: (60, 32)\n",
      "DE after norm data size: (60, 32)\n",
      "DE segment signal without transition data size: (60, 32)\n",
      "DE 1D to 2D data size: (60, 9, 9)\n",
      "DE reshape data size: (1, 60, 9, 9)\n",
      "Total DE_FEATURE data size: (40, 60, 9, 9)\n",
      "end time: time.struct_time(tm_year=2023, tm_mon=8, tm_mday=16, tm_hour=14, tm_min=53, tm_sec=35, tm_wday=2, tm_yday=228, tm_isdst=0)\n",
      "time consuming: 35.23158001899719\n",
      "Processing /workspace/G_Project/DEAP_Dataset/data_preprocessed_matlab/s20.mat ..........\n",
      "original EEG data size: (40, 40, 8064)\n",
      "transpose EEG data size: (40, 8064, 40)\n",
      "40번 반복\n",
      "base signal data size (128, 32)\n",
      "DE before norm data size: (60, 32)\n",
      "DE after norm data size: (60, 32)\n",
      "DE segment signal without transition data size: (60, 32)\n",
      "DE 1D to 2D data size: (60, 9, 9)\n",
      "DE reshape data size: (1, 60, 9, 9)\n",
      "Total DE_FEATURE data size: (40, 60, 9, 9)\n",
      "end time: time.struct_time(tm_year=2023, tm_mon=8, tm_mday=16, tm_hour=14, tm_min=53, tm_sec=42, tm_wday=2, tm_yday=228, tm_isdst=0)\n",
      "time consuming: 42.25248169898987\n",
      "Processing /workspace/G_Project/DEAP_Dataset/data_preprocessed_matlab/s22.mat ..........\n",
      "original EEG data size: (40, 40, 8064)\n",
      "transpose EEG data size: (40, 8064, 40)\n",
      "40번 반복\n",
      "base signal data size (128, 32)\n",
      "DE before norm data size: (60, 32)\n",
      "DE after norm data size: (60, 32)\n",
      "DE segment signal without transition data size: (60, 32)\n",
      "DE 1D to 2D data size: (60, 9, 9)\n",
      "DE reshape data size: (1, 60, 9, 9)\n",
      "Total DE_FEATURE data size: (40, 60, 9, 9)\n",
      "end time: time.struct_time(tm_year=2023, tm_mon=8, tm_mday=16, tm_hour=14, tm_min=53, tm_sec=49, tm_wday=2, tm_yday=228, tm_isdst=0)\n",
      "time consuming: 49.24869346618652\n",
      "Processing /workspace/G_Project/DEAP_Dataset/data_preprocessed_matlab/s19.mat ..........\n",
      "original EEG data size: (40, 40, 8064)\n",
      "transpose EEG data size: (40, 8064, 40)\n",
      "40번 반복\n",
      "base signal data size (128, 32)\n",
      "DE before norm data size: (60, 32)\n",
      "DE after norm data size: (60, 32)\n",
      "DE segment signal without transition data size: (60, 32)\n",
      "DE 1D to 2D data size: (60, 9, 9)\n",
      "DE reshape data size: (1, 60, 9, 9)\n",
      "Total DE_FEATURE data size: (40, 60, 9, 9)\n",
      "end time: time.struct_time(tm_year=2023, tm_mon=8, tm_mday=16, tm_hour=14, tm_min=53, tm_sec=56, tm_wday=2, tm_yday=228, tm_isdst=0)\n",
      "time consuming: 56.2638680934906\n",
      "Processing /workspace/G_Project/DEAP_Dataset/data_preprocessed_matlab/s05.mat ..........\n",
      "original EEG data size: (40, 40, 8064)\n",
      "transpose EEG data size: (40, 8064, 40)\n",
      "40번 반복\n",
      "base signal data size (128, 32)\n",
      "DE before norm data size: (60, 32)\n",
      "DE after norm data size: (60, 32)\n",
      "DE segment signal without transition data size: (60, 32)\n",
      "DE 1D to 2D data size: (60, 9, 9)\n",
      "DE reshape data size: (1, 60, 9, 9)\n",
      "Total DE_FEATURE data size: (40, 60, 9, 9)\n",
      "end time: time.struct_time(tm_year=2023, tm_mon=8, tm_mday=16, tm_hour=14, tm_min=54, tm_sec=3, tm_wday=2, tm_yday=228, tm_isdst=0)\n",
      "time consuming: 63.290865659713745\n",
      "Processing /workspace/G_Project/DEAP_Dataset/data_preprocessed_matlab/s29.mat ..........\n",
      "original EEG data size: (40, 40, 8064)\n",
      "transpose EEG data size: (40, 8064, 40)\n",
      "40번 반복\n",
      "base signal data size (128, 32)\n",
      "DE before norm data size: (60, 32)\n",
      "DE after norm data size: (60, 32)\n",
      "DE segment signal without transition data size: (60, 32)\n",
      "DE 1D to 2D data size: (60, 9, 9)\n",
      "DE reshape data size: (1, 60, 9, 9)\n",
      "Total DE_FEATURE data size: (40, 60, 9, 9)\n",
      "end time: time.struct_time(tm_year=2023, tm_mon=8, tm_mday=16, tm_hour=14, tm_min=54, tm_sec=10, tm_wday=2, tm_yday=228, tm_isdst=0)\n",
      "time consuming: 70.33423948287964\n",
      "Processing /workspace/G_Project/DEAP_Dataset/data_preprocessed_matlab/s10.mat ..........\n",
      "original EEG data size: (40, 40, 8064)\n",
      "transpose EEG data size: (40, 8064, 40)\n",
      "40번 반복\n",
      "base signal data size (128, 32)\n",
      "DE before norm data size: (60, 32)\n",
      "DE after norm data size: (60, 32)\n",
      "DE segment signal without transition data size: (60, 32)\n",
      "DE 1D to 2D data size: (60, 9, 9)\n",
      "DE reshape data size: (1, 60, 9, 9)\n",
      "Total DE_FEATURE data size: (40, 60, 9, 9)\n",
      "end time: time.struct_time(tm_year=2023, tm_mon=8, tm_mday=16, tm_hour=14, tm_min=54, tm_sec=17, tm_wday=2, tm_yday=228, tm_isdst=0)\n",
      "time consuming: 77.37848591804504\n",
      "Processing /workspace/G_Project/DEAP_Dataset/data_preprocessed_matlab/s16.mat ..........\n",
      "original EEG data size: (40, 40, 8064)\n",
      "transpose EEG data size: (40, 8064, 40)\n",
      "40번 반복\n",
      "base signal data size (128, 32)\n",
      "DE before norm data size: (60, 32)\n",
      "DE after norm data size: (60, 32)\n",
      "DE segment signal without transition data size: (60, 32)\n",
      "DE 1D to 2D data size: (60, 9, 9)\n",
      "DE reshape data size: (1, 60, 9, 9)\n",
      "Total DE_FEATURE data size: (40, 60, 9, 9)\n",
      "end time: time.struct_time(tm_year=2023, tm_mon=8, tm_mday=16, tm_hour=14, tm_min=54, tm_sec=24, tm_wday=2, tm_yday=228, tm_isdst=0)\n",
      "time consuming: 84.40631031990051\n",
      "Processing /workspace/G_Project/DEAP_Dataset/data_preprocessed_matlab/s02.mat ..........\n",
      "original EEG data size: (40, 40, 8064)\n",
      "transpose EEG data size: (40, 8064, 40)\n",
      "40번 반복\n",
      "base signal data size (128, 32)\n",
      "DE before norm data size: (60, 32)\n",
      "DE after norm data size: (60, 32)\n",
      "DE segment signal without transition data size: (60, 32)\n",
      "DE 1D to 2D data size: (60, 9, 9)\n",
      "DE reshape data size: (1, 60, 9, 9)\n",
      "Total DE_FEATURE data size: (40, 60, 9, 9)\n",
      "end time: time.struct_time(tm_year=2023, tm_mon=8, tm_mday=16, tm_hour=14, tm_min=54, tm_sec=31, tm_wday=2, tm_yday=228, tm_isdst=0)\n",
      "time consuming: 91.43342018127441\n",
      "Processing /workspace/G_Project/DEAP_Dataset/data_preprocessed_matlab/s28.mat ..........\n",
      "original EEG data size: (40, 40, 8064)\n",
      "transpose EEG data size: (40, 8064, 40)\n",
      "40번 반복\n",
      "base signal data size (128, 32)\n",
      "DE before norm data size: (60, 32)\n",
      "DE after norm data size: (60, 32)\n",
      "DE segment signal without transition data size: (60, 32)\n",
      "DE 1D to 2D data size: (60, 9, 9)\n",
      "DE reshape data size: (1, 60, 9, 9)\n",
      "Total DE_FEATURE data size: (40, 60, 9, 9)\n",
      "end time: time.struct_time(tm_year=2023, tm_mon=8, tm_mday=16, tm_hour=14, tm_min=54, tm_sec=39, tm_wday=2, tm_yday=228, tm_isdst=0)\n",
      "time consuming: 99.37193441390991\n",
      "Processing /workspace/G_Project/DEAP_Dataset/data_preprocessed_matlab/s03.mat ..........\n",
      "original EEG data size: (40, 40, 8064)\n",
      "transpose EEG data size: (40, 8064, 40)\n",
      "40번 반복\n",
      "base signal data size (128, 32)\n",
      "DE before norm data size: (60, 32)\n",
      "DE after norm data size: (60, 32)\n",
      "DE segment signal without transition data size: (60, 32)\n",
      "DE 1D to 2D data size: (60, 9, 9)\n",
      "DE reshape data size: (1, 60, 9, 9)\n",
      "Total DE_FEATURE data size: (40, 60, 9, 9)\n",
      "end time: time.struct_time(tm_year=2023, tm_mon=8, tm_mday=16, tm_hour=14, tm_min=54, tm_sec=48, tm_wday=2, tm_yday=228, tm_isdst=0)\n",
      "time consuming: 107.86099696159363\n",
      "Processing /workspace/G_Project/DEAP_Dataset/data_preprocessed_matlab/s01.mat ..........\n",
      "original EEG data size: (40, 40, 8064)\n",
      "transpose EEG data size: (40, 8064, 40)\n",
      "40번 반복\n",
      "base signal data size (128, 32)\n",
      "DE before norm data size: (60, 32)\n",
      "DE after norm data size: (60, 32)\n",
      "DE segment signal without transition data size: (60, 32)\n",
      "DE 1D to 2D data size: (60, 9, 9)\n",
      "DE reshape data size: (1, 60, 9, 9)\n",
      "Total DE_FEATURE data size: (40, 60, 9, 9)\n",
      "end time: time.struct_time(tm_year=2023, tm_mon=8, tm_mday=16, tm_hour=14, tm_min=54, tm_sec=56, tm_wday=2, tm_yday=228, tm_isdst=0)\n",
      "time consuming: 115.68715190887451\n",
      "Processing /workspace/G_Project/DEAP_Dataset/data_preprocessed_matlab/s13.mat ..........\n",
      "original EEG data size: (40, 40, 8064)\n",
      "transpose EEG data size: (40, 8064, 40)\n",
      "40번 반복\n",
      "base signal data size (128, 32)\n",
      "DE before norm data size: (60, 32)\n",
      "DE after norm data size: (60, 32)\n",
      "DE segment signal without transition data size: (60, 32)\n",
      "DE 1D to 2D data size: (60, 9, 9)\n",
      "DE reshape data size: (1, 60, 9, 9)\n",
      "Total DE_FEATURE data size: (40, 60, 9, 9)\n",
      "end time: time.struct_time(tm_year=2023, tm_mon=8, tm_mday=16, tm_hour=14, tm_min=55, tm_sec=4, tm_wday=2, tm_yday=228, tm_isdst=0)\n",
      "time consuming: 124.12926173210144\n",
      "Processing /workspace/G_Project/DEAP_Dataset/data_preprocessed_matlab/s08.mat ..........\n",
      "original EEG data size: (40, 40, 8064)\n",
      "transpose EEG data size: (40, 8064, 40)\n",
      "40번 반복\n",
      "base signal data size (128, 32)\n",
      "DE before norm data size: (60, 32)\n",
      "DE after norm data size: (60, 32)\n",
      "DE segment signal without transition data size: (60, 32)\n",
      "DE 1D to 2D data size: (60, 9, 9)\n",
      "DE reshape data size: (1, 60, 9, 9)\n",
      "Total DE_FEATURE data size: (40, 60, 9, 9)\n",
      "end time: time.struct_time(tm_year=2023, tm_mon=8, tm_mday=16, tm_hour=14, tm_min=55, tm_sec=12, tm_wday=2, tm_yday=228, tm_isdst=0)\n",
      "time consuming: 132.45187258720398\n",
      "Processing /workspace/G_Project/DEAP_Dataset/data_preprocessed_matlab/s07.mat ..........\n",
      "original EEG data size: (40, 40, 8064)\n",
      "transpose EEG data size: (40, 8064, 40)\n",
      "40번 반복\n",
      "base signal data size (128, 32)\n",
      "DE before norm data size: (60, 32)\n",
      "DE after norm data size: (60, 32)\n",
      "DE segment signal without transition data size: (60, 32)\n",
      "DE 1D to 2D data size: (60, 9, 9)\n",
      "DE reshape data size: (1, 60, 9, 9)\n",
      "Total DE_FEATURE data size: (40, 60, 9, 9)\n",
      "end time: time.struct_time(tm_year=2023, tm_mon=8, tm_mday=16, tm_hour=14, tm_min=55, tm_sec=20, tm_wday=2, tm_yday=228, tm_isdst=0)\n",
      "time consuming: 140.2924325466156\n",
      "Processing /workspace/G_Project/DEAP_Dataset/data_preprocessed_matlab/s11.mat ..........\n",
      "original EEG data size: (40, 40, 8064)\n",
      "transpose EEG data size: (40, 8064, 40)\n",
      "40번 반복\n",
      "base signal data size (128, 32)\n",
      "DE before norm data size: (60, 32)\n",
      "DE after norm data size: (60, 32)\n",
      "DE segment signal without transition data size: (60, 32)\n",
      "DE 1D to 2D data size: (60, 9, 9)\n",
      "DE reshape data size: (1, 60, 9, 9)\n",
      "Total DE_FEATURE data size: (40, 60, 9, 9)\n",
      "end time: time.struct_time(tm_year=2023, tm_mon=8, tm_mday=16, tm_hour=14, tm_min=55, tm_sec=28, tm_wday=2, tm_yday=228, tm_isdst=0)\n",
      "time consuming: 148.1397831439972\n",
      "Processing /workspace/G_Project/DEAP_Dataset/data_preprocessed_matlab/s27.mat ..........\n",
      "original EEG data size: (40, 40, 8064)\n",
      "transpose EEG data size: (40, 8064, 40)\n",
      "40번 반복\n",
      "base signal data size (128, 32)\n",
      "DE before norm data size: (60, 32)\n",
      "DE after norm data size: (60, 32)\n",
      "DE segment signal without transition data size: (60, 32)\n",
      "DE 1D to 2D data size: (60, 9, 9)\n",
      "DE reshape data size: (1, 60, 9, 9)\n",
      "Total DE_FEATURE data size: (40, 60, 9, 9)\n",
      "end time: time.struct_time(tm_year=2023, tm_mon=8, tm_mday=16, tm_hour=14, tm_min=55, tm_sec=36, tm_wday=2, tm_yday=228, tm_isdst=0)\n",
      "time consuming: 156.03175830841064\n",
      "Processing /workspace/G_Project/DEAP_Dataset/data_preprocessed_matlab/s06.mat ..........\n",
      "original EEG data size: (40, 40, 8064)\n",
      "transpose EEG data size: (40, 8064, 40)\n",
      "40번 반복\n",
      "base signal data size (128, 32)\n",
      "DE before norm data size: (60, 32)\n",
      "DE after norm data size: (60, 32)\n",
      "DE segment signal without transition data size: (60, 32)\n",
      "DE 1D to 2D data size: (60, 9, 9)\n",
      "DE reshape data size: (1, 60, 9, 9)\n",
      "Total DE_FEATURE data size: (40, 60, 9, 9)\n",
      "end time: time.struct_time(tm_year=2023, tm_mon=8, tm_mday=16, tm_hour=14, tm_min=55, tm_sec=44, tm_wday=2, tm_yday=228, tm_isdst=0)\n",
      "time consuming: 163.92416715621948\n",
      "Processing /workspace/G_Project/DEAP_Dataset/data_preprocessed_matlab/s12.mat ..........\n",
      "original EEG data size: (40, 40, 8064)\n",
      "transpose EEG data size: (40, 8064, 40)\n",
      "40번 반복\n",
      "base signal data size (128, 32)\n",
      "DE before norm data size: (60, 32)\n",
      "DE after norm data size: (60, 32)\n",
      "DE segment signal without transition data size: (60, 32)\n",
      "DE 1D to 2D data size: (60, 9, 9)\n",
      "DE reshape data size: (1, 60, 9, 9)\n",
      "Total DE_FEATURE data size: (40, 60, 9, 9)\n",
      "end time: time.struct_time(tm_year=2023, tm_mon=8, tm_mday=16, tm_hour=14, tm_min=55, tm_sec=52, tm_wday=2, tm_yday=228, tm_isdst=0)\n",
      "time consuming: 172.5586452484131\n",
      "Processing /workspace/G_Project/DEAP_Dataset/data_preprocessed_matlab/s25.mat ..........\n",
      "original EEG data size: (40, 40, 8064)\n",
      "transpose EEG data size: (40, 8064, 40)\n",
      "40번 반복\n",
      "base signal data size (128, 32)\n",
      "DE before norm data size: (60, 32)\n",
      "DE after norm data size: (60, 32)\n",
      "DE segment signal without transition data size: (60, 32)\n",
      "DE 1D to 2D data size: (60, 9, 9)\n",
      "DE reshape data size: (1, 60, 9, 9)\n",
      "Total DE_FEATURE data size: (40, 60, 9, 9)\n",
      "end time: time.struct_time(tm_year=2023, tm_mon=8, tm_mday=16, tm_hour=14, tm_min=56, tm_sec=0, tm_wday=2, tm_yday=228, tm_isdst=0)\n",
      "time consuming: 180.45072150230408\n",
      "Processing /workspace/G_Project/DEAP_Dataset/data_preprocessed_matlab/s09.mat ..........\n",
      "original EEG data size: (40, 40, 8064)\n",
      "transpose EEG data size: (40, 8064, 40)\n",
      "40번 반복\n",
      "base signal data size (128, 32)\n",
      "DE before norm data size: (60, 32)\n",
      "DE after norm data size: (60, 32)\n",
      "DE segment signal without transition data size: (60, 32)\n",
      "DE 1D to 2D data size: (60, 9, 9)\n",
      "DE reshape data size: (1, 60, 9, 9)\n",
      "Total DE_FEATURE data size: (40, 60, 9, 9)\n",
      "end time: time.struct_time(tm_year=2023, tm_mon=8, tm_mday=16, tm_hour=14, tm_min=56, tm_sec=8, tm_wday=2, tm_yday=228, tm_isdst=0)\n",
      "time consuming: 188.5526020526886\n",
      "Processing /workspace/G_Project/DEAP_Dataset/data_preprocessed_matlab/s15.mat ..........\n",
      "original EEG data size: (40, 40, 8064)\n",
      "transpose EEG data size: (40, 8064, 40)\n",
      "40번 반복\n",
      "base signal data size (128, 32)\n",
      "DE before norm data size: (60, 32)\n",
      "DE after norm data size: (60, 32)\n",
      "DE segment signal without transition data size: (60, 32)\n",
      "DE 1D to 2D data size: (60, 9, 9)\n",
      "DE reshape data size: (1, 60, 9, 9)\n",
      "Total DE_FEATURE data size: (40, 60, 9, 9)\n",
      "end time: time.struct_time(tm_year=2023, tm_mon=8, tm_mday=16, tm_hour=14, tm_min=56, tm_sec=16, tm_wday=2, tm_yday=228, tm_isdst=0)\n",
      "time consuming: 196.43533611297607\n",
      "Processing /workspace/G_Project/DEAP_Dataset/data_preprocessed_matlab/s04.mat ..........\n",
      "original EEG data size: (40, 40, 8064)\n",
      "transpose EEG data size: (40, 8064, 40)\n",
      "40번 반복\n",
      "base signal data size (128, 32)\n",
      "DE before norm data size: (60, 32)\n",
      "DE after norm data size: (60, 32)\n",
      "DE segment signal without transition data size: (60, 32)\n",
      "DE 1D to 2D data size: (60, 9, 9)\n",
      "DE reshape data size: (1, 60, 9, 9)\n",
      "Total DE_FEATURE data size: (40, 60, 9, 9)\n",
      "end time: time.struct_time(tm_year=2023, tm_mon=8, tm_mday=16, tm_hour=14, tm_min=56, tm_sec=24, tm_wday=2, tm_yday=228, tm_isdst=0)\n",
      "time consuming: 204.31426787376404\n",
      "Processing /workspace/G_Project/DEAP_Dataset/data_preprocessed_matlab/s31.mat ..........\n",
      "original EEG data size: (40, 40, 8064)\n",
      "transpose EEG data size: (40, 8064, 40)\n",
      "40번 반복\n",
      "base signal data size (128, 32)\n",
      "DE before norm data size: (60, 32)\n",
      "DE after norm data size: (60, 32)\n",
      "DE segment signal without transition data size: (60, 32)\n",
      "DE 1D to 2D data size: (60, 9, 9)\n",
      "DE reshape data size: (1, 60, 9, 9)\n",
      "Total DE_FEATURE data size: (40, 60, 9, 9)\n",
      "end time: time.struct_time(tm_year=2023, tm_mon=8, tm_mday=16, tm_hour=14, tm_min=56, tm_sec=32, tm_wday=2, tm_yday=228, tm_isdst=0)\n",
      "time consuming: 212.2371711730957\n",
      "Processing /workspace/G_Project/DEAP_Dataset/data_preprocessed_matlab/s17.mat ..........\n",
      "original EEG data size: (40, 40, 8064)\n",
      "transpose EEG data size: (40, 8064, 40)\n",
      "40번 반복\n",
      "base signal data size (128, 32)\n",
      "DE before norm data size: (60, 32)\n",
      "DE after norm data size: (60, 32)\n",
      "DE segment signal without transition data size: (60, 32)\n",
      "DE 1D to 2D data size: (60, 9, 9)\n",
      "DE reshape data size: (1, 60, 9, 9)\n",
      "Total DE_FEATURE data size: (40, 60, 9, 9)\n",
      "end time: time.struct_time(tm_year=2023, tm_mon=8, tm_mday=16, tm_hour=14, tm_min=56, tm_sec=40, tm_wday=2, tm_yday=228, tm_isdst=0)\n",
      "time consuming: 220.07076907157898\n",
      "Processing /workspace/G_Project/DEAP_Dataset/data_preprocessed_matlab/s30.mat ..........\n",
      "original EEG data size: (40, 40, 8064)\n",
      "transpose EEG data size: (40, 8064, 40)\n",
      "40번 반복\n",
      "base signal data size (128, 32)\n",
      "DE before norm data size: (60, 32)\n",
      "DE after norm data size: (60, 32)\n",
      "DE segment signal without transition data size: (60, 32)\n",
      "DE 1D to 2D data size: (60, 9, 9)\n",
      "DE reshape data size: (1, 60, 9, 9)\n",
      "Total DE_FEATURE data size: (40, 60, 9, 9)\n",
      "end time: time.struct_time(tm_year=2023, tm_mon=8, tm_mday=16, tm_hour=14, tm_min=56, tm_sec=48, tm_wday=2, tm_yday=228, tm_isdst=0)\n",
      "time consuming: 228.29963064193726\n",
      "Processing /workspace/G_Project/DEAP_Dataset/data_preprocessed_matlab/s26.mat ..........\n",
      "original EEG data size: (40, 40, 8064)\n",
      "transpose EEG data size: (40, 8064, 40)\n",
      "40번 반복\n",
      "base signal data size (128, 32)\n",
      "DE before norm data size: (60, 32)\n",
      "DE after norm data size: (60, 32)\n",
      "DE segment signal without transition data size: (60, 32)\n",
      "DE 1D to 2D data size: (60, 9, 9)\n",
      "DE reshape data size: (1, 60, 9, 9)\n",
      "Total DE_FEATURE data size: (40, 60, 9, 9)\n",
      "end time: time.struct_time(tm_year=2023, tm_mon=8, tm_mday=16, tm_hour=14, tm_min=56, tm_sec=56, tm_wday=2, tm_yday=228, tm_isdst=0)\n",
      "time consuming: 236.2303864955902\n",
      "Processing /workspace/G_Project/DEAP_Dataset/data_preprocessed_matlab/s14.mat ..........\n",
      "original EEG data size: (40, 40, 8064)\n",
      "transpose EEG data size: (40, 8064, 40)\n",
      "40번 반복\n",
      "base signal data size (128, 32)\n",
      "DE before norm data size: (60, 32)\n",
      "DE after norm data size: (60, 32)\n",
      "DE segment signal without transition data size: (60, 32)\n",
      "DE 1D to 2D data size: (60, 9, 9)\n",
      "DE reshape data size: (1, 60, 9, 9)\n",
      "Total DE_FEATURE data size: (40, 60, 9, 9)\n",
      "end time: time.struct_time(tm_year=2023, tm_mon=8, tm_mday=16, tm_hour=14, tm_min=57, tm_sec=4, tm_wday=2, tm_yday=228, tm_isdst=0)\n",
      "time consuming: 244.32524967193604\n"
     ]
    }
   ],
   "source": [
    "begin = time.time()\n",
    "print(\"time begin:\",time.localtime())\n",
    "\n",
    "dataset_dir = \"/workspace/G_Project/DEAP_Dataset/data_preprocessed_matlab\"\n",
    "window_size = 128\n",
    "output_dir = \"/workspace/G_Project/DEAP_Dataset/Feature_Extraction/\"\n",
    "label_class = \"arousal\"     # arousal/valence\n",
    "basemean = \"yes\"     # yes/no (using baseline signals or not)\n",
    "\n",
    "record_list = [task for task in os.listdir(dataset_dir) if os.path.isfile(os.path.join(dataset_dir,task))]\n",
    "output_EEG_dir = output_dir+\"DE_feature/\"+f\"basemean_{basemean}\"+\"/\"\n",
    "if os.path.isdir(output_EEG_dir)==False:\n",
    "    os.makedirs(output_EEG_dir)\n",
    "\n",
    "    \n",
    "for record in record_list:\n",
    "    file = os.path.join(dataset_dir,record)\n",
    "    data_inter_E,data_inter_C,label_inter = apply_mixup(file, window_size,label_class,basemean)\n",
    "    trials = data_inter_E.shape[0]\n",
    "\n",
    "    for trial in range(0,trials):\n",
    "        output_data_cnn = output_EEG_dir+record.split(\".\")[0]+f\"_trial{str(trial+1).zfill(2)}\"+\"_win_\"+str(window_size)+\".pkl\"\n",
    "\n",
    "        with open(output_data_cnn, \"wb\") as fp:\n",
    "            pickle.dump(data_inter_E[trial],fp, protocol=4)\n",
    "    end = time.time()\n",
    "    print(\"end time:\",time.localtime())\n",
    "    print(\"time consuming:\",(end-begin))"
   ]
  },
  {
   "cell_type": "code",
   "execution_count": 132,
   "metadata": {},
   "outputs": [
    {
     "name": "stdout",
     "output_type": "stream",
     "text": [
      "time begin: time.struct_time(tm_year=2023, tm_mon=8, tm_mday=16, tm_hour=15, tm_min=0, tm_sec=42, tm_wday=2, tm_yday=228, tm_isdst=0)\n",
      "Processing /workspace/G_Project/DEAP_Dataset/data_preprocessed_matlab/s24.mat ..........\n",
      "original EEG data size: (40, 40, 8064)\n",
      "transpose EEG data size: (40, 8064, 40)\n",
      "DE before norm data size: (60, 32)\n",
      "DE after norm data size: (60, 32)\n",
      "DE segment signal without transition data size: (60, 32)\n",
      "DE 1D to 2D data size: (60, 9, 9)\n",
      "DE reshape data size: (1, 60, 9, 9)\n",
      "Total DE_FEATURE data size: (40, 60, 9, 9)\n",
      "end time: time.struct_time(tm_year=2023, tm_mon=8, tm_mday=16, tm_hour=15, tm_min=0, tm_sec=49, tm_wday=2, tm_yday=228, tm_isdst=0)\n",
      "time consuming: 7.0601725578308105\n",
      "Processing /workspace/G_Project/DEAP_Dataset/data_preprocessed_matlab/s23.mat ..........\n",
      "original EEG data size: (40, 40, 8064)\n",
      "transpose EEG data size: (40, 8064, 40)\n",
      "DE before norm data size: (60, 32)\n",
      "DE after norm data size: (60, 32)\n",
      "DE segment signal without transition data size: (60, 32)\n",
      "DE 1D to 2D data size: (60, 9, 9)\n",
      "DE reshape data size: (1, 60, 9, 9)\n",
      "Total DE_FEATURE data size: (40, 60, 9, 9)\n",
      "end time: time.struct_time(tm_year=2023, tm_mon=8, tm_mday=16, tm_hour=15, tm_min=0, tm_sec=56, tm_wday=2, tm_yday=228, tm_isdst=0)\n",
      "time consuming: 14.074175357818604\n",
      "Processing /workspace/G_Project/DEAP_Dataset/data_preprocessed_matlab/s18.mat ..........\n",
      "original EEG data size: (40, 40, 8064)\n",
      "transpose EEG data size: (40, 8064, 40)\n",
      "DE before norm data size: (60, 32)\n",
      "DE after norm data size: (60, 32)\n",
      "DE segment signal without transition data size: (60, 32)\n",
      "DE 1D to 2D data size: (60, 9, 9)\n",
      "DE reshape data size: (1, 60, 9, 9)\n",
      "Total DE_FEATURE data size: (40, 60, 9, 9)\n",
      "end time: time.struct_time(tm_year=2023, tm_mon=8, tm_mday=16, tm_hour=15, tm_min=1, tm_sec=3, tm_wday=2, tm_yday=228, tm_isdst=0)\n",
      "time consuming: 21.08323621749878\n",
      "Processing /workspace/G_Project/DEAP_Dataset/data_preprocessed_matlab/s21.mat ..........\n",
      "original EEG data size: (40, 40, 8064)\n",
      "transpose EEG data size: (40, 8064, 40)\n",
      "DE before norm data size: (60, 32)\n",
      "DE after norm data size: (60, 32)\n",
      "DE segment signal without transition data size: (60, 32)\n",
      "DE 1D to 2D data size: (60, 9, 9)\n",
      "DE reshape data size: (1, 60, 9, 9)\n",
      "Total DE_FEATURE data size: (40, 60, 9, 9)\n",
      "end time: time.struct_time(tm_year=2023, tm_mon=8, tm_mday=16, tm_hour=15, tm_min=1, tm_sec=10, tm_wday=2, tm_yday=228, tm_isdst=0)\n",
      "time consuming: 28.09725069999695\n",
      "Processing /workspace/G_Project/DEAP_Dataset/data_preprocessed_matlab/s32.mat ..........\n",
      "original EEG data size: (40, 40, 8064)\n",
      "transpose EEG data size: (40, 8064, 40)\n",
      "DE before norm data size: (60, 32)\n",
      "DE after norm data size: (60, 32)\n",
      "DE segment signal without transition data size: (60, 32)\n",
      "DE 1D to 2D data size: (60, 9, 9)\n",
      "DE reshape data size: (1, 60, 9, 9)\n",
      "Total DE_FEATURE data size: (40, 60, 9, 9)\n",
      "end time: time.struct_time(tm_year=2023, tm_mon=8, tm_mday=16, tm_hour=15, tm_min=1, tm_sec=17, tm_wday=2, tm_yday=228, tm_isdst=0)\n",
      "time consuming: 35.158918380737305\n",
      "Processing /workspace/G_Project/DEAP_Dataset/data_preprocessed_matlab/s20.mat ..........\n",
      "original EEG data size: (40, 40, 8064)\n",
      "transpose EEG data size: (40, 8064, 40)\n",
      "DE before norm data size: (60, 32)\n",
      "DE after norm data size: (60, 32)\n",
      "DE segment signal without transition data size: (60, 32)\n",
      "DE 1D to 2D data size: (60, 9, 9)\n",
      "DE reshape data size: (1, 60, 9, 9)\n",
      "Total DE_FEATURE data size: (40, 60, 9, 9)\n",
      "end time: time.struct_time(tm_year=2023, tm_mon=8, tm_mday=16, tm_hour=15, tm_min=1, tm_sec=24, tm_wday=2, tm_yday=228, tm_isdst=0)\n",
      "time consuming: 42.15625715255737\n",
      "Processing /workspace/G_Project/DEAP_Dataset/data_preprocessed_matlab/s22.mat ..........\n",
      "original EEG data size: (40, 40, 8064)\n",
      "transpose EEG data size: (40, 8064, 40)\n",
      "DE before norm data size: (60, 32)\n",
      "DE after norm data size: (60, 32)\n",
      "DE segment signal without transition data size: (60, 32)\n",
      "DE 1D to 2D data size: (60, 9, 9)\n",
      "DE reshape data size: (1, 60, 9, 9)\n",
      "Total DE_FEATURE data size: (40, 60, 9, 9)\n",
      "end time: time.struct_time(tm_year=2023, tm_mon=8, tm_mday=16, tm_hour=15, tm_min=1, tm_sec=31, tm_wday=2, tm_yday=228, tm_isdst=0)\n",
      "time consuming: 49.157845973968506\n",
      "Processing /workspace/G_Project/DEAP_Dataset/data_preprocessed_matlab/s19.mat ..........\n",
      "original EEG data size: (40, 40, 8064)\n",
      "transpose EEG data size: (40, 8064, 40)\n",
      "DE before norm data size: (60, 32)\n",
      "DE after norm data size: (60, 32)\n",
      "DE segment signal without transition data size: (60, 32)\n",
      "DE 1D to 2D data size: (60, 9, 9)\n",
      "DE reshape data size: (1, 60, 9, 9)\n",
      "Total DE_FEATURE data size: (40, 60, 9, 9)\n",
      "end time: time.struct_time(tm_year=2023, tm_mon=8, tm_mday=16, tm_hour=15, tm_min=1, tm_sec=38, tm_wday=2, tm_yday=228, tm_isdst=0)\n",
      "time consuming: 56.173266887664795\n",
      "Processing /workspace/G_Project/DEAP_Dataset/data_preprocessed_matlab/s05.mat ..........\n",
      "original EEG data size: (40, 40, 8064)\n",
      "transpose EEG data size: (40, 8064, 40)\n",
      "DE before norm data size: (60, 32)\n",
      "DE after norm data size: (60, 32)\n",
      "DE segment signal without transition data size: (60, 32)\n",
      "DE 1D to 2D data size: (60, 9, 9)\n",
      "DE reshape data size: (1, 60, 9, 9)\n",
      "Total DE_FEATURE data size: (40, 60, 9, 9)\n",
      "end time: time.struct_time(tm_year=2023, tm_mon=8, tm_mday=16, tm_hour=15, tm_min=1, tm_sec=45, tm_wday=2, tm_yday=228, tm_isdst=0)\n",
      "time consuming: 63.18718910217285\n",
      "Processing /workspace/G_Project/DEAP_Dataset/data_preprocessed_matlab/s29.mat ..........\n",
      "original EEG data size: (40, 40, 8064)\n",
      "transpose EEG data size: (40, 8064, 40)\n",
      "DE before norm data size: (60, 32)\n",
      "DE after norm data size: (60, 32)\n",
      "DE segment signal without transition data size: (60, 32)\n",
      "DE 1D to 2D data size: (60, 9, 9)\n",
      "DE reshape data size: (1, 60, 9, 9)\n",
      "Total DE_FEATURE data size: (40, 60, 9, 9)\n",
      "end time: time.struct_time(tm_year=2023, tm_mon=8, tm_mday=16, tm_hour=15, tm_min=1, tm_sec=52, tm_wday=2, tm_yday=228, tm_isdst=0)\n",
      "time consuming: 70.19731044769287\n",
      "Processing /workspace/G_Project/DEAP_Dataset/data_preprocessed_matlab/s10.mat ..........\n",
      "original EEG data size: (40, 40, 8064)\n",
      "transpose EEG data size: (40, 8064, 40)\n",
      "DE before norm data size: (60, 32)\n",
      "DE after norm data size: (60, 32)\n",
      "DE segment signal without transition data size: (60, 32)\n",
      "DE 1D to 2D data size: (60, 9, 9)\n",
      "DE reshape data size: (1, 60, 9, 9)\n",
      "Total DE_FEATURE data size: (40, 60, 9, 9)\n",
      "end time: time.struct_time(tm_year=2023, tm_mon=8, tm_mday=16, tm_hour=15, tm_min=1, tm_sec=59, tm_wday=2, tm_yday=228, tm_isdst=0)\n",
      "time consuming: 77.20599508285522\n",
      "Processing /workspace/G_Project/DEAP_Dataset/data_preprocessed_matlab/s16.mat ..........\n",
      "original EEG data size: (40, 40, 8064)\n",
      "transpose EEG data size: (40, 8064, 40)\n",
      "DE before norm data size: (60, 32)\n",
      "DE after norm data size: (60, 32)\n",
      "DE segment signal without transition data size: (60, 32)\n",
      "DE 1D to 2D data size: (60, 9, 9)\n",
      "DE reshape data size: (1, 60, 9, 9)\n",
      "Total DE_FEATURE data size: (40, 60, 9, 9)\n",
      "end time: time.struct_time(tm_year=2023, tm_mon=8, tm_mday=16, tm_hour=15, tm_min=2, tm_sec=6, tm_wday=2, tm_yday=228, tm_isdst=0)\n",
      "time consuming: 84.22822141647339\n",
      "Processing /workspace/G_Project/DEAP_Dataset/data_preprocessed_matlab/s02.mat ..........\n",
      "original EEG data size: (40, 40, 8064)\n",
      "transpose EEG data size: (40, 8064, 40)\n",
      "DE before norm data size: (60, 32)\n",
      "DE after norm data size: (60, 32)\n",
      "DE segment signal without transition data size: (60, 32)\n",
      "DE 1D to 2D data size: (60, 9, 9)\n",
      "DE reshape data size: (1, 60, 9, 9)\n",
      "Total DE_FEATURE data size: (40, 60, 9, 9)\n",
      "end time: time.struct_time(tm_year=2023, tm_mon=8, tm_mday=16, tm_hour=15, tm_min=2, tm_sec=13, tm_wday=2, tm_yday=228, tm_isdst=0)\n",
      "time consuming: 91.24507641792297\n",
      "Processing /workspace/G_Project/DEAP_Dataset/data_preprocessed_matlab/s28.mat ..........\n",
      "original EEG data size: (40, 40, 8064)\n",
      "transpose EEG data size: (40, 8064, 40)\n",
      "DE before norm data size: (60, 32)\n",
      "DE after norm data size: (60, 32)\n",
      "DE segment signal without transition data size: (60, 32)\n",
      "DE 1D to 2D data size: (60, 9, 9)\n",
      "DE reshape data size: (1, 60, 9, 9)\n",
      "Total DE_FEATURE data size: (40, 60, 9, 9)\n",
      "end time: time.struct_time(tm_year=2023, tm_mon=8, tm_mday=16, tm_hour=15, tm_min=2, tm_sec=20, tm_wday=2, tm_yday=228, tm_isdst=0)\n",
      "time consuming: 98.27776193618774\n",
      "Processing /workspace/G_Project/DEAP_Dataset/data_preprocessed_matlab/s03.mat ..........\n",
      "original EEG data size: (40, 40, 8064)\n",
      "transpose EEG data size: (40, 8064, 40)\n",
      "DE before norm data size: (60, 32)\n",
      "DE after norm data size: (60, 32)\n",
      "DE segment signal without transition data size: (60, 32)\n",
      "DE 1D to 2D data size: (60, 9, 9)\n",
      "DE reshape data size: (1, 60, 9, 9)\n",
      "Total DE_FEATURE data size: (40, 60, 9, 9)\n",
      "end time: time.struct_time(tm_year=2023, tm_mon=8, tm_mday=16, tm_hour=15, tm_min=2, tm_sec=27, tm_wday=2, tm_yday=228, tm_isdst=0)\n",
      "time consuming: 105.31212329864502\n",
      "Processing /workspace/G_Project/DEAP_Dataset/data_preprocessed_matlab/s01.mat ..........\n",
      "original EEG data size: (40, 40, 8064)\n",
      "transpose EEG data size: (40, 8064, 40)\n",
      "DE before norm data size: (60, 32)\n",
      "DE after norm data size: (60, 32)\n",
      "DE segment signal without transition data size: (60, 32)\n",
      "DE 1D to 2D data size: (60, 9, 9)\n",
      "DE reshape data size: (1, 60, 9, 9)\n",
      "Total DE_FEATURE data size: (40, 60, 9, 9)\n",
      "end time: time.struct_time(tm_year=2023, tm_mon=8, tm_mday=16, tm_hour=15, tm_min=2, tm_sec=34, tm_wday=2, tm_yday=228, tm_isdst=0)\n",
      "time consuming: 112.3355643749237\n",
      "Processing /workspace/G_Project/DEAP_Dataset/data_preprocessed_matlab/s13.mat ..........\n",
      "original EEG data size: (40, 40, 8064)\n",
      "transpose EEG data size: (40, 8064, 40)\n",
      "DE before norm data size: (60, 32)\n",
      "DE after norm data size: (60, 32)\n",
      "DE segment signal without transition data size: (60, 32)\n",
      "DE 1D to 2D data size: (60, 9, 9)\n",
      "DE reshape data size: (1, 60, 9, 9)\n",
      "Total DE_FEATURE data size: (40, 60, 9, 9)\n",
      "end time: time.struct_time(tm_year=2023, tm_mon=8, tm_mday=16, tm_hour=15, tm_min=2, tm_sec=41, tm_wday=2, tm_yday=228, tm_isdst=0)\n",
      "time consuming: 119.33889842033386\n",
      "Processing /workspace/G_Project/DEAP_Dataset/data_preprocessed_matlab/s08.mat ..........\n",
      "original EEG data size: (40, 40, 8064)\n",
      "transpose EEG data size: (40, 8064, 40)\n",
      "DE before norm data size: (60, 32)\n",
      "DE after norm data size: (60, 32)\n",
      "DE segment signal without transition data size: (60, 32)\n",
      "DE 1D to 2D data size: (60, 9, 9)\n",
      "DE reshape data size: (1, 60, 9, 9)\n",
      "Total DE_FEATURE data size: (40, 60, 9, 9)\n",
      "end time: time.struct_time(tm_year=2023, tm_mon=8, tm_mday=16, tm_hour=15, tm_min=2, tm_sec=48, tm_wday=2, tm_yday=228, tm_isdst=0)\n",
      "time consuming: 126.36116909980774\n",
      "Processing /workspace/G_Project/DEAP_Dataset/data_preprocessed_matlab/s07.mat ..........\n",
      "original EEG data size: (40, 40, 8064)\n",
      "transpose EEG data size: (40, 8064, 40)\n",
      "DE before norm data size: (60, 32)\n",
      "DE after norm data size: (60, 32)\n",
      "DE segment signal without transition data size: (60, 32)\n",
      "DE 1D to 2D data size: (60, 9, 9)\n",
      "DE reshape data size: (1, 60, 9, 9)\n",
      "Total DE_FEATURE data size: (40, 60, 9, 9)\n",
      "end time: time.struct_time(tm_year=2023, tm_mon=8, tm_mday=16, tm_hour=15, tm_min=2, tm_sec=55, tm_wday=2, tm_yday=228, tm_isdst=0)\n",
      "time consuming: 133.3715591430664\n",
      "Processing /workspace/G_Project/DEAP_Dataset/data_preprocessed_matlab/s11.mat ..........\n",
      "original EEG data size: (40, 40, 8064)\n",
      "transpose EEG data size: (40, 8064, 40)\n",
      "DE before norm data size: (60, 32)\n",
      "DE after norm data size: (60, 32)\n",
      "DE segment signal without transition data size: (60, 32)\n",
      "DE 1D to 2D data size: (60, 9, 9)\n",
      "DE reshape data size: (1, 60, 9, 9)\n",
      "Total DE_FEATURE data size: (40, 60, 9, 9)\n",
      "end time: time.struct_time(tm_year=2023, tm_mon=8, tm_mday=16, tm_hour=15, tm_min=3, tm_sec=2, tm_wday=2, tm_yday=228, tm_isdst=0)\n",
      "time consuming: 140.3861334323883\n",
      "Processing /workspace/G_Project/DEAP_Dataset/data_preprocessed_matlab/s27.mat ..........\n",
      "original EEG data size: (40, 40, 8064)\n",
      "transpose EEG data size: (40, 8064, 40)\n",
      "DE before norm data size: (60, 32)\n",
      "DE after norm data size: (60, 32)\n",
      "DE segment signal without transition data size: (60, 32)\n",
      "DE 1D to 2D data size: (60, 9, 9)\n",
      "DE reshape data size: (1, 60, 9, 9)\n",
      "Total DE_FEATURE data size: (40, 60, 9, 9)\n",
      "end time: time.struct_time(tm_year=2023, tm_mon=8, tm_mday=16, tm_hour=15, tm_min=3, tm_sec=10, tm_wday=2, tm_yday=228, tm_isdst=0)\n",
      "time consuming: 147.4101312160492\n",
      "Processing /workspace/G_Project/DEAP_Dataset/data_preprocessed_matlab/s06.mat ..........\n",
      "original EEG data size: (40, 40, 8064)\n",
      "transpose EEG data size: (40, 8064, 40)\n",
      "DE before norm data size: (60, 32)\n",
      "DE after norm data size: (60, 32)\n",
      "DE segment signal without transition data size: (60, 32)\n",
      "DE 1D to 2D data size: (60, 9, 9)\n",
      "DE reshape data size: (1, 60, 9, 9)\n",
      "Total DE_FEATURE data size: (40, 60, 9, 9)\n",
      "end time: time.struct_time(tm_year=2023, tm_mon=8, tm_mday=16, tm_hour=15, tm_min=3, tm_sec=17, tm_wday=2, tm_yday=228, tm_isdst=0)\n",
      "time consuming: 154.4494128227234\n",
      "Processing /workspace/G_Project/DEAP_Dataset/data_preprocessed_matlab/s12.mat ..........\n",
      "original EEG data size: (40, 40, 8064)\n",
      "transpose EEG data size: (40, 8064, 40)\n",
      "DE before norm data size: (60, 32)\n",
      "DE after norm data size: (60, 32)\n",
      "DE segment signal without transition data size: (60, 32)\n",
      "DE 1D to 2D data size: (60, 9, 9)\n",
      "DE reshape data size: (1, 60, 9, 9)\n",
      "Total DE_FEATURE data size: (40, 60, 9, 9)\n",
      "end time: time.struct_time(tm_year=2023, tm_mon=8, tm_mday=16, tm_hour=15, tm_min=3, tm_sec=24, tm_wday=2, tm_yday=228, tm_isdst=0)\n",
      "time consuming: 161.46201372146606\n",
      "Processing /workspace/G_Project/DEAP_Dataset/data_preprocessed_matlab/s25.mat ..........\n",
      "original EEG data size: (40, 40, 8064)\n",
      "transpose EEG data size: (40, 8064, 40)\n",
      "DE before norm data size: (60, 32)\n",
      "DE after norm data size: (60, 32)\n",
      "DE segment signal without transition data size: (60, 32)\n",
      "DE 1D to 2D data size: (60, 9, 9)\n",
      "DE reshape data size: (1, 60, 9, 9)\n",
      "Total DE_FEATURE data size: (40, 60, 9, 9)\n",
      "end time: time.struct_time(tm_year=2023, tm_mon=8, tm_mday=16, tm_hour=15, tm_min=3, tm_sec=31, tm_wday=2, tm_yday=228, tm_isdst=0)\n",
      "time consuming: 168.51401591300964\n",
      "Processing /workspace/G_Project/DEAP_Dataset/data_preprocessed_matlab/s09.mat ..........\n",
      "original EEG data size: (40, 40, 8064)\n",
      "transpose EEG data size: (40, 8064, 40)\n",
      "DE before norm data size: (60, 32)\n",
      "DE after norm data size: (60, 32)\n",
      "DE segment signal without transition data size: (60, 32)\n",
      "DE 1D to 2D data size: (60, 9, 9)\n",
      "DE reshape data size: (1, 60, 9, 9)\n",
      "Total DE_FEATURE data size: (40, 60, 9, 9)\n",
      "end time: time.struct_time(tm_year=2023, tm_mon=8, tm_mday=16, tm_hour=15, tm_min=3, tm_sec=38, tm_wday=2, tm_yday=228, tm_isdst=0)\n",
      "time consuming: 175.54293203353882\n",
      "Processing /workspace/G_Project/DEAP_Dataset/data_preprocessed_matlab/s15.mat ..........\n",
      "original EEG data size: (40, 40, 8064)\n",
      "transpose EEG data size: (40, 8064, 40)\n",
      "DE before norm data size: (60, 32)\n",
      "DE after norm data size: (60, 32)\n",
      "DE segment signal without transition data size: (60, 32)\n",
      "DE 1D to 2D data size: (60, 9, 9)\n",
      "DE reshape data size: (1, 60, 9, 9)\n",
      "Total DE_FEATURE data size: (40, 60, 9, 9)\n",
      "end time: time.struct_time(tm_year=2023, tm_mon=8, tm_mday=16, tm_hour=15, tm_min=3, tm_sec=45, tm_wday=2, tm_yday=228, tm_isdst=0)\n",
      "time consuming: 182.56224966049194\n",
      "Processing /workspace/G_Project/DEAP_Dataset/data_preprocessed_matlab/s04.mat ..........\n",
      "original EEG data size: (40, 40, 8064)\n",
      "transpose EEG data size: (40, 8064, 40)\n",
      "DE before norm data size: (60, 32)\n",
      "DE after norm data size: (60, 32)\n",
      "DE segment signal without transition data size: (60, 32)\n",
      "DE 1D to 2D data size: (60, 9, 9)\n",
      "DE reshape data size: (1, 60, 9, 9)\n",
      "Total DE_FEATURE data size: (40, 60, 9, 9)\n",
      "end time: time.struct_time(tm_year=2023, tm_mon=8, tm_mday=16, tm_hour=15, tm_min=3, tm_sec=52, tm_wday=2, tm_yday=228, tm_isdst=0)\n",
      "time consuming: 189.5848867893219\n",
      "Processing /workspace/G_Project/DEAP_Dataset/data_preprocessed_matlab/s31.mat ..........\n",
      "original EEG data size: (40, 40, 8064)\n",
      "transpose EEG data size: (40, 8064, 40)\n",
      "DE before norm data size: (60, 32)\n",
      "DE after norm data size: (60, 32)\n",
      "DE segment signal without transition data size: (60, 32)\n",
      "DE 1D to 2D data size: (60, 9, 9)\n",
      "DE reshape data size: (1, 60, 9, 9)\n",
      "Total DE_FEATURE data size: (40, 60, 9, 9)\n",
      "end time: time.struct_time(tm_year=2023, tm_mon=8, tm_mday=16, tm_hour=15, tm_min=3, tm_sec=59, tm_wday=2, tm_yday=228, tm_isdst=0)\n",
      "time consuming: 196.60540866851807\n",
      "Processing /workspace/G_Project/DEAP_Dataset/data_preprocessed_matlab/s17.mat ..........\n",
      "original EEG data size: (40, 40, 8064)\n",
      "transpose EEG data size: (40, 8064, 40)\n",
      "DE before norm data size: (60, 32)\n",
      "DE after norm data size: (60, 32)\n",
      "DE segment signal without transition data size: (60, 32)\n",
      "DE 1D to 2D data size: (60, 9, 9)\n",
      "DE reshape data size: (1, 60, 9, 9)\n",
      "Total DE_FEATURE data size: (40, 60, 9, 9)\n",
      "end time: time.struct_time(tm_year=2023, tm_mon=8, tm_mday=16, tm_hour=15, tm_min=4, tm_sec=6, tm_wday=2, tm_yday=228, tm_isdst=0)\n",
      "time consuming: 203.61804175376892\n",
      "Processing /workspace/G_Project/DEAP_Dataset/data_preprocessed_matlab/s30.mat ..........\n",
      "original EEG data size: (40, 40, 8064)\n",
      "transpose EEG data size: (40, 8064, 40)\n",
      "DE before norm data size: (60, 32)\n",
      "DE after norm data size: (60, 32)\n",
      "DE segment signal without transition data size: (60, 32)\n",
      "DE 1D to 2D data size: (60, 9, 9)\n",
      "DE reshape data size: (1, 60, 9, 9)\n",
      "Total DE_FEATURE data size: (40, 60, 9, 9)\n",
      "end time: time.struct_time(tm_year=2023, tm_mon=8, tm_mday=16, tm_hour=15, tm_min=4, tm_sec=13, tm_wday=2, tm_yday=228, tm_isdst=0)\n",
      "time consuming: 210.66516304016113\n",
      "Processing /workspace/G_Project/DEAP_Dataset/data_preprocessed_matlab/s26.mat ..........\n",
      "original EEG data size: (40, 40, 8064)\n",
      "transpose EEG data size: (40, 8064, 40)\n",
      "DE before norm data size: (60, 32)\n",
      "DE after norm data size: (60, 32)\n",
      "DE segment signal without transition data size: (60, 32)\n",
      "DE 1D to 2D data size: (60, 9, 9)\n",
      "DE reshape data size: (1, 60, 9, 9)\n",
      "Total DE_FEATURE data size: (40, 60, 9, 9)\n",
      "end time: time.struct_time(tm_year=2023, tm_mon=8, tm_mday=16, tm_hour=15, tm_min=4, tm_sec=20, tm_wday=2, tm_yday=228, tm_isdst=0)\n",
      "time consuming: 217.70140862464905\n",
      "Processing /workspace/G_Project/DEAP_Dataset/data_preprocessed_matlab/s14.mat ..........\n",
      "original EEG data size: (40, 40, 8064)\n",
      "transpose EEG data size: (40, 8064, 40)\n",
      "DE before norm data size: (60, 32)\n",
      "DE after norm data size: (60, 32)\n",
      "DE segment signal without transition data size: (60, 32)\n",
      "DE 1D to 2D data size: (60, 9, 9)\n",
      "DE reshape data size: (1, 60, 9, 9)\n",
      "Total DE_FEATURE data size: (40, 60, 9, 9)\n",
      "end time: time.struct_time(tm_year=2023, tm_mon=8, tm_mday=16, tm_hour=15, tm_min=4, tm_sec=27, tm_wday=2, tm_yday=228, tm_isdst=0)\n",
      "time consuming: 224.68756103515625\n"
     ]
    }
   ],
   "source": [
    "begin = time.time()\n",
    "print(\"time begin:\",time.localtime())\n",
    "\n",
    "dataset_dir = \"/workspace/G_Project/DEAP_Dataset/data_preprocessed_matlab\"\n",
    "window_size = 128\n",
    "output_dir = \"/workspace/G_Project/DEAP_Dataset/Feature_Extraction/\"\n",
    "label_class = \"arousal\"     # arousal/valence\n",
    "basemean = \"no\"     # yes/no (using baseline signals or not)\n",
    "\n",
    "record_list = [task for task in os.listdir(dataset_dir) if os.path.isfile(os.path.join(dataset_dir,task))]\n",
    "output_EEG_dir = output_dir+\"DE_feature/\"+f\"basemean_{basemean}\"+\"/\"\n",
    "if os.path.isdir(output_EEG_dir)==False:\n",
    "    os.makedirs(output_EEG_dir)\n",
    "\n",
    "    \n",
    "for record in record_list:\n",
    "    file = os.path.join(dataset_dir,record)\n",
    "    data_inter_E,data_inter_C,label_inter = apply_mixup(file, window_size,label_class,basemean)\n",
    "    trials = data_inter_E.shape[0]\n",
    "\n",
    "    for trial in range(0,trials):\n",
    "        output_data_cnn = output_EEG_dir+record.split(\".\")[0]+f\"_trial{str(trial+1).zfill(2)}\"+\"_win_\"+str(window_size)+\".pkl\"\n",
    "\n",
    "        with open(output_data_cnn, \"wb\") as fp:\n",
    "            pickle.dump(data_inter_E[trial],fp, protocol=4)\n",
    "    end = time.time()\n",
    "    print(\"end time:\",time.localtime())\n",
    "    print(\"time consuming:\",(end-begin))"
   ]
  },
  {
   "cell_type": "markdown",
   "metadata": {},
   "source": [
    "##### save .pt"
   ]
  },
  {
   "cell_type": "code",
   "execution_count": 133,
   "metadata": {},
   "outputs": [
    {
     "name": "stderr",
     "output_type": "stream",
     "text": [
      "  0%|          | 0/32 [00:00<?, ?it/s]"
     ]
    },
    {
     "name": "stdout",
     "output_type": "stream",
     "text": [
      "Processing /workspace/G_Project/DEAP_Dataset/data_preprocessed_matlab/s01.mat ..........\n",
      "original EEG data size: (40, 40, 8064)\n",
      "transpose EEG data size: (40, 8064, 40)\n",
      "40번 반복\n",
      "base signal data size (128, 32)\n",
      "DE before norm data size: (60, 32)\n",
      "DE after norm data size: (60, 32)\n",
      "DE segment signal without transition data size: (60, 32)\n",
      "DE 1D to 2D data size: (60, 9, 9)\n",
      "DE reshape data size: (1, 60, 9, 9)\n"
     ]
    },
    {
     "name": "stderr",
     "output_type": "stream",
     "text": [
      "  3%|▎         | 1/32 [00:07<03:37,  7.01s/it]"
     ]
    },
    {
     "name": "stdout",
     "output_type": "stream",
     "text": [
      "Total DE_FEATURE data size: (40, 60, 9, 9)\n",
      "Processing /workspace/G_Project/DEAP_Dataset/data_preprocessed_matlab/s02.mat ..........\n",
      "original EEG data size: (40, 40, 8064)\n",
      "transpose EEG data size: (40, 8064, 40)\n",
      "40번 반복\n",
      "base signal data size (128, 32)\n",
      "DE before norm data size: (60, 32)\n",
      "DE after norm data size: (60, 32)\n",
      "DE segment signal without transition data size: (60, 32)\n",
      "DE 1D to 2D data size: (60, 9, 9)\n",
      "DE reshape data size: (1, 60, 9, 9)\n"
     ]
    },
    {
     "name": "stderr",
     "output_type": "stream",
     "text": [
      "  6%|▋         | 2/32 [00:14<03:30,  7.00s/it]"
     ]
    },
    {
     "name": "stdout",
     "output_type": "stream",
     "text": [
      "Total DE_FEATURE data size: (40, 60, 9, 9)\n",
      "Processing /workspace/G_Project/DEAP_Dataset/data_preprocessed_matlab/s03.mat ..........\n",
      "original EEG data size: (40, 40, 8064)\n",
      "transpose EEG data size: (40, 8064, 40)\n",
      "40번 반복\n",
      "base signal data size (128, 32)\n",
      "DE before norm data size: (60, 32)\n",
      "DE after norm data size: (60, 32)\n",
      "DE segment signal without transition data size: (60, 32)\n",
      "DE 1D to 2D data size: (60, 9, 9)\n",
      "DE reshape data size: (1, 60, 9, 9)\n"
     ]
    },
    {
     "name": "stderr",
     "output_type": "stream",
     "text": [
      "  9%|▉         | 3/32 [00:20<03:22,  6.99s/it]"
     ]
    },
    {
     "name": "stdout",
     "output_type": "stream",
     "text": [
      "Total DE_FEATURE data size: (40, 60, 9, 9)\n",
      "Processing /workspace/G_Project/DEAP_Dataset/data_preprocessed_matlab/s04.mat ..........\n",
      "original EEG data size: (40, 40, 8064)\n",
      "transpose EEG data size: (40, 8064, 40)\n",
      "40번 반복\n",
      "base signal data size (128, 32)\n",
      "DE before norm data size: (60, 32)\n",
      "DE after norm data size: (60, 32)\n",
      "DE segment signal without transition data size: (60, 32)\n",
      "DE 1D to 2D data size: (60, 9, 9)\n",
      "DE reshape data size: (1, 60, 9, 9)\n"
     ]
    },
    {
     "name": "stderr",
     "output_type": "stream",
     "text": [
      " 12%|█▎        | 4/32 [00:27<03:15,  6.98s/it]"
     ]
    },
    {
     "name": "stdout",
     "output_type": "stream",
     "text": [
      "Total DE_FEATURE data size: (40, 60, 9, 9)\n",
      "Processing /workspace/G_Project/DEAP_Dataset/data_preprocessed_matlab/s05.mat ..........\n",
      "original EEG data size: (40, 40, 8064)\n",
      "transpose EEG data size: (40, 8064, 40)\n",
      "40번 반복\n",
      "base signal data size (128, 32)\n",
      "DE before norm data size: (60, 32)\n",
      "DE after norm data size: (60, 32)\n",
      "DE segment signal without transition data size: (60, 32)\n",
      "DE 1D to 2D data size: (60, 9, 9)\n",
      "DE reshape data size: (1, 60, 9, 9)\n"
     ]
    },
    {
     "name": "stderr",
     "output_type": "stream",
     "text": [
      " 16%|█▌        | 5/32 [00:34<03:08,  6.98s/it]"
     ]
    },
    {
     "name": "stdout",
     "output_type": "stream",
     "text": [
      "Total DE_FEATURE data size: (40, 60, 9, 9)\n",
      "Processing /workspace/G_Project/DEAP_Dataset/data_preprocessed_matlab/s06.mat ..........\n",
      "original EEG data size: (40, 40, 8064)\n",
      "transpose EEG data size: (40, 8064, 40)\n",
      "40번 반복\n",
      "base signal data size (128, 32)\n",
      "DE before norm data size: (60, 32)\n",
      "DE after norm data size: (60, 32)\n",
      "DE segment signal without transition data size: (60, 32)\n",
      "DE 1D to 2D data size: (60, 9, 9)\n",
      "DE reshape data size: (1, 60, 9, 9)\n"
     ]
    },
    {
     "name": "stderr",
     "output_type": "stream",
     "text": [
      " 19%|█▉        | 6/32 [00:41<03:01,  6.98s/it]"
     ]
    },
    {
     "name": "stdout",
     "output_type": "stream",
     "text": [
      "Total DE_FEATURE data size: (40, 60, 9, 9)\n",
      "Processing /workspace/G_Project/DEAP_Dataset/data_preprocessed_matlab/s07.mat ..........\n",
      "original EEG data size: (40, 40, 8064)\n",
      "transpose EEG data size: (40, 8064, 40)\n",
      "40번 반복\n",
      "base signal data size (128, 32)\n",
      "DE before norm data size: (60, 32)\n",
      "DE after norm data size: (60, 32)\n",
      "DE segment signal without transition data size: (60, 32)\n",
      "DE 1D to 2D data size: (60, 9, 9)\n",
      "DE reshape data size: (1, 60, 9, 9)\n"
     ]
    },
    {
     "name": "stderr",
     "output_type": "stream",
     "text": [
      " 22%|██▏       | 7/32 [00:48<02:54,  6.99s/it]"
     ]
    },
    {
     "name": "stdout",
     "output_type": "stream",
     "text": [
      "Total DE_FEATURE data size: (40, 60, 9, 9)\n",
      "Processing /workspace/G_Project/DEAP_Dataset/data_preprocessed_matlab/s08.mat ..........\n",
      "original EEG data size: (40, 40, 8064)\n",
      "transpose EEG data size: (40, 8064, 40)\n",
      "40번 반복\n",
      "base signal data size (128, 32)\n",
      "DE before norm data size: (60, 32)\n",
      "DE after norm data size: (60, 32)\n",
      "DE segment signal without transition data size: (60, 32)\n",
      "DE 1D to 2D data size: (60, 9, 9)\n",
      "DE reshape data size: (1, 60, 9, 9)\n"
     ]
    },
    {
     "name": "stderr",
     "output_type": "stream",
     "text": [
      " 25%|██▌       | 8/32 [00:55<02:48,  7.00s/it]"
     ]
    },
    {
     "name": "stdout",
     "output_type": "stream",
     "text": [
      "Total DE_FEATURE data size: (40, 60, 9, 9)\n",
      "Processing /workspace/G_Project/DEAP_Dataset/data_preprocessed_matlab/s09.mat ..........\n",
      "original EEG data size: (40, 40, 8064)\n",
      "transpose EEG data size: (40, 8064, 40)\n",
      "40번 반복\n",
      "base signal data size (128, 32)\n",
      "DE before norm data size: (60, 32)\n",
      "DE after norm data size: (60, 32)\n",
      "DE segment signal without transition data size: (60, 32)\n",
      "DE 1D to 2D data size: (60, 9, 9)\n",
      "DE reshape data size: (1, 60, 9, 9)\n"
     ]
    },
    {
     "name": "stderr",
     "output_type": "stream",
     "text": [
      " 28%|██▊       | 9/32 [01:02<02:40,  7.00s/it]"
     ]
    },
    {
     "name": "stdout",
     "output_type": "stream",
     "text": [
      "Total DE_FEATURE data size: (40, 60, 9, 9)\n",
      "Processing /workspace/G_Project/DEAP_Dataset/data_preprocessed_matlab/s10.mat ..........\n",
      "original EEG data size: (40, 40, 8064)\n",
      "transpose EEG data size: (40, 8064, 40)\n",
      "40번 반복\n",
      "base signal data size (128, 32)\n",
      "DE before norm data size: (60, 32)\n",
      "DE after norm data size: (60, 32)\n",
      "DE segment signal without transition data size: (60, 32)\n",
      "DE 1D to 2D data size: (60, 9, 9)\n",
      "DE reshape data size: (1, 60, 9, 9)\n"
     ]
    },
    {
     "name": "stderr",
     "output_type": "stream",
     "text": [
      " 31%|███▏      | 10/32 [01:09<02:33,  6.99s/it]"
     ]
    },
    {
     "name": "stdout",
     "output_type": "stream",
     "text": [
      "Total DE_FEATURE data size: (40, 60, 9, 9)\n",
      "Processing /workspace/G_Project/DEAP_Dataset/data_preprocessed_matlab/s11.mat ..........\n",
      "original EEG data size: (40, 40, 8064)\n",
      "transpose EEG data size: (40, 8064, 40)\n",
      "40번 반복\n",
      "base signal data size (128, 32)\n",
      "DE before norm data size: (60, 32)\n",
      "DE after norm data size: (60, 32)\n",
      "DE segment signal without transition data size: (60, 32)\n",
      "DE 1D to 2D data size: (60, 9, 9)\n",
      "DE reshape data size: (1, 60, 9, 9)\n"
     ]
    },
    {
     "name": "stderr",
     "output_type": "stream",
     "text": [
      " 34%|███▍      | 11/32 [01:16<02:26,  6.99s/it]"
     ]
    },
    {
     "name": "stdout",
     "output_type": "stream",
     "text": [
      "Total DE_FEATURE data size: (40, 60, 9, 9)\n",
      "Processing /workspace/G_Project/DEAP_Dataset/data_preprocessed_matlab/s12.mat ..........\n",
      "original EEG data size: (40, 40, 8064)\n",
      "transpose EEG data size: (40, 8064, 40)\n",
      "40번 반복\n",
      "base signal data size (128, 32)\n",
      "DE before norm data size: (60, 32)\n",
      "DE after norm data size: (60, 32)\n",
      "DE segment signal without transition data size: (60, 32)\n",
      "DE 1D to 2D data size: (60, 9, 9)\n",
      "DE reshape data size: (1, 60, 9, 9)\n"
     ]
    },
    {
     "name": "stderr",
     "output_type": "stream",
     "text": [
      " 38%|███▊      | 12/32 [01:23<02:19,  6.99s/it]"
     ]
    },
    {
     "name": "stdout",
     "output_type": "stream",
     "text": [
      "Total DE_FEATURE data size: (40, 60, 9, 9)\n",
      "Processing /workspace/G_Project/DEAP_Dataset/data_preprocessed_matlab/s13.mat ..........\n",
      "original EEG data size: (40, 40, 8064)\n",
      "transpose EEG data size: (40, 8064, 40)\n",
      "40번 반복\n",
      "base signal data size (128, 32)\n",
      "DE before norm data size: (60, 32)\n",
      "DE after norm data size: (60, 32)\n",
      "DE segment signal without transition data size: (60, 32)\n",
      "DE 1D to 2D data size: (60, 9, 9)\n",
      "DE reshape data size: (1, 60, 9, 9)\n"
     ]
    },
    {
     "name": "stderr",
     "output_type": "stream",
     "text": [
      " 41%|████      | 13/32 [01:30<02:13,  7.00s/it]"
     ]
    },
    {
     "name": "stdout",
     "output_type": "stream",
     "text": [
      "Total DE_FEATURE data size: (40, 60, 9, 9)\n",
      "Processing /workspace/G_Project/DEAP_Dataset/data_preprocessed_matlab/s14.mat ..........\n",
      "original EEG data size: (40, 40, 8064)\n",
      "transpose EEG data size: (40, 8064, 40)\n",
      "40번 반복\n",
      "base signal data size (128, 32)\n",
      "DE before norm data size: (60, 32)\n",
      "DE after norm data size: (60, 32)\n",
      "DE segment signal without transition data size: (60, 32)\n",
      "DE 1D to 2D data size: (60, 9, 9)\n",
      "DE reshape data size: (1, 60, 9, 9)\n"
     ]
    },
    {
     "name": "stderr",
     "output_type": "stream",
     "text": [
      " 44%|████▍     | 14/32 [01:37<02:06,  7.01s/it]"
     ]
    },
    {
     "name": "stdout",
     "output_type": "stream",
     "text": [
      "Total DE_FEATURE data size: (40, 60, 9, 9)\n",
      "Processing /workspace/G_Project/DEAP_Dataset/data_preprocessed_matlab/s15.mat ..........\n",
      "original EEG data size: (40, 40, 8064)\n",
      "transpose EEG data size: (40, 8064, 40)\n",
      "40번 반복\n",
      "base signal data size (128, 32)\n",
      "DE before norm data size: (60, 32)\n",
      "DE after norm data size: (60, 32)\n",
      "DE segment signal without transition data size: (60, 32)\n",
      "DE 1D to 2D data size: (60, 9, 9)\n",
      "DE reshape data size: (1, 60, 9, 9)\n"
     ]
    },
    {
     "name": "stderr",
     "output_type": "stream",
     "text": [
      " 47%|████▋     | 15/32 [01:44<01:59,  7.00s/it]"
     ]
    },
    {
     "name": "stdout",
     "output_type": "stream",
     "text": [
      "Total DE_FEATURE data size: (40, 60, 9, 9)\n",
      "Processing /workspace/G_Project/DEAP_Dataset/data_preprocessed_matlab/s16.mat ..........\n",
      "original EEG data size: (40, 40, 8064)\n",
      "transpose EEG data size: (40, 8064, 40)\n",
      "40번 반복\n",
      "base signal data size (128, 32)\n",
      "DE before norm data size: (60, 32)\n",
      "DE after norm data size: (60, 32)\n",
      "DE segment signal without transition data size: (60, 32)\n",
      "DE 1D to 2D data size: (60, 9, 9)\n",
      "DE reshape data size: (1, 60, 9, 9)\n"
     ]
    },
    {
     "name": "stderr",
     "output_type": "stream",
     "text": [
      " 50%|█████     | 16/32 [01:51<01:52,  7.02s/it]"
     ]
    },
    {
     "name": "stdout",
     "output_type": "stream",
     "text": [
      "Total DE_FEATURE data size: (40, 60, 9, 9)\n",
      "Processing /workspace/G_Project/DEAP_Dataset/data_preprocessed_matlab/s17.mat ..........\n",
      "original EEG data size: (40, 40, 8064)\n",
      "transpose EEG data size: (40, 8064, 40)\n",
      "40번 반복\n",
      "base signal data size (128, 32)\n",
      "DE before norm data size: (60, 32)\n",
      "DE after norm data size: (60, 32)\n",
      "DE segment signal without transition data size: (60, 32)\n",
      "DE 1D to 2D data size: (60, 9, 9)\n",
      "DE reshape data size: (1, 60, 9, 9)\n"
     ]
    },
    {
     "name": "stderr",
     "output_type": "stream",
     "text": [
      " 53%|█████▎    | 17/32 [01:58<01:45,  7.01s/it]"
     ]
    },
    {
     "name": "stdout",
     "output_type": "stream",
     "text": [
      "Total DE_FEATURE data size: (40, 60, 9, 9)\n",
      "Processing /workspace/G_Project/DEAP_Dataset/data_preprocessed_matlab/s18.mat ..........\n",
      "original EEG data size: (40, 40, 8064)\n",
      "transpose EEG data size: (40, 8064, 40)\n",
      "40번 반복\n",
      "base signal data size (128, 32)\n",
      "DE before norm data size: (60, 32)\n",
      "DE after norm data size: (60, 32)\n",
      "DE segment signal without transition data size: (60, 32)\n",
      "DE 1D to 2D data size: (60, 9, 9)\n",
      "DE reshape data size: (1, 60, 9, 9)\n"
     ]
    },
    {
     "name": "stderr",
     "output_type": "stream",
     "text": [
      " 56%|█████▋    | 18/32 [02:06<01:38,  7.03s/it]"
     ]
    },
    {
     "name": "stdout",
     "output_type": "stream",
     "text": [
      "Total DE_FEATURE data size: (40, 60, 9, 9)\n",
      "Processing /workspace/G_Project/DEAP_Dataset/data_preprocessed_matlab/s19.mat ..........\n",
      "original EEG data size: (40, 40, 8064)\n",
      "transpose EEG data size: (40, 8064, 40)\n",
      "40번 반복\n",
      "base signal data size (128, 32)\n",
      "DE before norm data size: (60, 32)\n",
      "DE after norm data size: (60, 32)\n",
      "DE segment signal without transition data size: (60, 32)\n",
      "DE 1D to 2D data size: (60, 9, 9)\n",
      "DE reshape data size: (1, 60, 9, 9)\n"
     ]
    },
    {
     "name": "stderr",
     "output_type": "stream",
     "text": [
      " 59%|█████▉    | 19/32 [02:13<01:31,  7.03s/it]"
     ]
    },
    {
     "name": "stdout",
     "output_type": "stream",
     "text": [
      "Total DE_FEATURE data size: (40, 60, 9, 9)\n",
      "Processing /workspace/G_Project/DEAP_Dataset/data_preprocessed_matlab/s20.mat ..........\n",
      "original EEG data size: (40, 40, 8064)\n",
      "transpose EEG data size: (40, 8064, 40)\n",
      "40번 반복\n",
      "base signal data size (128, 32)\n",
      "DE before norm data size: (60, 32)\n",
      "DE after norm data size: (60, 32)\n",
      "DE segment signal without transition data size: (60, 32)\n",
      "DE 1D to 2D data size: (60, 9, 9)\n",
      "DE reshape data size: (1, 60, 9, 9)\n"
     ]
    },
    {
     "name": "stderr",
     "output_type": "stream",
     "text": [
      " 62%|██████▎   | 20/32 [02:20<01:24,  7.03s/it]"
     ]
    },
    {
     "name": "stdout",
     "output_type": "stream",
     "text": [
      "Total DE_FEATURE data size: (40, 60, 9, 9)\n",
      "Processing /workspace/G_Project/DEAP_Dataset/data_preprocessed_matlab/s21.mat ..........\n",
      "original EEG data size: (40, 40, 8064)\n",
      "transpose EEG data size: (40, 8064, 40)\n",
      "40번 반복\n",
      "base signal data size (128, 32)\n",
      "DE before norm data size: (60, 32)\n",
      "DE after norm data size: (60, 32)\n",
      "DE segment signal without transition data size: (60, 32)\n",
      "DE 1D to 2D data size: (60, 9, 9)\n",
      "DE reshape data size: (1, 60, 9, 9)\n"
     ]
    },
    {
     "name": "stderr",
     "output_type": "stream",
     "text": [
      " 66%|██████▌   | 21/32 [02:27<01:17,  7.03s/it]"
     ]
    },
    {
     "name": "stdout",
     "output_type": "stream",
     "text": [
      "Total DE_FEATURE data size: (40, 60, 9, 9)\n",
      "Processing /workspace/G_Project/DEAP_Dataset/data_preprocessed_matlab/s22.mat ..........\n",
      "original EEG data size: (40, 40, 8064)\n",
      "transpose EEG data size: (40, 8064, 40)\n",
      "40번 반복\n",
      "base signal data size (128, 32)\n",
      "DE before norm data size: (60, 32)\n",
      "DE after norm data size: (60, 32)\n",
      "DE segment signal without transition data size: (60, 32)\n",
      "DE 1D to 2D data size: (60, 9, 9)\n",
      "DE reshape data size: (1, 60, 9, 9)\n"
     ]
    },
    {
     "name": "stderr",
     "output_type": "stream",
     "text": [
      " 69%|██████▉   | 22/32 [02:34<01:10,  7.02s/it]"
     ]
    },
    {
     "name": "stdout",
     "output_type": "stream",
     "text": [
      "Total DE_FEATURE data size: (40, 60, 9, 9)\n",
      "Processing /workspace/G_Project/DEAP_Dataset/data_preprocessed_matlab/s23.mat ..........\n",
      "original EEG data size: (40, 40, 8064)\n",
      "transpose EEG data size: (40, 8064, 40)\n",
      "40번 반복\n",
      "base signal data size (128, 32)\n",
      "DE before norm data size: (60, 32)\n",
      "DE after norm data size: (60, 32)\n",
      "DE segment signal without transition data size: (60, 32)\n",
      "DE 1D to 2D data size: (60, 9, 9)\n",
      "DE reshape data size: (1, 60, 9, 9)\n"
     ]
    },
    {
     "name": "stderr",
     "output_type": "stream",
     "text": [
      " 72%|███████▏  | 23/32 [02:41<01:03,  7.01s/it]"
     ]
    },
    {
     "name": "stdout",
     "output_type": "stream",
     "text": [
      "Total DE_FEATURE data size: (40, 60, 9, 9)\n",
      "Processing /workspace/G_Project/DEAP_Dataset/data_preprocessed_matlab/s24.mat ..........\n",
      "original EEG data size: (40, 40, 8064)\n",
      "transpose EEG data size: (40, 8064, 40)\n",
      "40번 반복\n",
      "base signal data size (128, 32)\n",
      "DE before norm data size: (60, 32)\n",
      "DE after norm data size: (60, 32)\n",
      "DE segment signal without transition data size: (60, 32)\n",
      "DE 1D to 2D data size: (60, 9, 9)\n",
      "DE reshape data size: (1, 60, 9, 9)\n"
     ]
    },
    {
     "name": "stderr",
     "output_type": "stream",
     "text": [
      " 75%|███████▌  | 24/32 [02:48<00:56,  7.01s/it]"
     ]
    },
    {
     "name": "stdout",
     "output_type": "stream",
     "text": [
      "Total DE_FEATURE data size: (40, 60, 9, 9)\n",
      "Processing /workspace/G_Project/DEAP_Dataset/data_preprocessed_matlab/s25.mat ..........\n",
      "original EEG data size: (40, 40, 8064)\n",
      "transpose EEG data size: (40, 8064, 40)\n",
      "40번 반복\n",
      "base signal data size (128, 32)\n",
      "DE before norm data size: (60, 32)\n",
      "DE after norm data size: (60, 32)\n",
      "DE segment signal without transition data size: (60, 32)\n",
      "DE 1D to 2D data size: (60, 9, 9)\n",
      "DE reshape data size: (1, 60, 9, 9)\n"
     ]
    },
    {
     "name": "stderr",
     "output_type": "stream",
     "text": [
      " 78%|███████▊  | 25/32 [02:55<00:49,  7.02s/it]"
     ]
    },
    {
     "name": "stdout",
     "output_type": "stream",
     "text": [
      "Total DE_FEATURE data size: (40, 60, 9, 9)\n",
      "Processing /workspace/G_Project/DEAP_Dataset/data_preprocessed_matlab/s26.mat ..........\n",
      "original EEG data size: (40, 40, 8064)\n",
      "transpose EEG data size: (40, 8064, 40)\n",
      "40번 반복\n",
      "base signal data size (128, 32)\n",
      "DE before norm data size: (60, 32)\n",
      "DE after norm data size: (60, 32)\n",
      "DE segment signal without transition data size: (60, 32)\n",
      "DE 1D to 2D data size: (60, 9, 9)\n",
      "DE reshape data size: (1, 60, 9, 9)\n"
     ]
    },
    {
     "name": "stderr",
     "output_type": "stream",
     "text": [
      " 81%|████████▏ | 26/32 [03:02<00:42,  7.01s/it]"
     ]
    },
    {
     "name": "stdout",
     "output_type": "stream",
     "text": [
      "Total DE_FEATURE data size: (40, 60, 9, 9)\n",
      "Processing /workspace/G_Project/DEAP_Dataset/data_preprocessed_matlab/s27.mat ..........\n",
      "original EEG data size: (40, 40, 8064)\n",
      "transpose EEG data size: (40, 8064, 40)\n",
      "40번 반복\n",
      "base signal data size (128, 32)\n",
      "DE before norm data size: (60, 32)\n",
      "DE after norm data size: (60, 32)\n",
      "DE segment signal without transition data size: (60, 32)\n",
      "DE 1D to 2D data size: (60, 9, 9)\n",
      "DE reshape data size: (1, 60, 9, 9)\n"
     ]
    },
    {
     "name": "stderr",
     "output_type": "stream",
     "text": [
      " 84%|████████▍ | 27/32 [03:09<00:35,  7.00s/it]"
     ]
    },
    {
     "name": "stdout",
     "output_type": "stream",
     "text": [
      "Total DE_FEATURE data size: (40, 60, 9, 9)\n",
      "Processing /workspace/G_Project/DEAP_Dataset/data_preprocessed_matlab/s28.mat ..........\n",
      "original EEG data size: (40, 40, 8064)\n",
      "transpose EEG data size: (40, 8064, 40)\n",
      "40번 반복\n",
      "base signal data size (128, 32)\n",
      "DE before norm data size: (60, 32)\n",
      "DE after norm data size: (60, 32)\n",
      "DE segment signal without transition data size: (60, 32)\n",
      "DE 1D to 2D data size: (60, 9, 9)\n",
      "DE reshape data size: (1, 60, 9, 9)\n"
     ]
    },
    {
     "name": "stderr",
     "output_type": "stream",
     "text": [
      " 88%|████████▊ | 28/32 [03:16<00:28,  7.01s/it]"
     ]
    },
    {
     "name": "stdout",
     "output_type": "stream",
     "text": [
      "Total DE_FEATURE data size: (40, 60, 9, 9)\n",
      "Processing /workspace/G_Project/DEAP_Dataset/data_preprocessed_matlab/s29.mat ..........\n",
      "original EEG data size: (40, 40, 8064)\n",
      "transpose EEG data size: (40, 8064, 40)\n",
      "40번 반복\n",
      "base signal data size (128, 32)\n",
      "DE before norm data size: (60, 32)\n",
      "DE after norm data size: (60, 32)\n",
      "DE segment signal without transition data size: (60, 32)\n",
      "DE 1D to 2D data size: (60, 9, 9)\n",
      "DE reshape data size: (1, 60, 9, 9)\n"
     ]
    },
    {
     "name": "stderr",
     "output_type": "stream",
     "text": [
      " 91%|█████████ | 29/32 [03:23<00:21,  7.00s/it]"
     ]
    },
    {
     "name": "stdout",
     "output_type": "stream",
     "text": [
      "Total DE_FEATURE data size: (40, 60, 9, 9)\n",
      "Processing /workspace/G_Project/DEAP_Dataset/data_preprocessed_matlab/s30.mat ..........\n",
      "original EEG data size: (40, 40, 8064)\n",
      "transpose EEG data size: (40, 8064, 40)\n",
      "40번 반복\n",
      "base signal data size (128, 32)\n",
      "DE before norm data size: (60, 32)\n",
      "DE after norm data size: (60, 32)\n",
      "DE segment signal without transition data size: (60, 32)\n",
      "DE 1D to 2D data size: (60, 9, 9)\n",
      "DE reshape data size: (1, 60, 9, 9)\n"
     ]
    },
    {
     "name": "stderr",
     "output_type": "stream",
     "text": [
      " 94%|█████████▍| 30/32 [03:30<00:14,  7.00s/it]"
     ]
    },
    {
     "name": "stdout",
     "output_type": "stream",
     "text": [
      "Total DE_FEATURE data size: (40, 60, 9, 9)\n",
      "Processing /workspace/G_Project/DEAP_Dataset/data_preprocessed_matlab/s31.mat ..........\n",
      "original EEG data size: (40, 40, 8064)\n",
      "transpose EEG data size: (40, 8064, 40)\n",
      "40번 반복\n",
      "base signal data size (128, 32)\n",
      "DE before norm data size: (60, 32)\n",
      "DE after norm data size: (60, 32)\n",
      "DE segment signal without transition data size: (60, 32)\n",
      "DE 1D to 2D data size: (60, 9, 9)\n",
      "DE reshape data size: (1, 60, 9, 9)\n"
     ]
    },
    {
     "name": "stderr",
     "output_type": "stream",
     "text": [
      " 97%|█████████▋| 31/32 [03:37<00:07,  7.00s/it]"
     ]
    },
    {
     "name": "stdout",
     "output_type": "stream",
     "text": [
      "Total DE_FEATURE data size: (40, 60, 9, 9)\n",
      "Processing /workspace/G_Project/DEAP_Dataset/data_preprocessed_matlab/s32.mat ..........\n",
      "original EEG data size: (40, 40, 8064)\n",
      "transpose EEG data size: (40, 8064, 40)\n",
      "40번 반복\n",
      "base signal data size (128, 32)\n",
      "DE before norm data size: (60, 32)\n",
      "DE after norm data size: (60, 32)\n",
      "DE segment signal without transition data size: (60, 32)\n",
      "DE 1D to 2D data size: (60, 9, 9)\n",
      "DE reshape data size: (1, 60, 9, 9)\n"
     ]
    },
    {
     "name": "stderr",
     "output_type": "stream",
     "text": [
      "100%|██████████| 32/32 [03:44<00:00,  7.01s/it]"
     ]
    },
    {
     "name": "stdout",
     "output_type": "stream",
     "text": [
      "Total DE_FEATURE data size: (40, 60, 9, 9)\n"
     ]
    },
    {
     "name": "stderr",
     "output_type": "stream",
     "text": [
      "\n"
     ]
    }
   ],
   "source": [
    "dataset_dir = \"/workspace/G_Project/DEAP_Dataset/data_preprocessed_matlab\"\n",
    "window_size = 128\n",
    "output_dir = \"/workspace/G_Project/DEAP_Dataset/Feature_Extraction/\"\n",
    "basemean = \"yes\"     # yes/no (using baseline signals or not)\n",
    "\n",
    "record_list = sorted([task for task in os.listdir(dataset_dir) if os.path.isfile(os.path.join(dataset_dir,task))])\n",
    "output_EEG_dir = output_dir+\"DE_feature/\"+f\"basemean_{basemean}_pt\"+\"/\"\n",
    "if os.path.isdir(output_EEG_dir)==False:\n",
    "    os.makedirs(output_EEG_dir)\n",
    "\n",
    "    \n",
    "for record in tqdm(record_list):\n",
    "    file = os.path.join(dataset_dir,record)\n",
    "    data_inter_E,data_inter_C,label_inter = apply_mixup(file, window_size,label_class,basemean)\n",
    "    trials = data_inter_E.shape[0]\n",
    "\n",
    "    for trial in range(0,trials):\n",
    "        output_data_cnn_path = output_EEG_dir+record.split(\".\")[0]+f\"_trial{str(trial+1).zfill(2)}\"+\"_win_\"+str(window_size)+\".pt\"\n",
    "        output_data_cnn_tensor = torch.tensor(data_inter_E[trial])\n",
    "\n",
    "        torch.save(output_data_cnn_tensor, output_data_cnn_path)"
   ]
  },
  {
   "cell_type": "code",
   "execution_count": 134,
   "metadata": {},
   "outputs": [
    {
     "name": "stderr",
     "output_type": "stream",
     "text": [
      "  0%|          | 0/32 [00:00<?, ?it/s]"
     ]
    },
    {
     "name": "stdout",
     "output_type": "stream",
     "text": [
      "Processing /workspace/G_Project/DEAP_Dataset/data_preprocessed_matlab/s01.mat ..........\n",
      "original EEG data size: (40, 40, 8064)\n",
      "transpose EEG data size: (40, 8064, 40)\n",
      "DE before norm data size: (60, 32)\n",
      "DE after norm data size: (60, 32)\n",
      "DE segment signal without transition data size: (60, 32)\n",
      "DE 1D to 2D data size: (60, 9, 9)\n",
      "DE reshape data size: (1, 60, 9, 9)\n"
     ]
    },
    {
     "name": "stderr",
     "output_type": "stream",
     "text": [
      "  3%|▎         | 1/32 [00:07<03:38,  7.05s/it]"
     ]
    },
    {
     "name": "stdout",
     "output_type": "stream",
     "text": [
      "Total DE_FEATURE data size: (40, 60, 9, 9)\n",
      "Processing /workspace/G_Project/DEAP_Dataset/data_preprocessed_matlab/s02.mat ..........\n",
      "original EEG data size: (40, 40, 8064)\n",
      "transpose EEG data size: (40, 8064, 40)\n",
      "DE before norm data size: (60, 32)\n",
      "DE after norm data size: (60, 32)\n",
      "DE segment signal without transition data size: (60, 32)\n",
      "DE 1D to 2D data size: (60, 9, 9)\n",
      "DE reshape data size: (1, 60, 9, 9)\n"
     ]
    },
    {
     "name": "stderr",
     "output_type": "stream",
     "text": [
      "  6%|▋         | 2/32 [00:14<03:29,  7.00s/it]"
     ]
    },
    {
     "name": "stdout",
     "output_type": "stream",
     "text": [
      "Total DE_FEATURE data size: (40, 60, 9, 9)\n",
      "Processing /workspace/G_Project/DEAP_Dataset/data_preprocessed_matlab/s03.mat ..........\n",
      "original EEG data size: (40, 40, 8064)\n",
      "transpose EEG data size: (40, 8064, 40)\n",
      "DE before norm data size: (60, 32)\n",
      "DE after norm data size: (60, 32)\n",
      "DE segment signal without transition data size: (60, 32)\n",
      "DE 1D to 2D data size: (60, 9, 9)\n",
      "DE reshape data size: (1, 60, 9, 9)\n"
     ]
    },
    {
     "name": "stderr",
     "output_type": "stream",
     "text": [
      "  9%|▉         | 3/32 [00:20<03:22,  6.99s/it]"
     ]
    },
    {
     "name": "stdout",
     "output_type": "stream",
     "text": [
      "Total DE_FEATURE data size: (40, 60, 9, 9)\n",
      "Processing /workspace/G_Project/DEAP_Dataset/data_preprocessed_matlab/s04.mat ..........\n",
      "original EEG data size: (40, 40, 8064)\n",
      "transpose EEG data size: (40, 8064, 40)\n",
      "DE before norm data size: (60, 32)\n",
      "DE after norm data size: (60, 32)\n",
      "DE segment signal without transition data size: (60, 32)\n",
      "DE 1D to 2D data size: (60, 9, 9)\n",
      "DE reshape data size: (1, 60, 9, 9)\n"
     ]
    },
    {
     "name": "stderr",
     "output_type": "stream",
     "text": [
      " 12%|█▎        | 4/32 [00:28<03:16,  7.01s/it]"
     ]
    },
    {
     "name": "stdout",
     "output_type": "stream",
     "text": [
      "Total DE_FEATURE data size: (40, 60, 9, 9)\n",
      "Processing /workspace/G_Project/DEAP_Dataset/data_preprocessed_matlab/s05.mat ..........\n",
      "original EEG data size: (40, 40, 8064)\n",
      "transpose EEG data size: (40, 8064, 40)\n",
      "DE before norm data size: (60, 32)\n",
      "DE after norm data size: (60, 32)\n",
      "DE segment signal without transition data size: (60, 32)\n",
      "DE 1D to 2D data size: (60, 9, 9)\n",
      "DE reshape data size: (1, 60, 9, 9)\n"
     ]
    },
    {
     "name": "stderr",
     "output_type": "stream",
     "text": [
      " 16%|█▌        | 5/32 [00:34<03:08,  6.99s/it]"
     ]
    },
    {
     "name": "stdout",
     "output_type": "stream",
     "text": [
      "Total DE_FEATURE data size: (40, 60, 9, 9)\n",
      "Processing /workspace/G_Project/DEAP_Dataset/data_preprocessed_matlab/s06.mat ..........\n",
      "original EEG data size: (40, 40, 8064)\n",
      "transpose EEG data size: (40, 8064, 40)\n",
      "DE before norm data size: (60, 32)\n",
      "DE after norm data size: (60, 32)\n",
      "DE segment signal without transition data size: (60, 32)\n",
      "DE 1D to 2D data size: (60, 9, 9)\n",
      "DE reshape data size: (1, 60, 9, 9)\n"
     ]
    },
    {
     "name": "stderr",
     "output_type": "stream",
     "text": [
      " 19%|█▉        | 6/32 [00:41<03:01,  7.00s/it]"
     ]
    },
    {
     "name": "stdout",
     "output_type": "stream",
     "text": [
      "Total DE_FEATURE data size: (40, 60, 9, 9)\n",
      "Processing /workspace/G_Project/DEAP_Dataset/data_preprocessed_matlab/s07.mat ..........\n",
      "original EEG data size: (40, 40, 8064)\n",
      "transpose EEG data size: (40, 8064, 40)\n",
      "DE before norm data size: (60, 32)\n",
      "DE after norm data size: (60, 32)\n",
      "DE segment signal without transition data size: (60, 32)\n",
      "DE 1D to 2D data size: (60, 9, 9)\n",
      "DE reshape data size: (1, 60, 9, 9)\n"
     ]
    },
    {
     "name": "stderr",
     "output_type": "stream",
     "text": [
      " 22%|██▏       | 7/32 [00:49<02:55,  7.02s/it]"
     ]
    },
    {
     "name": "stdout",
     "output_type": "stream",
     "text": [
      "Total DE_FEATURE data size: (40, 60, 9, 9)\n",
      "Processing /workspace/G_Project/DEAP_Dataset/data_preprocessed_matlab/s08.mat ..........\n",
      "original EEG data size: (40, 40, 8064)\n",
      "transpose EEG data size: (40, 8064, 40)\n",
      "DE before norm data size: (60, 32)\n",
      "DE after norm data size: (60, 32)\n",
      "DE segment signal without transition data size: (60, 32)\n",
      "DE 1D to 2D data size: (60, 9, 9)\n",
      "DE reshape data size: (1, 60, 9, 9)\n"
     ]
    },
    {
     "name": "stderr",
     "output_type": "stream",
     "text": [
      " 25%|██▌       | 8/32 [00:56<02:48,  7.01s/it]"
     ]
    },
    {
     "name": "stdout",
     "output_type": "stream",
     "text": [
      "Total DE_FEATURE data size: (40, 60, 9, 9)\n",
      "Processing /workspace/G_Project/DEAP_Dataset/data_preprocessed_matlab/s09.mat ..........\n",
      "original EEG data size: (40, 40, 8064)\n",
      "transpose EEG data size: (40, 8064, 40)\n",
      "DE before norm data size: (60, 32)\n",
      "DE after norm data size: (60, 32)\n",
      "DE segment signal without transition data size: (60, 32)\n",
      "DE 1D to 2D data size: (60, 9, 9)\n",
      "DE reshape data size: (1, 60, 9, 9)\n"
     ]
    },
    {
     "name": "stderr",
     "output_type": "stream",
     "text": [
      " 28%|██▊       | 9/32 [01:03<02:40,  6.99s/it]"
     ]
    },
    {
     "name": "stdout",
     "output_type": "stream",
     "text": [
      "Total DE_FEATURE data size: (40, 60, 9, 9)\n",
      "Processing /workspace/G_Project/DEAP_Dataset/data_preprocessed_matlab/s10.mat ..........\n",
      "original EEG data size: (40, 40, 8064)\n",
      "transpose EEG data size: (40, 8064, 40)\n",
      "DE before norm data size: (60, 32)\n",
      "DE after norm data size: (60, 32)\n",
      "DE segment signal without transition data size: (60, 32)\n",
      "DE 1D to 2D data size: (60, 9, 9)\n",
      "DE reshape data size: (1, 60, 9, 9)\n"
     ]
    },
    {
     "name": "stderr",
     "output_type": "stream",
     "text": [
      " 31%|███▏      | 10/32 [01:09<02:33,  6.99s/it]"
     ]
    },
    {
     "name": "stdout",
     "output_type": "stream",
     "text": [
      "Total DE_FEATURE data size: (40, 60, 9, 9)\n",
      "Processing /workspace/G_Project/DEAP_Dataset/data_preprocessed_matlab/s11.mat ..........\n",
      "original EEG data size: (40, 40, 8064)\n",
      "transpose EEG data size: (40, 8064, 40)\n",
      "DE before norm data size: (60, 32)\n",
      "DE after norm data size: (60, 32)\n",
      "DE segment signal without transition data size: (60, 32)\n",
      "DE 1D to 2D data size: (60, 9, 9)\n",
      "DE reshape data size: (1, 60, 9, 9)\n"
     ]
    },
    {
     "name": "stderr",
     "output_type": "stream",
     "text": [
      " 34%|███▍      | 11/32 [01:16<02:26,  6.99s/it]"
     ]
    },
    {
     "name": "stdout",
     "output_type": "stream",
     "text": [
      "Total DE_FEATURE data size: (40, 60, 9, 9)\n",
      "Processing /workspace/G_Project/DEAP_Dataset/data_preprocessed_matlab/s12.mat ..........\n",
      "original EEG data size: (40, 40, 8064)\n",
      "transpose EEG data size: (40, 8064, 40)\n",
      "DE before norm data size: (60, 32)\n",
      "DE after norm data size: (60, 32)\n",
      "DE segment signal without transition data size: (60, 32)\n",
      "DE 1D to 2D data size: (60, 9, 9)\n",
      "DE reshape data size: (1, 60, 9, 9)\n"
     ]
    },
    {
     "name": "stderr",
     "output_type": "stream",
     "text": [
      " 38%|███▊      | 12/32 [01:23<02:19,  6.99s/it]"
     ]
    },
    {
     "name": "stdout",
     "output_type": "stream",
     "text": [
      "Total DE_FEATURE data size: (40, 60, 9, 9)\n",
      "Processing /workspace/G_Project/DEAP_Dataset/data_preprocessed_matlab/s13.mat ..........\n",
      "original EEG data size: (40, 40, 8064)\n",
      "transpose EEG data size: (40, 8064, 40)\n",
      "DE before norm data size: (60, 32)\n",
      "DE after norm data size: (60, 32)\n",
      "DE segment signal without transition data size: (60, 32)\n",
      "DE 1D to 2D data size: (60, 9, 9)\n",
      "DE reshape data size: (1, 60, 9, 9)\n"
     ]
    },
    {
     "name": "stderr",
     "output_type": "stream",
     "text": [
      " 41%|████      | 13/32 [01:30<02:12,  6.98s/it]"
     ]
    },
    {
     "name": "stdout",
     "output_type": "stream",
     "text": [
      "Total DE_FEATURE data size: (40, 60, 9, 9)\n",
      "Processing /workspace/G_Project/DEAP_Dataset/data_preprocessed_matlab/s14.mat ..........\n",
      "original EEG data size: (40, 40, 8064)\n",
      "transpose EEG data size: (40, 8064, 40)\n",
      "DE before norm data size: (60, 32)\n",
      "DE after norm data size: (60, 32)\n",
      "DE segment signal without transition data size: (60, 32)\n",
      "DE 1D to 2D data size: (60, 9, 9)\n",
      "DE reshape data size: (1, 60, 9, 9)\n"
     ]
    },
    {
     "name": "stderr",
     "output_type": "stream",
     "text": [
      " 44%|████▍     | 14/32 [01:37<02:05,  6.96s/it]"
     ]
    },
    {
     "name": "stdout",
     "output_type": "stream",
     "text": [
      "Total DE_FEATURE data size: (40, 60, 9, 9)\n",
      "Processing /workspace/G_Project/DEAP_Dataset/data_preprocessed_matlab/s15.mat ..........\n",
      "original EEG data size: (40, 40, 8064)\n",
      "transpose EEG data size: (40, 8064, 40)\n",
      "DE before norm data size: (60, 32)\n",
      "DE after norm data size: (60, 32)\n",
      "DE segment signal without transition data size: (60, 32)\n",
      "DE 1D to 2D data size: (60, 9, 9)\n",
      "DE reshape data size: (1, 60, 9, 9)\n"
     ]
    },
    {
     "name": "stderr",
     "output_type": "stream",
     "text": [
      " 47%|████▋     | 15/32 [01:44<01:58,  6.97s/it]"
     ]
    },
    {
     "name": "stdout",
     "output_type": "stream",
     "text": [
      "Total DE_FEATURE data size: (40, 60, 9, 9)\n",
      "Processing /workspace/G_Project/DEAP_Dataset/data_preprocessed_matlab/s16.mat ..........\n",
      "original EEG data size: (40, 40, 8064)\n",
      "transpose EEG data size: (40, 8064, 40)\n",
      "DE before norm data size: (60, 32)\n",
      "DE after norm data size: (60, 32)\n",
      "DE segment signal without transition data size: (60, 32)\n",
      "DE 1D to 2D data size: (60, 9, 9)\n",
      "DE reshape data size: (1, 60, 9, 9)\n"
     ]
    },
    {
     "name": "stderr",
     "output_type": "stream",
     "text": [
      " 50%|█████     | 16/32 [01:51<01:51,  6.97s/it]"
     ]
    },
    {
     "name": "stdout",
     "output_type": "stream",
     "text": [
      "Total DE_FEATURE data size: (40, 60, 9, 9)\n",
      "Processing /workspace/G_Project/DEAP_Dataset/data_preprocessed_matlab/s17.mat ..........\n",
      "original EEG data size: (40, 40, 8064)\n",
      "transpose EEG data size: (40, 8064, 40)\n",
      "DE before norm data size: (60, 32)\n",
      "DE after norm data size: (60, 32)\n",
      "DE segment signal without transition data size: (60, 32)\n",
      "DE 1D to 2D data size: (60, 9, 9)\n",
      "DE reshape data size: (1, 60, 9, 9)\n"
     ]
    },
    {
     "name": "stderr",
     "output_type": "stream",
     "text": [
      " 53%|█████▎    | 17/32 [01:58<01:44,  6.96s/it]"
     ]
    },
    {
     "name": "stdout",
     "output_type": "stream",
     "text": [
      "Total DE_FEATURE data size: (40, 60, 9, 9)\n",
      "Processing /workspace/G_Project/DEAP_Dataset/data_preprocessed_matlab/s18.mat ..........\n",
      "original EEG data size: (40, 40, 8064)\n",
      "transpose EEG data size: (40, 8064, 40)\n",
      "DE before norm data size: (60, 32)\n",
      "DE after norm data size: (60, 32)\n",
      "DE segment signal without transition data size: (60, 32)\n",
      "DE 1D to 2D data size: (60, 9, 9)\n",
      "DE reshape data size: (1, 60, 9, 9)\n"
     ]
    },
    {
     "name": "stderr",
     "output_type": "stream",
     "text": [
      " 56%|█████▋    | 18/32 [02:05<01:37,  6.98s/it]"
     ]
    },
    {
     "name": "stdout",
     "output_type": "stream",
     "text": [
      "Total DE_FEATURE data size: (40, 60, 9, 9)\n",
      "Processing /workspace/G_Project/DEAP_Dataset/data_preprocessed_matlab/s19.mat ..........\n",
      "original EEG data size: (40, 40, 8064)\n",
      "transpose EEG data size: (40, 8064, 40)\n",
      "DE before norm data size: (60, 32)\n",
      "DE after norm data size: (60, 32)\n",
      "DE segment signal without transition data size: (60, 32)\n",
      "DE 1D to 2D data size: (60, 9, 9)\n",
      "DE reshape data size: (1, 60, 9, 9)\n"
     ]
    },
    {
     "name": "stderr",
     "output_type": "stream",
     "text": [
      " 59%|█████▉    | 19/32 [02:12<01:30,  6.98s/it]"
     ]
    },
    {
     "name": "stdout",
     "output_type": "stream",
     "text": [
      "Total DE_FEATURE data size: (40, 60, 9, 9)\n",
      "Processing /workspace/G_Project/DEAP_Dataset/data_preprocessed_matlab/s20.mat ..........\n",
      "original EEG data size: (40, 40, 8064)\n",
      "transpose EEG data size: (40, 8064, 40)\n",
      "DE before norm data size: (60, 32)\n",
      "DE after norm data size: (60, 32)\n",
      "DE segment signal without transition data size: (60, 32)\n",
      "DE 1D to 2D data size: (60, 9, 9)\n",
      "DE reshape data size: (1, 60, 9, 9)\n"
     ]
    },
    {
     "name": "stderr",
     "output_type": "stream",
     "text": [
      " 62%|██████▎   | 20/32 [02:19<01:23,  6.98s/it]"
     ]
    },
    {
     "name": "stdout",
     "output_type": "stream",
     "text": [
      "Total DE_FEATURE data size: (40, 60, 9, 9)\n",
      "Processing /workspace/G_Project/DEAP_Dataset/data_preprocessed_matlab/s21.mat ..........\n",
      "original EEG data size: (40, 40, 8064)\n",
      "transpose EEG data size: (40, 8064, 40)\n",
      "DE before norm data size: (60, 32)\n",
      "DE after norm data size: (60, 32)\n",
      "DE segment signal without transition data size: (60, 32)\n",
      "DE 1D to 2D data size: (60, 9, 9)\n",
      "DE reshape data size: (1, 60, 9, 9)\n"
     ]
    },
    {
     "name": "stderr",
     "output_type": "stream",
     "text": [
      " 66%|██████▌   | 21/32 [02:26<01:16,  6.98s/it]"
     ]
    },
    {
     "name": "stdout",
     "output_type": "stream",
     "text": [
      "Total DE_FEATURE data size: (40, 60, 9, 9)\n",
      "Processing /workspace/G_Project/DEAP_Dataset/data_preprocessed_matlab/s22.mat ..........\n",
      "original EEG data size: (40, 40, 8064)\n",
      "transpose EEG data size: (40, 8064, 40)\n",
      "DE before norm data size: (60, 32)\n",
      "DE after norm data size: (60, 32)\n",
      "DE segment signal without transition data size: (60, 32)\n",
      "DE 1D to 2D data size: (60, 9, 9)\n",
      "DE reshape data size: (1, 60, 9, 9)\n"
     ]
    },
    {
     "name": "stderr",
     "output_type": "stream",
     "text": [
      " 69%|██████▉   | 22/32 [02:33<01:09,  6.99s/it]"
     ]
    },
    {
     "name": "stdout",
     "output_type": "stream",
     "text": [
      "Total DE_FEATURE data size: (40, 60, 9, 9)\n",
      "Processing /workspace/G_Project/DEAP_Dataset/data_preprocessed_matlab/s23.mat ..........\n",
      "original EEG data size: (40, 40, 8064)\n",
      "transpose EEG data size: (40, 8064, 40)\n",
      "DE before norm data size: (60, 32)\n",
      "DE after norm data size: (60, 32)\n",
      "DE segment signal without transition data size: (60, 32)\n",
      "DE 1D to 2D data size: (60, 9, 9)\n",
      "DE reshape data size: (1, 60, 9, 9)\n"
     ]
    },
    {
     "name": "stderr",
     "output_type": "stream",
     "text": [
      " 72%|███████▏  | 23/32 [02:40<01:02,  6.99s/it]"
     ]
    },
    {
     "name": "stdout",
     "output_type": "stream",
     "text": [
      "Total DE_FEATURE data size: (40, 60, 9, 9)\n",
      "Processing /workspace/G_Project/DEAP_Dataset/data_preprocessed_matlab/s24.mat ..........\n",
      "original EEG data size: (40, 40, 8064)\n",
      "transpose EEG data size: (40, 8064, 40)\n",
      "DE before norm data size: (60, 32)\n",
      "DE after norm data size: (60, 32)\n",
      "DE segment signal without transition data size: (60, 32)\n",
      "DE 1D to 2D data size: (60, 9, 9)\n",
      "DE reshape data size: (1, 60, 9, 9)\n"
     ]
    },
    {
     "name": "stderr",
     "output_type": "stream",
     "text": [
      " 75%|███████▌  | 24/32 [02:47<00:55,  6.99s/it]"
     ]
    },
    {
     "name": "stdout",
     "output_type": "stream",
     "text": [
      "Total DE_FEATURE data size: (40, 60, 9, 9)\n",
      "Processing /workspace/G_Project/DEAP_Dataset/data_preprocessed_matlab/s25.mat ..........\n",
      "original EEG data size: (40, 40, 8064)\n",
      "transpose EEG data size: (40, 8064, 40)\n",
      "DE before norm data size: (60, 32)\n",
      "DE after norm data size: (60, 32)\n",
      "DE segment signal without transition data size: (60, 32)\n",
      "DE 1D to 2D data size: (60, 9, 9)\n",
      "DE reshape data size: (1, 60, 9, 9)\n"
     ]
    },
    {
     "name": "stderr",
     "output_type": "stream",
     "text": [
      " 78%|███████▊  | 25/32 [02:54<00:49,  7.00s/it]"
     ]
    },
    {
     "name": "stdout",
     "output_type": "stream",
     "text": [
      "Total DE_FEATURE data size: (40, 60, 9, 9)\n",
      "Processing /workspace/G_Project/DEAP_Dataset/data_preprocessed_matlab/s26.mat ..........\n",
      "original EEG data size: (40, 40, 8064)\n",
      "transpose EEG data size: (40, 8064, 40)\n",
      "DE before norm data size: (60, 32)\n",
      "DE after norm data size: (60, 32)\n",
      "DE segment signal without transition data size: (60, 32)\n",
      "DE 1D to 2D data size: (60, 9, 9)\n",
      "DE reshape data size: (1, 60, 9, 9)\n"
     ]
    },
    {
     "name": "stderr",
     "output_type": "stream",
     "text": [
      " 81%|████████▏ | 26/32 [03:01<00:41,  6.99s/it]"
     ]
    },
    {
     "name": "stdout",
     "output_type": "stream",
     "text": [
      "Total DE_FEATURE data size: (40, 60, 9, 9)\n",
      "Processing /workspace/G_Project/DEAP_Dataset/data_preprocessed_matlab/s27.mat ..........\n",
      "original EEG data size: (40, 40, 8064)\n",
      "transpose EEG data size: (40, 8064, 40)\n",
      "DE before norm data size: (60, 32)\n",
      "DE after norm data size: (60, 32)\n",
      "DE segment signal without transition data size: (60, 32)\n",
      "DE 1D to 2D data size: (60, 9, 9)\n",
      "DE reshape data size: (1, 60, 9, 9)\n"
     ]
    },
    {
     "name": "stderr",
     "output_type": "stream",
     "text": [
      " 84%|████████▍ | 27/32 [03:08<00:34,  7.00s/it]"
     ]
    },
    {
     "name": "stdout",
     "output_type": "stream",
     "text": [
      "Total DE_FEATURE data size: (40, 60, 9, 9)\n",
      "Processing /workspace/G_Project/DEAP_Dataset/data_preprocessed_matlab/s28.mat ..........\n",
      "original EEG data size: (40, 40, 8064)\n",
      "transpose EEG data size: (40, 8064, 40)\n",
      "DE before norm data size: (60, 32)\n",
      "DE after norm data size: (60, 32)\n",
      "DE segment signal without transition data size: (60, 32)\n",
      "DE 1D to 2D data size: (60, 9, 9)\n",
      "DE reshape data size: (1, 60, 9, 9)\n"
     ]
    },
    {
     "name": "stderr",
     "output_type": "stream",
     "text": [
      " 88%|████████▊ | 28/32 [03:15<00:27,  7.00s/it]"
     ]
    },
    {
     "name": "stdout",
     "output_type": "stream",
     "text": [
      "Total DE_FEATURE data size: (40, 60, 9, 9)\n",
      "Processing /workspace/G_Project/DEAP_Dataset/data_preprocessed_matlab/s29.mat ..........\n",
      "original EEG data size: (40, 40, 8064)\n",
      "transpose EEG data size: (40, 8064, 40)\n",
      "DE before norm data size: (60, 32)\n",
      "DE after norm data size: (60, 32)\n",
      "DE segment signal without transition data size: (60, 32)\n",
      "DE 1D to 2D data size: (60, 9, 9)\n",
      "DE reshape data size: (1, 60, 9, 9)\n"
     ]
    },
    {
     "name": "stderr",
     "output_type": "stream",
     "text": [
      " 91%|█████████ | 29/32 [03:22<00:20,  6.99s/it]"
     ]
    },
    {
     "name": "stdout",
     "output_type": "stream",
     "text": [
      "Total DE_FEATURE data size: (40, 60, 9, 9)\n",
      "Processing /workspace/G_Project/DEAP_Dataset/data_preprocessed_matlab/s30.mat ..........\n",
      "original EEG data size: (40, 40, 8064)\n",
      "transpose EEG data size: (40, 8064, 40)\n",
      "DE before norm data size: (60, 32)\n",
      "DE after norm data size: (60, 32)\n",
      "DE segment signal without transition data size: (60, 32)\n",
      "DE 1D to 2D data size: (60, 9, 9)\n",
      "DE reshape data size: (1, 60, 9, 9)\n"
     ]
    },
    {
     "name": "stderr",
     "output_type": "stream",
     "text": [
      " 94%|█████████▍| 30/32 [03:29<00:13,  6.99s/it]"
     ]
    },
    {
     "name": "stdout",
     "output_type": "stream",
     "text": [
      "Total DE_FEATURE data size: (40, 60, 9, 9)\n",
      "Processing /workspace/G_Project/DEAP_Dataset/data_preprocessed_matlab/s31.mat ..........\n",
      "original EEG data size: (40, 40, 8064)\n",
      "transpose EEG data size: (40, 8064, 40)\n",
      "DE before norm data size: (60, 32)\n",
      "DE after norm data size: (60, 32)\n",
      "DE segment signal without transition data size: (60, 32)\n",
      "DE 1D to 2D data size: (60, 9, 9)\n",
      "DE reshape data size: (1, 60, 9, 9)\n"
     ]
    },
    {
     "name": "stderr",
     "output_type": "stream",
     "text": [
      " 97%|█████████▋| 31/32 [03:36<00:06,  6.99s/it]"
     ]
    },
    {
     "name": "stdout",
     "output_type": "stream",
     "text": [
      "Total DE_FEATURE data size: (40, 60, 9, 9)\n",
      "Processing /workspace/G_Project/DEAP_Dataset/data_preprocessed_matlab/s32.mat ..........\n",
      "original EEG data size: (40, 40, 8064)\n",
      "transpose EEG data size: (40, 8064, 40)\n",
      "DE before norm data size: (60, 32)\n",
      "DE after norm data size: (60, 32)\n",
      "DE segment signal without transition data size: (60, 32)\n",
      "DE 1D to 2D data size: (60, 9, 9)\n",
      "DE reshape data size: (1, 60, 9, 9)\n"
     ]
    },
    {
     "name": "stderr",
     "output_type": "stream",
     "text": [
      "100%|██████████| 32/32 [03:43<00:00,  6.99s/it]"
     ]
    },
    {
     "name": "stdout",
     "output_type": "stream",
     "text": [
      "Total DE_FEATURE data size: (40, 60, 9, 9)\n"
     ]
    },
    {
     "name": "stderr",
     "output_type": "stream",
     "text": [
      "\n"
     ]
    }
   ],
   "source": [
    "dataset_dir = \"/workspace/G_Project/DEAP_Dataset/data_preprocessed_matlab\"\n",
    "window_size = 128\n",
    "output_dir = \"/workspace/G_Project/DEAP_Dataset/Feature_Extraction/\"\n",
    "basemean = \"no\"     # yes/no (using baseline signals or not)\n",
    "\n",
    "record_list = sorted([task for task in os.listdir(dataset_dir) if os.path.isfile(os.path.join(dataset_dir,task))])\n",
    "output_EEG_dir = output_dir+\"DE_feature/\"+f\"basemean_{basemean}_pt\"+\"/\"\n",
    "if os.path.isdir(output_EEG_dir)==False:\n",
    "    os.makedirs(output_EEG_dir)\n",
    "\n",
    "    \n",
    "for record in tqdm(record_list):\n",
    "    file = os.path.join(dataset_dir,record)\n",
    "    data_inter_E,data_inter_C,label_inter = apply_mixup(file, window_size,label_class,basemean)\n",
    "    trials = data_inter_E.shape[0]\n",
    "\n",
    "    for trial in range(0,trials):\n",
    "        output_data_cnn_path = output_EEG_dir+record.split(\".\")[0]+f\"_trial{str(trial+1).zfill(2)}\"+\"_win_\"+str(window_size)+\".pt\"\n",
    "        output_data_cnn_tensor = torch.tensor(data_inter_E[trial])\n",
    "\n",
    "        torch.save(output_data_cnn_tensor, output_data_cnn_path)"
   ]
  },
  {
   "cell_type": "markdown",
   "metadata": {},
   "source": [
    "##### save .pt"
   ]
  },
  {
   "cell_type": "code",
   "execution_count": 138,
   "metadata": {},
   "outputs": [
    {
     "name": "stderr",
     "output_type": "stream",
     "text": [
      "  0%|          | 0/32 [00:00<?, ?it/s]"
     ]
    },
    {
     "name": "stdout",
     "output_type": "stream",
     "text": [
      "Processing /workspace/G_Project/DEAP_Dataset/data_preprocessed_matlab/s01.mat ..........\n"
     ]
    },
    {
     "name": "stderr",
     "output_type": "stream",
     "text": [
      "/opt/conda/lib/python3.10/site-packages/scipy/stats/_entropy.py:378: RuntimeWarning: divide by zero encountered in log\n",
      "  logs = np.log(n * differences / (ci * m))\n",
      "/opt/conda/lib/python3.10/site-packages/numpy/core/_methods.py:232: RuntimeWarning: invalid value encountered in subtract\n",
      "  x = asanyarray(arr - arrmean)\n",
      "/tmp/ipykernel_8945/1446177570.py:33: RuntimeWarning: invalid value encountered in subtract\n",
      "  data_normalized[data_normalized.nonzero()] = (data_normalized[data_normalized.nonzero()] - mean)/sigma\n",
      "  0%|          | 0/32 [00:00<?, ?it/s]"
     ]
    },
    {
     "name": "stdout",
     "output_type": "stream",
     "text": [
      "original EEG data size: (40, 40, 8064)\n",
      "transpose EEG data size: (40, 8064, 40)\n",
      "40번 반복\n",
      "base signal data size (128, 8)\n",
      "DE before norm data size: (60, 8)\n"
     ]
    },
    {
     "name": "stderr",
     "output_type": "stream",
     "text": [
      "\n"
     ]
    },
    {
     "ename": "IndexError",
     "evalue": "index 60 is out of bounds for axis 0 with size 60",
     "output_type": "error",
     "traceback": [
      "\u001b[0;31m---------------------------------------------------------------------------\u001b[0m",
      "\u001b[0;31mIndexError\u001b[0m                                Traceback (most recent call last)",
      "Cell \u001b[0;32mIn[138], line 14\u001b[0m\n\u001b[1;32m     12\u001b[0m \u001b[39mfor\u001b[39;00m record \u001b[39min\u001b[39;00m tqdm(record_list):\n\u001b[1;32m     13\u001b[0m     file \u001b[39m=\u001b[39m os\u001b[39m.\u001b[39mpath\u001b[39m.\u001b[39mjoin(dataset_dir,record)\n\u001b[0;32m---> 14\u001b[0m     data_inter_E,data_inter_C,label_inter \u001b[39m=\u001b[39m apply_mixup_test(file, window_size,label_class,basemean)\n\u001b[1;32m     15\u001b[0m     trials \u001b[39m=\u001b[39m data_inter_E\u001b[39m.\u001b[39mshape[\u001b[39m0\u001b[39m]\n\u001b[1;32m     17\u001b[0m     \u001b[39mfor\u001b[39;00m trial \u001b[39min\u001b[39;00m \u001b[39mrange\u001b[39m(\u001b[39m0\u001b[39m,trials):\n",
      "Cell \u001b[0;32mIn[136], line 173\u001b[0m, in \u001b[0;36mapply_mixup_test\u001b[0;34m(dataset_file, window_size, label, basemean)\u001b[0m\n\u001b[1;32m    170\u001b[0m label_index \u001b[39m=\u001b[39m trial\n\u001b[1;32m    172\u001b[0m \u001b[39mif\u001b[39;00m trial \u001b[39m==\u001b[39m \u001b[39m0\u001b[39m: \u001b[39mprint\u001b[39m(\u001b[39m\"\u001b[39m\u001b[39mDE before norm data size:\u001b[39m\u001b[39m\"\u001b[39m, DE\u001b[39m.\u001b[39mshape)\n\u001b[0;32m--> 173\u001b[0m DE \u001b[39m=\u001b[39m norm_dataset_test(DE)\n\u001b[1;32m    174\u001b[0m \u001b[39mif\u001b[39;00m trial \u001b[39m==\u001b[39m \u001b[39m0\u001b[39m: \u001b[39mprint\u001b[39m(\u001b[39m\"\u001b[39m\u001b[39mDE after norm data size:\u001b[39m\u001b[39m\"\u001b[39m, DE\u001b[39m.\u001b[39mshape)\n\u001b[1;32m    175\u001b[0m DE, label \u001b[39m=\u001b[39m segment_signal_without_transition(DE, label_in, label_index, \u001b[39m1\u001b[39m)\n",
      "Cell \u001b[0;32mIn[136], line 25\u001b[0m, in \u001b[0;36mnorm_dataset_test\u001b[0;34m(dataset_1D)\u001b[0m\n\u001b[1;32m     23\u001b[0m norm_dataset_1D \u001b[39m=\u001b[39m np\u001b[39m.\u001b[39mzeros([dataset_1D\u001b[39m.\u001b[39mshape[\u001b[39m0\u001b[39m], \u001b[39m8\u001b[39m])\n\u001b[1;32m     24\u001b[0m \u001b[39mfor\u001b[39;00m i \u001b[39min\u001b[39;00m \u001b[39mrange\u001b[39m(dataset_1D\u001b[39m.\u001b[39mshape[\u001b[39m0\u001b[39m]):\n\u001b[0;32m---> 25\u001b[0m     norm_dataset_1D[i] \u001b[39m=\u001b[39m feature_normalize(dataset_1D[\u001b[39m31\u001b[39;49m\u001b[39m+\u001b[39;49mi])\n\u001b[1;32m     26\u001b[0m \u001b[39mreturn\u001b[39;00m norm_dataset_1D\n",
      "\u001b[0;31mIndexError\u001b[0m: index 60 is out of bounds for axis 0 with size 60"
     ]
    }
   ],
   "source": [
    "dataset_dir = \"/workspace/G_Project/DEAP_Dataset/data_preprocessed_matlab\"\n",
    "window_size = 128\n",
    "output_dir = \"/workspace/G_Project/DEAP_Dataset/Feature_Extraction/\"\n",
    "basemean = \"yes\"     # yes/no (using baseline signals or not)\n",
    "\n",
    "record_list = sorted([task for task in os.listdir(dataset_dir) if os.path.isfile(os.path.join(dataset_dir,task))])\n",
    "output_EEG_dir = output_dir+\"DE_feature/test/\"+f\"basemean_{basemean}_pt\"+\"/\"\n",
    "if os.path.isdir(output_EEG_dir)==False:\n",
    "    os.makedirs(output_EEG_dir)\n",
    "\n",
    "    \n",
    "for record in tqdm(record_list):\n",
    "    file = os.path.join(dataset_dir,record)\n",
    "    data_inter_E,data_inter_C,label_inter = apply_mixup_test(file, window_size,label_class,basemean)\n",
    "    trials = data_inter_E.shape[0]\n",
    "\n",
    "    for trial in range(0,trials):\n",
    "        output_data_cnn_path = output_EEG_dir+record.split(\".\")[0]+f\"_trial{str(trial+1).zfill(2)}\"+\"_win_\"+str(window_size)+\".pt\"\n",
    "        output_data_cnn_tensor = torch.tensor(data_inter_E[trial])\n",
    "\n",
    "        torch.save(output_data_cnn_tensor, output_data_cnn_path)"
   ]
  },
  {
   "cell_type": "code",
   "execution_count": null,
   "metadata": {},
   "outputs": [],
   "source": [
    "dataset_dir = \"/workspace/G_Project/DEAP_Dataset/data_preprocessed_matlab\"\n",
    "window_size = 128\n",
    "output_dir = \"/workspace/G_Project/DEAP_Dataset/Feature_Extraction/\"\n",
    "basemean = \"no\"     # yes/no (using baseline signals or not)\n",
    "\n",
    "record_list = sorted([task for task in os.listdir(dataset_dir) if os.path.isfile(os.path.join(dataset_dir,task))])\n",
    "output_EEG_dir = output_dir+\"DE_feature/test/\"+f\"basemean_{basemean}_pt\"+\"/\"\n",
    "if os.path.isdir(output_EEG_dir)==False:\n",
    "    os.makedirs(output_EEG_dir)\n",
    "\n",
    "    \n",
    "for record in tqdm(record_list):\n",
    "    file = os.path.join(dataset_dir,record)\n",
    "    data_inter_E,data_inter_C,label_inter = apply_mixup_test(file, window_size,label_class,basemean)\n",
    "    trials = data_inter_E.shape[0]\n",
    "\n",
    "    for trial in range(0,trials):\n",
    "        output_data_cnn_path = output_EEG_dir+record.split(\".\")[0]+f\"_trial{str(trial+1).zfill(2)}\"+\"_win_\"+str(window_size)+\".pt\"\n",
    "        output_data_cnn_tensor = torch.tensor(data_inter_E[trial])\n",
    "\n",
    "        torch.save(output_data_cnn_tensor, output_data_cnn_path)"
   ]
  },
  {
   "cell_type": "markdown",
   "metadata": {},
   "source": [
    "### PSD Feature Extraction"
   ]
  },
  {
   "cell_type": "markdown",
   "metadata": {},
   "source": []
  }
 ],
 "metadata": {
  "kernelspec": {
   "display_name": "base",
   "language": "python",
   "name": "python3"
  },
  "language_info": {
   "codemirror_mode": {
    "name": "ipython",
    "version": 3
   },
   "file_extension": ".py",
   "mimetype": "text/x-python",
   "name": "python",
   "nbconvert_exporter": "python",
   "pygments_lexer": "ipython3",
   "version": "3.10.8"
  },
  "orig_nbformat": 4
 },
 "nbformat": 4,
 "nbformat_minor": 2
}
