{
 "cells": [
  {
   "cell_type": "code",
   "execution_count": 25,
   "id": "3b918dfa",
   "metadata": {},
   "outputs": [],
   "source": [
    "import scipy.io as sio\n",
    "import os\n",
    "import sys\n",
    "import numpy as np\n",
    "import pandas as pd\n",
    "import time\n",
    "import pickle\n",
    "import torch\n",
    "from tqdm import tqdm"
   ]
  },
  {
   "cell_type": "code",
   "execution_count": 21,
   "id": "ac99d134",
   "metadata": {},
   "outputs": [],
   "source": [
    "def data_1Dto2D(data, Y=9, X=9):\n",
    "    data_2D = np.zeros([Y, X])\n",
    "    data_2D[0] = (0,        0,          0,          data[0],    0,          data[16],   0,          0,          0       )\n",
    "    data_2D[1] = (0,        0,          0,          data[1],    0,          data[17],   0,          0,          0       )\n",
    "    data_2D[2] = (data[3],  0,          data[2],    0,          data[18],   0,          data[19],   0,          data[20])\n",
    "    data_2D[3] = (0,        data[4],    0,          data[5],    0,          data[22],   0,          data[21],   0       )\n",
    "    data_2D[4] = (data[7],  0,          data[6],    0,          data[23],   0,          data[24],   0,          data[25])\n",
    "    data_2D[5] = (0,        data[8],    0,          data[9],    0,          data[27],   0,          data[26],   0       )\n",
    "    data_2D[6] = (data[11], 0,          data[10],   0,          data[15],   0,          data[28],   0,          data[29])\n",
    "    data_2D[7] = (0,        0,          0,          data[12],   0,          data[30],   0,          0,          0       )\n",
    "    data_2D[8] = (0,        0,          0,          data[13],   data[14],   data[31],   0,          0,          0       )\n",
    "    return data_2D\n",
    "\n",
    "\n",
    "def norm_dataset(dataset_1D):\n",
    "    norm_dataset_1D = np.zeros([dataset_1D.shape[0], 32])\n",
    "    for i in range(dataset_1D.shape[0]):\n",
    "        norm_dataset_1D[i] = feature_normalize(dataset_1D[i])\n",
    "    return norm_dataset_1D\n",
    "\n",
    "\n",
    "def feature_normalize(data):\n",
    "    mean = data[data.nonzero()].mean()\n",
    "    sigma = data[data. nonzero ()].std()\n",
    "    data_normalized = data\n",
    "    data_normalized[data_normalized.nonzero()] = (data_normalized[data_normalized.nonzero()] - mean)/sigma\n",
    "    return data_normalized\n",
    "\n",
    "\n",
    "def dataset_1Dto2D(dataset_1D):\n",
    "    dataset_2D = np.zeros([dataset_1D.shape[0],9,9])\n",
    "    for i in range(dataset_1D.shape[0]):\n",
    "        dataset_2D[i] = data_1Dto2D(dataset_1D[i])\n",
    "    return dataset_2D\n",
    "\n",
    "\n",
    "def norm_dataset_1Dto2D(dataset_1D):\n",
    "    norm_dataset_2D = np.zeros([dataset_1D.shape[0], 9, 9])\n",
    "    for i in range(dataset_1D.shape[0]):\n",
    "        norm_dataset_2D[i] = feature_normalize(data_1Dto2D(dataset_1D[i]))\n",
    "    return norm_dataset_2D\n",
    "\n",
    "\n",
    "def windows(data, size):\n",
    "    start = 0\n",
    "    while ((start+size) < data.shape[0]):\n",
    "        yield int(start), int(start + size)\n",
    "        start += size\n",
    "\n",
    "        \n",
    "def segment_signal_without_transition(data,label,label_index,window_size):\n",
    "    for (start, end) in windows(data, window_size):\n",
    "        if((len(data[start:end]) == window_size)):\n",
    "            if(start == 0):\n",
    "                segments = data[start:end]\n",
    "                segments = np.vstack([segments, data[start:end]])\n",
    "\n",
    "#                 labels = np.array(label[label_index])\n",
    "#                 labels = np.append(labels, np.array(label[label_index]))\n",
    "            else:\n",
    "                segments = np.vstack([segments, data[start:end]])\n",
    "#                 labels = np.append(labels, np.array(label[label_index])) \n",
    "    return segments, np.array(label[label_index])\n",
    "\n",
    "\n",
    "def apply_mixup(dataset_file,window_size,label,basemean):\n",
    "    print(\"Processing\",dataset_file,\"..........\")\n",
    "    data_file_in = sio.loadmat(dataset_file)\n",
    "    data_in = data_file_in[\"data\"].transpose(0,2,1)\n",
    "    #0 valence, 1 arousal, 2 dominance, 3 liking\n",
    "    if label==\"arousal\":\n",
    "        label=1\n",
    "    elif label==\"valence\":\n",
    "        label=0\n",
    "    label_in= data_file_in[\"labels\"][:,label]\n",
    "    label_inter = np.empty([0]) \n",
    "    data_inter_E = np.empty([0, 60*window_size, 9, 9])\n",
    "    data_inter_C = np.empty([0, 60*window_size, 32])\n",
    "    trials = data_in.shape[0]\n",
    "\n",
    "\n",
    "    for trial in range(0,trials):\n",
    "        if basemean==\"yes\":\n",
    "            base_signal = (data_in[trial,0:128,0:32]+data_in[trial,128:256,0:32]+data_in[trial,256:384,0:32])/3\n",
    "        else:\n",
    "            base_signal = 0\n",
    "        data_E = data_in[trial,384:8064,0:32]\n",
    "        # data_C = data_in[trial,384:8064,0:32]\n",
    "\n",
    "        for i in range(0,60):\n",
    "            data_E[i*128:(i+1)*128,0:32]=data_E[i*128:(i+1)*128,0:32]-base_signal\n",
    "        label_index = trial\n",
    "\n",
    "        data_E = norm_dataset(data_E)\n",
    "        data_E, label = segment_signal_without_transition(data_E, label_in, label_index, window_size)\n",
    "        # data_C = norm_dataset(data_C)\n",
    "        # data_C, label = segment_signal_without_transition(data_C, label_in, label_index, window_size)\n",
    "\n",
    "        data_E = dataset_1Dto2D(data_E)\n",
    "        data_E = data_E.reshape (1, data_E.shape[0], 9, 9)\n",
    "\n",
    "        # data_C = data_C.reshape(1, data_C.shape[0], 32)\n",
    "\n",
    "        data_inter_E  = np.vstack([data_inter_E, data_E])\n",
    "        # data_inter_C  = np.vstack([data_inter_C, data_C])\n",
    "        # label_inter = np.append(label_inter, label)\n",
    "    \n",
    "    print(\"EEG data size:\", data_inter_E.shape)\n",
    "    # print(\"EEG-ContextNet data size:\", data_inter_C.shape)\n",
    "    # print(\"total label size:\", label_inter.shape)\n",
    "    \n",
    "\n",
    "    return data_inter_E ,data_inter_C, label_inter"
   ]
  },
  {
   "cell_type": "code",
   "execution_count": 15,
   "id": "1b9c5f2f",
   "metadata": {},
   "outputs": [
    {
     "name": "stdout",
     "output_type": "stream",
     "text": [
      "time begin: time.struct_time(tm_year=2023, tm_mon=5, tm_mday=23, tm_hour=17, tm_min=28, tm_sec=49, tm_wday=1, tm_yday=143, tm_isdst=0)\n",
      "Processing /home/aicv/Documents/2023_EEG/DEAP_Dataset/data_preprocessed_matlab/s03.mat ..........\n",
      "EEG data size: (40, 7680, 9, 9)\n",
      "end time: time.struct_time(tm_year=2023, tm_mon=5, tm_mday=23, tm_hour=17, tm_min=29, tm_sec=1, tm_wday=1, tm_yday=143, tm_isdst=0)\n",
      "time consuming: 11.328668355941772\n",
      "Processing /home/aicv/Documents/2023_EEG/DEAP_Dataset/data_preprocessed_matlab/s15.mat ..........\n",
      "EEG data size: (40, 7680, 9, 9)\n",
      "end time: time.struct_time(tm_year=2023, tm_mon=5, tm_mday=23, tm_hour=17, tm_min=29, tm_sec=11, tm_wday=1, tm_yday=143, tm_isdst=0)\n",
      "time consuming: 22.037659883499146\n",
      "Processing /home/aicv/Documents/2023_EEG/DEAP_Dataset/data_preprocessed_matlab/s09.mat ..........\n",
      "EEG data size: (40, 7680, 9, 9)\n",
      "end time: time.struct_time(tm_year=2023, tm_mon=5, tm_mday=23, tm_hour=17, tm_min=29, tm_sec=22, tm_wday=1, tm_yday=143, tm_isdst=0)\n",
      "time consuming: 32.51705741882324\n",
      "Processing /home/aicv/Documents/2023_EEG/DEAP_Dataset/data_preprocessed_matlab/s17.mat ..........\n",
      "EEG data size: (40, 7680, 9, 9)\n",
      "end time: time.struct_time(tm_year=2023, tm_mon=5, tm_mday=23, tm_hour=17, tm_min=29, tm_sec=32, tm_wday=1, tm_yday=143, tm_isdst=0)\n",
      "time consuming: 42.901500940322876\n",
      "Processing /home/aicv/Documents/2023_EEG/DEAP_Dataset/data_preprocessed_matlab/s13.mat ..........\n",
      "EEG data size: (40, 7680, 9, 9)\n",
      "end time: time.struct_time(tm_year=2023, tm_mon=5, tm_mday=23, tm_hour=17, tm_min=29, tm_sec=43, tm_wday=1, tm_yday=143, tm_isdst=0)\n",
      "time consuming: 53.29053211212158\n",
      "Processing /home/aicv/Documents/2023_EEG/DEAP_Dataset/data_preprocessed_matlab/s28.mat ..........\n",
      "EEG data size: (40, 7680, 9, 9)\n",
      "end time: time.struct_time(tm_year=2023, tm_mon=5, tm_mday=23, tm_hour=17, tm_min=29, tm_sec=53, tm_wday=1, tm_yday=143, tm_isdst=0)\n",
      "time consuming: 63.68973350524902\n",
      "Processing /home/aicv/Documents/2023_EEG/DEAP_Dataset/data_preprocessed_matlab/s20.mat ..........\n",
      "EEG data size: (40, 7680, 9, 9)\n",
      "end time: time.struct_time(tm_year=2023, tm_mon=5, tm_mday=23, tm_hour=17, tm_min=30, tm_sec=3, tm_wday=1, tm_yday=143, tm_isdst=0)\n",
      "time consuming: 74.00977206230164\n",
      "Processing /home/aicv/Documents/2023_EEG/DEAP_Dataset/data_preprocessed_matlab/s19.mat ..........\n",
      "EEG data size: (40, 7680, 9, 9)\n",
      "end time: time.struct_time(tm_year=2023, tm_mon=5, tm_mday=23, tm_hour=17, tm_min=30, tm_sec=14, tm_wday=1, tm_yday=143, tm_isdst=0)\n",
      "time consuming: 84.36686491966248\n",
      "Processing /home/aicv/Documents/2023_EEG/DEAP_Dataset/data_preprocessed_matlab/s04.mat ..........\n",
      "EEG data size: (40, 7680, 9, 9)\n",
      "end time: time.struct_time(tm_year=2023, tm_mon=5, tm_mday=23, tm_hour=17, tm_min=30, tm_sec=24, tm_wday=1, tm_yday=143, tm_isdst=0)\n",
      "time consuming: 94.69979238510132\n",
      "Processing /home/aicv/Documents/2023_EEG/DEAP_Dataset/data_preprocessed_matlab/s24.mat ..........\n",
      "EEG data size: (40, 7680, 9, 9)\n",
      "end time: time.struct_time(tm_year=2023, tm_mon=5, tm_mday=23, tm_hour=17, tm_min=30, tm_sec=34, tm_wday=1, tm_yday=143, tm_isdst=0)\n",
      "time consuming: 105.01040983200073\n",
      "Processing /home/aicv/Documents/2023_EEG/DEAP_Dataset/data_preprocessed_matlab/s27.mat ..........\n",
      "EEG data size: (40, 7680, 9, 9)\n",
      "end time: time.struct_time(tm_year=2023, tm_mon=5, tm_mday=23, tm_hour=17, tm_min=30, tm_sec=45, tm_wday=1, tm_yday=143, tm_isdst=0)\n",
      "time consuming: 115.40455389022827\n",
      "Processing /home/aicv/Documents/2023_EEG/DEAP_Dataset/data_preprocessed_matlab/s26.mat ..........\n",
      "EEG data size: (40, 7680, 9, 9)\n",
      "end time: time.struct_time(tm_year=2023, tm_mon=5, tm_mday=23, tm_hour=17, tm_min=30, tm_sec=55, tm_wday=1, tm_yday=143, tm_isdst=0)\n",
      "time consuming: 125.81146287918091\n",
      "Processing /home/aicv/Documents/2023_EEG/DEAP_Dataset/data_preprocessed_matlab/s29.mat ..........\n",
      "EEG data size: (40, 7680, 9, 9)\n",
      "end time: time.struct_time(tm_year=2023, tm_mon=5, tm_mday=23, tm_hour=17, tm_min=31, tm_sec=6, tm_wday=1, tm_yday=143, tm_isdst=0)\n",
      "time consuming: 136.25577926635742\n",
      "Processing /home/aicv/Documents/2023_EEG/DEAP_Dataset/data_preprocessed_matlab/s08.mat ..........\n",
      "EEG data size: (40, 7680, 9, 9)\n",
      "end time: time.struct_time(tm_year=2023, tm_mon=5, tm_mday=23, tm_hour=17, tm_min=31, tm_sec=16, tm_wday=1, tm_yday=143, tm_isdst=0)\n",
      "time consuming: 146.7081813812256\n",
      "Processing /home/aicv/Documents/2023_EEG/DEAP_Dataset/data_preprocessed_matlab/s25.mat ..........\n",
      "EEG data size: (40, 7680, 9, 9)\n",
      "end time: time.struct_time(tm_year=2023, tm_mon=5, tm_mday=23, tm_hour=17, tm_min=31, tm_sec=26, tm_wday=1, tm_yday=143, tm_isdst=0)\n",
      "time consuming: 157.07116031646729\n",
      "Processing /home/aicv/Documents/2023_EEG/DEAP_Dataset/data_preprocessed_matlab/s06.mat ..........\n",
      "EEG data size: (40, 7680, 9, 9)\n",
      "end time: time.struct_time(tm_year=2023, tm_mon=5, tm_mday=23, tm_hour=17, tm_min=31, tm_sec=37, tm_wday=1, tm_yday=143, tm_isdst=0)\n",
      "time consuming: 167.36754298210144\n",
      "Processing /home/aicv/Documents/2023_EEG/DEAP_Dataset/data_preprocessed_matlab/s23.mat ..........\n",
      "EEG data size: (40, 7680, 9, 9)\n",
      "end time: time.struct_time(tm_year=2023, tm_mon=5, tm_mday=23, tm_hour=17, tm_min=31, tm_sec=47, tm_wday=1, tm_yday=143, tm_isdst=0)\n",
      "time consuming: 177.73956298828125\n",
      "Processing /home/aicv/Documents/2023_EEG/DEAP_Dataset/data_preprocessed_matlab/s14.mat ..........\n",
      "EEG data size: (40, 7680, 9, 9)\n",
      "end time: time.struct_time(tm_year=2023, tm_mon=5, tm_mday=23, tm_hour=17, tm_min=31, tm_sec=57, tm_wday=1, tm_yday=143, tm_isdst=0)\n",
      "time consuming: 188.1589970588684\n",
      "Processing /home/aicv/Documents/2023_EEG/DEAP_Dataset/data_preprocessed_matlab/s32.mat ..........\n",
      "EEG data size: (40, 7680, 9, 9)\n",
      "end time: time.struct_time(tm_year=2023, tm_mon=5, tm_mday=23, tm_hour=17, tm_min=32, tm_sec=8, tm_wday=1, tm_yday=143, tm_isdst=0)\n",
      "time consuming: 198.6074821949005\n",
      "Processing /home/aicv/Documents/2023_EEG/DEAP_Dataset/data_preprocessed_matlab/s21.mat ..........\n",
      "EEG data size: (40, 7680, 9, 9)\n",
      "end time: time.struct_time(tm_year=2023, tm_mon=5, tm_mday=23, tm_hour=17, tm_min=32, tm_sec=18, tm_wday=1, tm_yday=143, tm_isdst=0)\n",
      "time consuming: 208.95538568496704\n",
      "Processing /home/aicv/Documents/2023_EEG/DEAP_Dataset/data_preprocessed_matlab/s01.mat ..........\n",
      "EEG data size: (40, 7680, 9, 9)\n",
      "end time: time.struct_time(tm_year=2023, tm_mon=5, tm_mday=23, tm_hour=17, tm_min=32, tm_sec=29, tm_wday=1, tm_yday=143, tm_isdst=0)\n",
      "time consuming: 219.34748935699463\n",
      "Processing /home/aicv/Documents/2023_EEG/DEAP_Dataset/data_preprocessed_matlab/s02.mat ..........\n",
      "EEG data size: (40, 7680, 9, 9)\n",
      "end time: time.struct_time(tm_year=2023, tm_mon=5, tm_mday=23, tm_hour=17, tm_min=32, tm_sec=39, tm_wday=1, tm_yday=143, tm_isdst=0)\n",
      "time consuming: 229.7923674583435\n",
      "Processing /home/aicv/Documents/2023_EEG/DEAP_Dataset/data_preprocessed_matlab/s30.mat ..........\n",
      "EEG data size: (40, 7680, 9, 9)\n",
      "end time: time.struct_time(tm_year=2023, tm_mon=5, tm_mday=23, tm_hour=17, tm_min=32, tm_sec=49, tm_wday=1, tm_yday=143, tm_isdst=0)\n",
      "time consuming: 240.20866179466248\n",
      "Processing /home/aicv/Documents/2023_EEG/DEAP_Dataset/data_preprocessed_matlab/s11.mat ..........\n",
      "EEG data size: (40, 7680, 9, 9)\n",
      "end time: time.struct_time(tm_year=2023, tm_mon=5, tm_mday=23, tm_hour=17, tm_min=33, tm_sec=0, tm_wday=1, tm_yday=143, tm_isdst=0)\n",
      "time consuming: 250.62091445922852\n",
      "Processing /home/aicv/Documents/2023_EEG/DEAP_Dataset/data_preprocessed_matlab/s10.mat ..........\n",
      "EEG data size: (40, 7680, 9, 9)\n",
      "end time: time.struct_time(tm_year=2023, tm_mon=5, tm_mday=23, tm_hour=17, tm_min=33, tm_sec=10, tm_wday=1, tm_yday=143, tm_isdst=0)\n",
      "time consuming: 261.03919076919556\n",
      "Processing /home/aicv/Documents/2023_EEG/DEAP_Dataset/data_preprocessed_matlab/s05.mat ..........\n",
      "EEG data size: (40, 7680, 9, 9)\n",
      "end time: time.struct_time(tm_year=2023, tm_mon=5, tm_mday=23, tm_hour=17, tm_min=33, tm_sec=21, tm_wday=1, tm_yday=143, tm_isdst=0)\n",
      "time consuming: 271.43736386299133\n",
      "Processing /home/aicv/Documents/2023_EEG/DEAP_Dataset/data_preprocessed_matlab/s16.mat ..........\n",
      "EEG data size: (40, 7680, 9, 9)\n",
      "end time: time.struct_time(tm_year=2023, tm_mon=5, tm_mday=23, tm_hour=17, tm_min=33, tm_sec=31, tm_wday=1, tm_yday=143, tm_isdst=0)\n",
      "time consuming: 281.844357252121\n",
      "Processing /home/aicv/Documents/2023_EEG/DEAP_Dataset/data_preprocessed_matlab/s18.mat ..........\n",
      "EEG data size: (40, 7680, 9, 9)\n",
      "end time: time.struct_time(tm_year=2023, tm_mon=5, tm_mday=23, tm_hour=17, tm_min=33, tm_sec=42, tm_wday=1, tm_yday=143, tm_isdst=0)\n",
      "time consuming: 292.30926513671875\n",
      "Processing /home/aicv/Documents/2023_EEG/DEAP_Dataset/data_preprocessed_matlab/s12.mat ..........\n",
      "EEG data size: (40, 7680, 9, 9)\n",
      "end time: time.struct_time(tm_year=2023, tm_mon=5, tm_mday=23, tm_hour=17, tm_min=33, tm_sec=52, tm_wday=1, tm_yday=143, tm_isdst=0)\n",
      "time consuming: 302.6319057941437\n",
      "Processing /home/aicv/Documents/2023_EEG/DEAP_Dataset/data_preprocessed_matlab/s31.mat ..........\n",
      "EEG data size: (40, 7680, 9, 9)\n",
      "end time: time.struct_time(tm_year=2023, tm_mon=5, tm_mday=23, tm_hour=17, tm_min=34, tm_sec=2, tm_wday=1, tm_yday=143, tm_isdst=0)\n",
      "time consuming: 312.95146584510803\n",
      "Processing /home/aicv/Documents/2023_EEG/DEAP_Dataset/data_preprocessed_matlab/s22.mat ..........\n",
      "EEG data size: (40, 7680, 9, 9)\n",
      "end time: time.struct_time(tm_year=2023, tm_mon=5, tm_mday=23, tm_hour=17, tm_min=34, tm_sec=13, tm_wday=1, tm_yday=143, tm_isdst=0)\n",
      "time consuming: 323.2789373397827\n",
      "Processing /home/aicv/Documents/2023_EEG/DEAP_Dataset/data_preprocessed_matlab/s07.mat ..........\n",
      "EEG data size: (40, 7680, 9, 9)\n",
      "end time: time.struct_time(tm_year=2023, tm_mon=5, tm_mday=23, tm_hour=17, tm_min=34, tm_sec=23, tm_wday=1, tm_yday=143, tm_isdst=0)\n",
      "time consuming: 333.5637023448944\n"
     ]
    }
   ],
   "source": [
    "begin = time.time()\n",
    "print(\"time begin:\",time.localtime())\n",
    "\n",
    "dataset_dir = \"/home/aicv/Documents/2023_EEG/DEAP_Dataset/data_preprocessed_matlab\"\n",
    "window_size = 128\n",
    "output_dir = \"/home/aicv/Documents/2023_EEG/DEAP_Dataset/Feature_Extraction/\"\n",
    "basemean = \"yes\"     # yes/no (using baseline signals or not)\n",
    "\n",
    "record_list = [task for task in os.listdir(dataset_dir) if os.path.isfile(os.path.join(dataset_dir,task))]\n",
    "output_EEG_dir = output_dir+\"Base_EEG/\"+f\"basemean_{basemean}\"+\"/\"\n",
    "if os.path.isdir(output_EEG_dir)==False:\n",
    "    os.makedirs(output_EEG_dir)\n",
    "\n",
    "    \n",
    "for record in record_list:\n",
    "    file = os.path.join(dataset_dir,record)\n",
    "    data_inter_E,data_inter_C,label_inter = apply_mixup(file, window_size,label_class,basemean)\n",
    "    trials = data_inter_E.shape[0]\n",
    "\n",
    "    for trial in range(0,trials):\n",
    "        output_data_cnn = output_EEG_dir+record.split(\".\")[0]+f\"_trial{str(trial+1).zfill(2)}\"+\"_win_\"+str(window_size)+\".pkl\"\n",
    "\n",
    "        with open(output_data_cnn, \"wb\") as fp:\n",
    "            pickle.dump(data_inter_E[trial],fp, protocol=4)\n",
    "    end = time.time()\n",
    "    print(\"end time:\",time.localtime())\n",
    "    print(\"time consuming:\",(end-begin))"
   ]
  },
  {
   "cell_type": "code",
   "execution_count": 16,
   "id": "e68e9d84",
   "metadata": {},
   "outputs": [
    {
     "name": "stdout",
     "output_type": "stream",
     "text": [
      "time begin: time.struct_time(tm_year=2023, tm_mon=5, tm_mday=23, tm_hour=17, tm_min=34, tm_sec=23, tm_wday=1, tm_yday=143, tm_isdst=0)\n",
      "Processing /home/aicv/Documents/2023_EEG/DEAP_Dataset/data_preprocessed_matlab/s03.mat ..........\n",
      "EEG data size: (40, 7680, 9, 9)\n",
      "end time: time.struct_time(tm_year=2023, tm_mon=5, tm_mday=23, tm_hour=17, tm_min=34, tm_sec=33, tm_wday=1, tm_yday=143, tm_isdst=0)\n",
      "time consuming: 10.28294825553894\n",
      "Processing /home/aicv/Documents/2023_EEG/DEAP_Dataset/data_preprocessed_matlab/s15.mat ..........\n",
      "EEG data size: (40, 7680, 9, 9)\n",
      "end time: time.struct_time(tm_year=2023, tm_mon=5, tm_mday=23, tm_hour=17, tm_min=34, tm_sec=43, tm_wday=1, tm_yday=143, tm_isdst=0)\n",
      "time consuming: 20.573146104812622\n",
      "Processing /home/aicv/Documents/2023_EEG/DEAP_Dataset/data_preprocessed_matlab/s09.mat ..........\n",
      "EEG data size: (40, 7680, 9, 9)\n",
      "end time: time.struct_time(tm_year=2023, tm_mon=5, tm_mday=23, tm_hour=17, tm_min=34, tm_sec=54, tm_wday=1, tm_yday=143, tm_isdst=0)\n",
      "time consuming: 30.89337396621704\n",
      "Processing /home/aicv/Documents/2023_EEG/DEAP_Dataset/data_preprocessed_matlab/s17.mat ..........\n",
      "EEG data size: (40, 7680, 9, 9)\n",
      "end time: time.struct_time(tm_year=2023, tm_mon=5, tm_mday=23, tm_hour=17, tm_min=35, tm_sec=4, tm_wday=1, tm_yday=143, tm_isdst=0)\n",
      "time consuming: 41.143471479415894\n",
      "Processing /home/aicv/Documents/2023_EEG/DEAP_Dataset/data_preprocessed_matlab/s13.mat ..........\n",
      "EEG data size: (40, 7680, 9, 9)\n",
      "end time: time.struct_time(tm_year=2023, tm_mon=5, tm_mday=23, tm_hour=17, tm_min=35, tm_sec=14, tm_wday=1, tm_yday=143, tm_isdst=0)\n",
      "time consuming: 51.423717975616455\n",
      "Processing /home/aicv/Documents/2023_EEG/DEAP_Dataset/data_preprocessed_matlab/s28.mat ..........\n",
      "EEG data size: (40, 7680, 9, 9)\n",
      "end time: time.struct_time(tm_year=2023, tm_mon=5, tm_mday=23, tm_hour=17, tm_min=35, tm_sec=25, tm_wday=1, tm_yday=143, tm_isdst=0)\n",
      "time consuming: 61.668569803237915\n",
      "Processing /home/aicv/Documents/2023_EEG/DEAP_Dataset/data_preprocessed_matlab/s20.mat ..........\n",
      "EEG data size: (40, 7680, 9, 9)\n",
      "end time: time.struct_time(tm_year=2023, tm_mon=5, tm_mday=23, tm_hour=17, tm_min=35, tm_sec=35, tm_wday=1, tm_yday=143, tm_isdst=0)\n",
      "time consuming: 71.9677050113678\n",
      "Processing /home/aicv/Documents/2023_EEG/DEAP_Dataset/data_preprocessed_matlab/s19.mat ..........\n",
      "EEG data size: (40, 7680, 9, 9)\n",
      "end time: time.struct_time(tm_year=2023, tm_mon=5, tm_mday=23, tm_hour=17, tm_min=35, tm_sec=45, tm_wday=1, tm_yday=143, tm_isdst=0)\n",
      "time consuming: 82.16940712928772\n",
      "Processing /home/aicv/Documents/2023_EEG/DEAP_Dataset/data_preprocessed_matlab/s04.mat ..........\n",
      "EEG data size: (40, 7680, 9, 9)\n",
      "end time: time.struct_time(tm_year=2023, tm_mon=5, tm_mday=23, tm_hour=17, tm_min=35, tm_sec=55, tm_wday=1, tm_yday=143, tm_isdst=0)\n",
      "time consuming: 92.50341558456421\n",
      "Processing /home/aicv/Documents/2023_EEG/DEAP_Dataset/data_preprocessed_matlab/s24.mat ..........\n",
      "EEG data size: (40, 7680, 9, 9)\n",
      "end time: time.struct_time(tm_year=2023, tm_mon=5, tm_mday=23, tm_hour=17, tm_min=36, tm_sec=6, tm_wday=1, tm_yday=143, tm_isdst=0)\n",
      "time consuming: 102.75134444236755\n",
      "Processing /home/aicv/Documents/2023_EEG/DEAP_Dataset/data_preprocessed_matlab/s27.mat ..........\n",
      "EEG data size: (40, 7680, 9, 9)\n",
      "end time: time.struct_time(tm_year=2023, tm_mon=5, tm_mday=23, tm_hour=17, tm_min=36, tm_sec=16, tm_wday=1, tm_yday=143, tm_isdst=0)\n",
      "time consuming: 113.08851957321167\n",
      "Processing /home/aicv/Documents/2023_EEG/DEAP_Dataset/data_preprocessed_matlab/s26.mat ..........\n",
      "EEG data size: (40, 7680, 9, 9)\n",
      "end time: time.struct_time(tm_year=2023, tm_mon=5, tm_mday=23, tm_hour=17, tm_min=36, tm_sec=26, tm_wday=1, tm_yday=143, tm_isdst=0)\n",
      "time consuming: 123.31326699256897\n",
      "Processing /home/aicv/Documents/2023_EEG/DEAP_Dataset/data_preprocessed_matlab/s29.mat ..........\n",
      "EEG data size: (40, 7680, 9, 9)\n",
      "end time: time.struct_time(tm_year=2023, tm_mon=5, tm_mday=23, tm_hour=17, tm_min=36, tm_sec=37, tm_wday=1, tm_yday=143, tm_isdst=0)\n",
      "time consuming: 133.6502866744995\n",
      "Processing /home/aicv/Documents/2023_EEG/DEAP_Dataset/data_preprocessed_matlab/s08.mat ..........\n",
      "EEG data size: (40, 7680, 9, 9)\n",
      "end time: time.struct_time(tm_year=2023, tm_mon=5, tm_mday=23, tm_hour=17, tm_min=36, tm_sec=47, tm_wday=1, tm_yday=143, tm_isdst=0)\n",
      "time consuming: 143.87910652160645\n",
      "Processing /home/aicv/Documents/2023_EEG/DEAP_Dataset/data_preprocessed_matlab/s25.mat ..........\n",
      "EEG data size: (40, 7680, 9, 9)\n",
      "end time: time.struct_time(tm_year=2023, tm_mon=5, tm_mday=23, tm_hour=17, tm_min=36, tm_sec=57, tm_wday=1, tm_yday=143, tm_isdst=0)\n",
      "time consuming: 154.2440845966339\n",
      "Processing /home/aicv/Documents/2023_EEG/DEAP_Dataset/data_preprocessed_matlab/s06.mat ..........\n",
      "EEG data size: (40, 7680, 9, 9)\n",
      "end time: time.struct_time(tm_year=2023, tm_mon=5, tm_mday=23, tm_hour=17, tm_min=37, tm_sec=7, tm_wday=1, tm_yday=143, tm_isdst=0)\n",
      "time consuming: 164.50298357009888\n",
      "Processing /home/aicv/Documents/2023_EEG/DEAP_Dataset/data_preprocessed_matlab/s23.mat ..........\n",
      "EEG data size: (40, 7680, 9, 9)\n",
      "end time: time.struct_time(tm_year=2023, tm_mon=5, tm_mday=23, tm_hour=17, tm_min=37, tm_sec=18, tm_wday=1, tm_yday=143, tm_isdst=0)\n",
      "time consuming: 174.8338906764984\n",
      "Processing /home/aicv/Documents/2023_EEG/DEAP_Dataset/data_preprocessed_matlab/s14.mat ..........\n",
      "EEG data size: (40, 7680, 9, 9)\n",
      "end time: time.struct_time(tm_year=2023, tm_mon=5, tm_mday=23, tm_hour=17, tm_min=37, tm_sec=28, tm_wday=1, tm_yday=143, tm_isdst=0)\n",
      "time consuming: 185.10974073410034\n",
      "Processing /home/aicv/Documents/2023_EEG/DEAP_Dataset/data_preprocessed_matlab/s32.mat ..........\n",
      "EEG data size: (40, 7680, 9, 9)\n",
      "end time: time.struct_time(tm_year=2023, tm_mon=5, tm_mday=23, tm_hour=17, tm_min=37, tm_sec=38, tm_wday=1, tm_yday=143, tm_isdst=0)\n",
      "time consuming: 195.4479489326477\n",
      "Processing /home/aicv/Documents/2023_EEG/DEAP_Dataset/data_preprocessed_matlab/s21.mat ..........\n",
      "EEG data size: (40, 7680, 9, 9)\n",
      "end time: time.struct_time(tm_year=2023, tm_mon=5, tm_mday=23, tm_hour=17, tm_min=37, tm_sec=49, tm_wday=1, tm_yday=143, tm_isdst=0)\n",
      "time consuming: 205.71734166145325\n",
      "Processing /home/aicv/Documents/2023_EEG/DEAP_Dataset/data_preprocessed_matlab/s01.mat ..........\n",
      "EEG data size: (40, 7680, 9, 9)\n",
      "end time: time.struct_time(tm_year=2023, tm_mon=5, tm_mday=23, tm_hour=17, tm_min=37, tm_sec=59, tm_wday=1, tm_yday=143, tm_isdst=0)\n",
      "time consuming: 216.11427545547485\n",
      "Processing /home/aicv/Documents/2023_EEG/DEAP_Dataset/data_preprocessed_matlab/s02.mat ..........\n",
      "EEG data size: (40, 7680, 9, 9)\n",
      "end time: time.struct_time(tm_year=2023, tm_mon=5, tm_mday=23, tm_hour=17, tm_min=38, tm_sec=9, tm_wday=1, tm_yday=143, tm_isdst=0)\n",
      "time consuming: 226.46822905540466\n",
      "Processing /home/aicv/Documents/2023_EEG/DEAP_Dataset/data_preprocessed_matlab/s30.mat ..........\n",
      "EEG data size: (40, 7680, 9, 9)\n",
      "end time: time.struct_time(tm_year=2023, tm_mon=5, tm_mday=23, tm_hour=17, tm_min=38, tm_sec=20, tm_wday=1, tm_yday=143, tm_isdst=0)\n",
      "time consuming: 236.84285402297974\n",
      "Processing /home/aicv/Documents/2023_EEG/DEAP_Dataset/data_preprocessed_matlab/s11.mat ..........\n",
      "EEG data size: (40, 7680, 9, 9)\n",
      "end time: time.struct_time(tm_year=2023, tm_mon=5, tm_mday=23, tm_hour=17, tm_min=38, tm_sec=30, tm_wday=1, tm_yday=143, tm_isdst=0)\n",
      "time consuming: 247.20759081840515\n",
      "Processing /home/aicv/Documents/2023_EEG/DEAP_Dataset/data_preprocessed_matlab/s10.mat ..........\n",
      "EEG data size: (40, 7680, 9, 9)\n",
      "end time: time.struct_time(tm_year=2023, tm_mon=5, tm_mday=23, tm_hour=17, tm_min=38, tm_sec=40, tm_wday=1, tm_yday=143, tm_isdst=0)\n",
      "time consuming: 257.58334708213806\n",
      "Processing /home/aicv/Documents/2023_EEG/DEAP_Dataset/data_preprocessed_matlab/s05.mat ..........\n",
      "EEG data size: (40, 7680, 9, 9)\n",
      "end time: time.struct_time(tm_year=2023, tm_mon=5, tm_mday=23, tm_hour=17, tm_min=38, tm_sec=51, tm_wday=1, tm_yday=143, tm_isdst=0)\n",
      "time consuming: 267.8887586593628\n",
      "Processing /home/aicv/Documents/2023_EEG/DEAP_Dataset/data_preprocessed_matlab/s16.mat ..........\n",
      "EEG data size: (40, 7680, 9, 9)\n",
      "end time: time.struct_time(tm_year=2023, tm_mon=5, tm_mday=23, tm_hour=17, tm_min=39, tm_sec=1, tm_wday=1, tm_yday=143, tm_isdst=0)\n",
      "time consuming: 278.4026598930359\n",
      "Processing /home/aicv/Documents/2023_EEG/DEAP_Dataset/data_preprocessed_matlab/s18.mat ..........\n",
      "EEG data size: (40, 7680, 9, 9)\n",
      "end time: time.struct_time(tm_year=2023, tm_mon=5, tm_mday=23, tm_hour=17, tm_min=39, tm_sec=12, tm_wday=1, tm_yday=143, tm_isdst=0)\n",
      "time consuming: 288.7767016887665\n",
      "Processing /home/aicv/Documents/2023_EEG/DEAP_Dataset/data_preprocessed_matlab/s12.mat ..........\n",
      "EEG data size: (40, 7680, 9, 9)\n",
      "end time: time.struct_time(tm_year=2023, tm_mon=5, tm_mday=23, tm_hour=17, tm_min=39, tm_sec=22, tm_wday=1, tm_yday=143, tm_isdst=0)\n",
      "time consuming: 299.1614000797272\n",
      "Processing /home/aicv/Documents/2023_EEG/DEAP_Dataset/data_preprocessed_matlab/s31.mat ..........\n",
      "EEG data size: (40, 7680, 9, 9)\n",
      "end time: time.struct_time(tm_year=2023, tm_mon=5, tm_mday=23, tm_hour=17, tm_min=39, tm_sec=32, tm_wday=1, tm_yday=143, tm_isdst=0)\n",
      "time consuming: 309.5204405784607\n",
      "Processing /home/aicv/Documents/2023_EEG/DEAP_Dataset/data_preprocessed_matlab/s22.mat ..........\n",
      "EEG data size: (40, 7680, 9, 9)\n",
      "end time: time.struct_time(tm_year=2023, tm_mon=5, tm_mday=23, tm_hour=17, tm_min=39, tm_sec=43, tm_wday=1, tm_yday=143, tm_isdst=0)\n",
      "time consuming: 319.87993693351746\n",
      "Processing /home/aicv/Documents/2023_EEG/DEAP_Dataset/data_preprocessed_matlab/s07.mat ..........\n",
      "EEG data size: (40, 7680, 9, 9)\n",
      "end time: time.struct_time(tm_year=2023, tm_mon=5, tm_mday=23, tm_hour=17, tm_min=39, tm_sec=53, tm_wday=1, tm_yday=143, tm_isdst=0)\n",
      "time consuming: 330.18491291999817\n"
     ]
    }
   ],
   "source": [
    "begin = time.time()\n",
    "print(\"time begin:\",time.localtime())\n",
    "\n",
    "dataset_dir = \"/home/aicv/Documents/2023_EEG/DEAP_Dataset/data_preprocessed_matlab\"\n",
    "window_size = 128\n",
    "output_dir = \"/home/aicv/Documents/2023_EEG/DEAP_Dataset/Feature_Extraction/\"\n",
    "label_class = \"arousal\"     # arousal/valence\n",
    "basemean = \"no\"     # yes/no (using baseline signals or not)\n",
    "\n",
    "record_list = [task for task in os.listdir(dataset_dir) if os.path.isfile(os.path.join(dataset_dir,task))]\n",
    "output_EEG_dir = output_dir+\"Base_EEG/\"+f\"basemean_{basemean}\"+\"/\"\n",
    "if os.path.isdir(output_EEG_dir)==False:\n",
    "    os.makedirs(output_EEG_dir)\n",
    "\n",
    "    \n",
    "for record in record_list:\n",
    "    file = os.path.join(dataset_dir,record)\n",
    "    data_inter_E,data_inter_C,label_inter = apply_mixup(file, window_size,label_class,basemean)\n",
    "    trials = data_inter_E.shape[0]\n",
    "\n",
    "    for trial in range(0,trials):\n",
    "        output_data_cnn = output_EEG_dir+record.split(\".\")[0]+f\"_trial{str(trial+1).zfill(2)}\"+\"_win_\"+str(window_size)+\".pkl\"\n",
    "\n",
    "        with open(output_data_cnn, \"wb\") as fp:\n",
    "            pickle.dump(data_inter_E[trial],fp, protocol=4)\n",
    "    end = time.time()\n",
    "    print(\"end time:\",time.localtime())\n",
    "    print(\"time consuming:\",(end-begin))"
   ]
  },
  {
   "cell_type": "code",
   "execution_count": 28,
   "id": "2c657cbf",
   "metadata": {},
   "outputs": [],
   "source": [
    "dataset_dir = \"/home/aicv/Documents/2023_EEG/DEAP_Dataset/data_preprocessed_matlab\"\n",
    "window_size = 128\n",
    "output_label_dir = \"/home/aicv/Documents/2023_EEG/DEAP_Dataset/EEG_label/\"\n",
    "\n",
    "record_list = sorted([task for task in os.listdir(dataset_dir) if os.path.isfile(os.path.join(dataset_dir,task))])\n",
    "\n",
    "if os.path.isdir(output_label_dir)==False:\n",
    "    os.makedirs(output_label_dir)\n",
    "\n",
    "label_dataframe = pd.DataFrame(columns=[\"valence\", \"arousal\"])\n",
    "\n",
    "for record in record_list:\n",
    "    file = os.path.join(dataset_dir,record)\n",
    "    data_file_in = sio.loadmat(file)\n",
    "    #0 valence, 1 arousal, 2 dominance, 3 liking\n",
    "    label_in= data_file_in[\"labels\"][:,0:2]\n",
    "    label_dataframe = pd.concat([label_dataframe, pd.DataFrame(label_in, index=[record.split(\".\")[0]+f\"_trial{str(trial+1).zfill(2)}\" for trial in range(40)], columns=[\"valence\", \"arousal\"])])\n",
    "\n",
    "output_label_save_path = output_label_dir + \"EEG_label.csv\"\n",
    "\n",
    "label_dataframe.to_csv(output_label_save_path)"
   ]
  },
  {
   "cell_type": "markdown",
   "id": "78aaf293",
   "metadata": {},
   "source": [
    "### save pt"
   ]
  },
  {
   "cell_type": "code",
   "execution_count": 26,
   "id": "63764410",
   "metadata": {},
   "outputs": [
    {
     "name": "stderr",
     "output_type": "stream",
     "text": [
      "  0%|          | 0/32 [00:00<?, ?it/s]"
     ]
    },
    {
     "name": "stdout",
     "output_type": "stream",
     "text": [
      "Processing /home/aicv/Documents/2023_EEG/DEAP_Dataset/data_preprocessed_matlab/s01.mat ..........\n"
     ]
    },
    {
     "name": "stderr",
     "output_type": "stream",
     "text": [
      "  3%|▎         | 1/32 [00:10<05:24, 10.47s/it]"
     ]
    },
    {
     "name": "stdout",
     "output_type": "stream",
     "text": [
      "EEG data size: (40, 7680, 9, 9)\n",
      "Processing /home/aicv/Documents/2023_EEG/DEAP_Dataset/data_preprocessed_matlab/s02.mat ..........\n"
     ]
    },
    {
     "name": "stderr",
     "output_type": "stream",
     "text": [
      "  6%|▋         | 2/32 [00:20<05:14, 10.49s/it]"
     ]
    },
    {
     "name": "stdout",
     "output_type": "stream",
     "text": [
      "EEG data size: (40, 7680, 9, 9)\n",
      "Processing /home/aicv/Documents/2023_EEG/DEAP_Dataset/data_preprocessed_matlab/s03.mat ..........\n"
     ]
    },
    {
     "name": "stderr",
     "output_type": "stream",
     "text": [
      "  9%|▉         | 3/32 [00:31<05:02, 10.44s/it]"
     ]
    },
    {
     "name": "stdout",
     "output_type": "stream",
     "text": [
      "EEG data size: (40, 7680, 9, 9)\n",
      "Processing /home/aicv/Documents/2023_EEG/DEAP_Dataset/data_preprocessed_matlab/s04.mat ..........\n"
     ]
    },
    {
     "name": "stderr",
     "output_type": "stream",
     "text": [
      " 12%|█▎        | 4/32 [00:41<04:53, 10.47s/it]"
     ]
    },
    {
     "name": "stdout",
     "output_type": "stream",
     "text": [
      "EEG data size: (40, 7680, 9, 9)\n",
      "Processing /home/aicv/Documents/2023_EEG/DEAP_Dataset/data_preprocessed_matlab/s05.mat ..........\n"
     ]
    },
    {
     "name": "stderr",
     "output_type": "stream",
     "text": [
      " 16%|█▌        | 5/32 [00:52<04:43, 10.50s/it]"
     ]
    },
    {
     "name": "stdout",
     "output_type": "stream",
     "text": [
      "EEG data size: (40, 7680, 9, 9)\n",
      "Processing /home/aicv/Documents/2023_EEG/DEAP_Dataset/data_preprocessed_matlab/s06.mat ..........\n"
     ]
    },
    {
     "name": "stderr",
     "output_type": "stream",
     "text": [
      " 19%|█▉        | 6/32 [01:03<04:34, 10.57s/it]"
     ]
    },
    {
     "name": "stdout",
     "output_type": "stream",
     "text": [
      "EEG data size: (40, 7680, 9, 9)\n",
      "Processing /home/aicv/Documents/2023_EEG/DEAP_Dataset/data_preprocessed_matlab/s07.mat ..........\n"
     ]
    },
    {
     "name": "stderr",
     "output_type": "stream",
     "text": [
      " 22%|██▏       | 7/32 [01:13<04:22, 10.51s/it]"
     ]
    },
    {
     "name": "stdout",
     "output_type": "stream",
     "text": [
      "EEG data size: (40, 7680, 9, 9)\n",
      "Processing /home/aicv/Documents/2023_EEG/DEAP_Dataset/data_preprocessed_matlab/s08.mat ..........\n"
     ]
    },
    {
     "name": "stderr",
     "output_type": "stream",
     "text": [
      " 25%|██▌       | 8/32 [01:24<04:14, 10.60s/it]"
     ]
    },
    {
     "name": "stdout",
     "output_type": "stream",
     "text": [
      "EEG data size: (40, 7680, 9, 9)\n",
      "Processing /home/aicv/Documents/2023_EEG/DEAP_Dataset/data_preprocessed_matlab/s09.mat ..........\n"
     ]
    },
    {
     "name": "stderr",
     "output_type": "stream",
     "text": [
      " 28%|██▊       | 9/32 [01:34<04:01, 10.52s/it]"
     ]
    },
    {
     "name": "stdout",
     "output_type": "stream",
     "text": [
      "EEG data size: (40, 7680, 9, 9)\n",
      "Processing /home/aicv/Documents/2023_EEG/DEAP_Dataset/data_preprocessed_matlab/s10.mat ..........\n"
     ]
    },
    {
     "name": "stderr",
     "output_type": "stream",
     "text": [
      " 31%|███▏      | 10/32 [01:45<03:50, 10.49s/it]"
     ]
    },
    {
     "name": "stdout",
     "output_type": "stream",
     "text": [
      "EEG data size: (40, 7680, 9, 9)\n",
      "Processing /home/aicv/Documents/2023_EEG/DEAP_Dataset/data_preprocessed_matlab/s11.mat ..........\n"
     ]
    },
    {
     "name": "stderr",
     "output_type": "stream",
     "text": [
      " 34%|███▍      | 11/32 [01:55<03:39, 10.45s/it]"
     ]
    },
    {
     "name": "stdout",
     "output_type": "stream",
     "text": [
      "EEG data size: (40, 7680, 9, 9)\n",
      "Processing /home/aicv/Documents/2023_EEG/DEAP_Dataset/data_preprocessed_matlab/s12.mat ..........\n"
     ]
    },
    {
     "name": "stderr",
     "output_type": "stream",
     "text": [
      " 38%|███▊      | 12/32 [02:05<03:28, 10.42s/it]"
     ]
    },
    {
     "name": "stdout",
     "output_type": "stream",
     "text": [
      "EEG data size: (40, 7680, 9, 9)\n",
      "Processing /home/aicv/Documents/2023_EEG/DEAP_Dataset/data_preprocessed_matlab/s13.mat ..........\n",
      "EEG data size: (40, 7680, 9, 9)\n"
     ]
    },
    {
     "name": "stderr",
     "output_type": "stream",
     "text": [
      " 41%|████      | 13/32 [02:16<03:18, 10.43s/it]"
     ]
    },
    {
     "name": "stdout",
     "output_type": "stream",
     "text": [
      "Processing /home/aicv/Documents/2023_EEG/DEAP_Dataset/data_preprocessed_matlab/s14.mat ..........\n"
     ]
    },
    {
     "name": "stderr",
     "output_type": "stream",
     "text": [
      " 44%|████▍     | 14/32 [02:26<03:07, 10.42s/it]"
     ]
    },
    {
     "name": "stdout",
     "output_type": "stream",
     "text": [
      "EEG data size: (40, 7680, 9, 9)\n",
      "Processing /home/aicv/Documents/2023_EEG/DEAP_Dataset/data_preprocessed_matlab/s15.mat ..........\n"
     ]
    },
    {
     "name": "stderr",
     "output_type": "stream",
     "text": [
      " 47%|████▋     | 15/32 [02:36<02:56, 10.39s/it]"
     ]
    },
    {
     "name": "stdout",
     "output_type": "stream",
     "text": [
      "EEG data size: (40, 7680, 9, 9)\n",
      "Processing /home/aicv/Documents/2023_EEG/DEAP_Dataset/data_preprocessed_matlab/s16.mat ..........\n"
     ]
    },
    {
     "name": "stderr",
     "output_type": "stream",
     "text": [
      " 50%|█████     | 16/32 [02:47<02:46, 10.40s/it]"
     ]
    },
    {
     "name": "stdout",
     "output_type": "stream",
     "text": [
      "EEG data size: (40, 7680, 9, 9)\n",
      "Processing /home/aicv/Documents/2023_EEG/DEAP_Dataset/data_preprocessed_matlab/s17.mat ..........\n"
     ]
    },
    {
     "name": "stderr",
     "output_type": "stream",
     "text": [
      " 53%|█████▎    | 17/32 [02:57<02:35, 10.40s/it]"
     ]
    },
    {
     "name": "stdout",
     "output_type": "stream",
     "text": [
      "EEG data size: (40, 7680, 9, 9)\n",
      "Processing /home/aicv/Documents/2023_EEG/DEAP_Dataset/data_preprocessed_matlab/s18.mat ..........\n"
     ]
    },
    {
     "name": "stderr",
     "output_type": "stream",
     "text": [
      " 56%|█████▋    | 18/32 [03:08<02:25, 10.39s/it]"
     ]
    },
    {
     "name": "stdout",
     "output_type": "stream",
     "text": [
      "EEG data size: (40, 7680, 9, 9)\n",
      "Processing /home/aicv/Documents/2023_EEG/DEAP_Dataset/data_preprocessed_matlab/s19.mat ..........\n"
     ]
    },
    {
     "name": "stderr",
     "output_type": "stream",
     "text": [
      " 59%|█████▉    | 19/32 [03:18<02:14, 10.37s/it]"
     ]
    },
    {
     "name": "stdout",
     "output_type": "stream",
     "text": [
      "EEG data size: (40, 7680, 9, 9)\n",
      "Processing /home/aicv/Documents/2023_EEG/DEAP_Dataset/data_preprocessed_matlab/s20.mat ..........\n"
     ]
    },
    {
     "name": "stderr",
     "output_type": "stream",
     "text": [
      " 62%|██████▎   | 20/32 [03:28<02:04, 10.36s/it]"
     ]
    },
    {
     "name": "stdout",
     "output_type": "stream",
     "text": [
      "EEG data size: (40, 7680, 9, 9)\n",
      "Processing /home/aicv/Documents/2023_EEG/DEAP_Dataset/data_preprocessed_matlab/s21.mat ..........\n"
     ]
    },
    {
     "name": "stderr",
     "output_type": "stream",
     "text": [
      " 66%|██████▌   | 21/32 [03:39<01:53, 10.34s/it]"
     ]
    },
    {
     "name": "stdout",
     "output_type": "stream",
     "text": [
      "EEG data size: (40, 7680, 9, 9)\n",
      "Processing /home/aicv/Documents/2023_EEG/DEAP_Dataset/data_preprocessed_matlab/s22.mat ..........\n"
     ]
    },
    {
     "name": "stderr",
     "output_type": "stream",
     "text": [
      " 69%|██████▉   | 22/32 [03:49<01:43, 10.34s/it]"
     ]
    },
    {
     "name": "stdout",
     "output_type": "stream",
     "text": [
      "EEG data size: (40, 7680, 9, 9)\n",
      "Processing /home/aicv/Documents/2023_EEG/DEAP_Dataset/data_preprocessed_matlab/s23.mat ..........\n"
     ]
    },
    {
     "name": "stderr",
     "output_type": "stream",
     "text": [
      " 72%|███████▏  | 23/32 [03:59<01:33, 10.35s/it]"
     ]
    },
    {
     "name": "stdout",
     "output_type": "stream",
     "text": [
      "EEG data size: (40, 7680, 9, 9)\n",
      "Processing /home/aicv/Documents/2023_EEG/DEAP_Dataset/data_preprocessed_matlab/s24.mat ..........\n"
     ]
    },
    {
     "name": "stderr",
     "output_type": "stream",
     "text": [
      " 75%|███████▌  | 24/32 [04:10<01:22, 10.36s/it]"
     ]
    },
    {
     "name": "stdout",
     "output_type": "stream",
     "text": [
      "EEG data size: (40, 7680, 9, 9)\n",
      "Processing /home/aicv/Documents/2023_EEG/DEAP_Dataset/data_preprocessed_matlab/s25.mat ..........\n"
     ]
    },
    {
     "name": "stderr",
     "output_type": "stream",
     "text": [
      " 78%|███████▊  | 25/32 [04:20<01:12, 10.35s/it]"
     ]
    },
    {
     "name": "stdout",
     "output_type": "stream",
     "text": [
      "EEG data size: (40, 7680, 9, 9)\n",
      "Processing /home/aicv/Documents/2023_EEG/DEAP_Dataset/data_preprocessed_matlab/s26.mat ..........\n"
     ]
    },
    {
     "name": "stderr",
     "output_type": "stream",
     "text": [
      " 81%|████████▏ | 26/32 [04:30<01:02, 10.37s/it]"
     ]
    },
    {
     "name": "stdout",
     "output_type": "stream",
     "text": [
      "EEG data size: (40, 7680, 9, 9)\n",
      "Processing /home/aicv/Documents/2023_EEG/DEAP_Dataset/data_preprocessed_matlab/s27.mat ..........\n"
     ]
    },
    {
     "name": "stderr",
     "output_type": "stream",
     "text": [
      " 84%|████████▍ | 27/32 [04:41<00:51, 10.36s/it]"
     ]
    },
    {
     "name": "stdout",
     "output_type": "stream",
     "text": [
      "EEG data size: (40, 7680, 9, 9)\n",
      "Processing /home/aicv/Documents/2023_EEG/DEAP_Dataset/data_preprocessed_matlab/s28.mat ..........\n"
     ]
    },
    {
     "name": "stderr",
     "output_type": "stream",
     "text": [
      " 88%|████████▊ | 28/32 [04:51<00:41, 10.37s/it]"
     ]
    },
    {
     "name": "stdout",
     "output_type": "stream",
     "text": [
      "EEG data size: (40, 7680, 9, 9)\n",
      "Processing /home/aicv/Documents/2023_EEG/DEAP_Dataset/data_preprocessed_matlab/s29.mat ..........\n"
     ]
    },
    {
     "name": "stderr",
     "output_type": "stream",
     "text": [
      " 91%|█████████ | 29/32 [05:02<00:31, 10.38s/it]"
     ]
    },
    {
     "name": "stdout",
     "output_type": "stream",
     "text": [
      "EEG data size: (40, 7680, 9, 9)\n",
      "Processing /home/aicv/Documents/2023_EEG/DEAP_Dataset/data_preprocessed_matlab/s30.mat ..........\n"
     ]
    },
    {
     "name": "stderr",
     "output_type": "stream",
     "text": [
      " 94%|█████████▍| 30/32 [05:12<00:20, 10.38s/it]"
     ]
    },
    {
     "name": "stdout",
     "output_type": "stream",
     "text": [
      "EEG data size: (40, 7680, 9, 9)\n",
      "Processing /home/aicv/Documents/2023_EEG/DEAP_Dataset/data_preprocessed_matlab/s31.mat ..........\n"
     ]
    },
    {
     "name": "stderr",
     "output_type": "stream",
     "text": [
      " 97%|█████████▋| 31/32 [05:22<00:10, 10.37s/it]"
     ]
    },
    {
     "name": "stdout",
     "output_type": "stream",
     "text": [
      "EEG data size: (40, 7680, 9, 9)\n",
      "Processing /home/aicv/Documents/2023_EEG/DEAP_Dataset/data_preprocessed_matlab/s32.mat ..........\n"
     ]
    },
    {
     "name": "stderr",
     "output_type": "stream",
     "text": [
      "100%|██████████| 32/32 [05:33<00:00, 10.41s/it]"
     ]
    },
    {
     "name": "stdout",
     "output_type": "stream",
     "text": [
      "EEG data size: (40, 7680, 9, 9)\n"
     ]
    },
    {
     "name": "stderr",
     "output_type": "stream",
     "text": [
      "\n"
     ]
    }
   ],
   "source": [
    "dataset_dir = \"/home/aicv/Documents/2023_EEG/DEAP_Dataset/data_preprocessed_matlab\"\n",
    "window_size = 128\n",
    "output_dir = \"/home/aicv/Documents/2023_EEG/DEAP_Dataset/Feature_Extraction/\"\n",
    "basemean = \"yes\"     # yes/no (using baseline signals or not)\n",
    "\n",
    "record_list = sorted([task for task in os.listdir(dataset_dir) if os.path.isfile(os.path.join(dataset_dir,task))])\n",
    "output_EEG_dir = output_dir+\"Base_EEG/\"+f\"basemean_{basemean}_pt\"+\"/\"\n",
    "if os.path.isdir(output_EEG_dir)==False:\n",
    "    os.makedirs(output_EEG_dir)\n",
    "\n",
    "    \n",
    "for record in tqdm(record_list):\n",
    "    file = os.path.join(dataset_dir,record)\n",
    "    data_inter_E,data_inter_C,label_inter = apply_mixup(file, window_size,label_class,basemean)\n",
    "    trials = data_inter_E.shape[0]\n",
    "\n",
    "    for trial in range(0,trials):\n",
    "        output_data_cnn_path = output_EEG_dir+record.split(\".\")[0]+f\"_trial{str(trial+1).zfill(2)}\"+\"_win_\"+str(window_size)+\".pt\"\n",
    "        output_data_cnn_tensor = torch.tensor(data_inter_E[trial])\n",
    "\n",
    "        torch.save(output_data_cnn_tensor, output_data_cnn_path)"
   ]
  },
  {
   "cell_type": "code",
   "execution_count": 27,
   "id": "1b587f8b",
   "metadata": {},
   "outputs": [
    {
     "name": "stderr",
     "output_type": "stream",
     "text": [
      "  0%|          | 0/32 [00:00<?, ?it/s]"
     ]
    },
    {
     "name": "stdout",
     "output_type": "stream",
     "text": [
      "Processing /home/aicv/Documents/2023_EEG/DEAP_Dataset/data_preprocessed_matlab/s01.mat ..........\n"
     ]
    },
    {
     "name": "stderr",
     "output_type": "stream",
     "text": [
      "  3%|▎         | 1/32 [00:10<05:21, 10.37s/it]"
     ]
    },
    {
     "name": "stdout",
     "output_type": "stream",
     "text": [
      "EEG data size: (40, 7680, 9, 9)\n",
      "Processing /home/aicv/Documents/2023_EEG/DEAP_Dataset/data_preprocessed_matlab/s02.mat ..........\n"
     ]
    },
    {
     "name": "stderr",
     "output_type": "stream",
     "text": [
      "  6%|▋         | 2/32 [00:20<05:11, 10.37s/it]"
     ]
    },
    {
     "name": "stdout",
     "output_type": "stream",
     "text": [
      "EEG data size: (40, 7680, 9, 9)\n",
      "Processing /home/aicv/Documents/2023_EEG/DEAP_Dataset/data_preprocessed_matlab/s03.mat ..........\n"
     ]
    },
    {
     "name": "stderr",
     "output_type": "stream",
     "text": [
      "  9%|▉         | 3/32 [00:31<05:00, 10.36s/it]"
     ]
    },
    {
     "name": "stdout",
     "output_type": "stream",
     "text": [
      "EEG data size: (40, 7680, 9, 9)\n",
      "Processing /home/aicv/Documents/2023_EEG/DEAP_Dataset/data_preprocessed_matlab/s04.mat ..........\n"
     ]
    },
    {
     "name": "stderr",
     "output_type": "stream",
     "text": [
      " 12%|█▎        | 4/32 [00:41<04:51, 10.40s/it]"
     ]
    },
    {
     "name": "stdout",
     "output_type": "stream",
     "text": [
      "EEG data size: (40, 7680, 9, 9)\n",
      "Processing /home/aicv/Documents/2023_EEG/DEAP_Dataset/data_preprocessed_matlab/s05.mat ..........\n"
     ]
    },
    {
     "name": "stderr",
     "output_type": "stream",
     "text": [
      " 16%|█▌        | 5/32 [00:51<04:40, 10.38s/it]"
     ]
    },
    {
     "name": "stdout",
     "output_type": "stream",
     "text": [
      "EEG data size: (40, 7680, 9, 9)\n",
      "Processing /home/aicv/Documents/2023_EEG/DEAP_Dataset/data_preprocessed_matlab/s06.mat ..........\n"
     ]
    },
    {
     "name": "stderr",
     "output_type": "stream",
     "text": [
      " 19%|█▉        | 6/32 [01:02<04:29, 10.38s/it]"
     ]
    },
    {
     "name": "stdout",
     "output_type": "stream",
     "text": [
      "EEG data size: (40, 7680, 9, 9)\n",
      "Processing /home/aicv/Documents/2023_EEG/DEAP_Dataset/data_preprocessed_matlab/s07.mat ..........\n"
     ]
    },
    {
     "name": "stderr",
     "output_type": "stream",
     "text": [
      " 22%|██▏       | 7/32 [01:12<04:19, 10.37s/it]"
     ]
    },
    {
     "name": "stdout",
     "output_type": "stream",
     "text": [
      "EEG data size: (40, 7680, 9, 9)\n",
      "Processing /home/aicv/Documents/2023_EEG/DEAP_Dataset/data_preprocessed_matlab/s08.mat ..........\n"
     ]
    },
    {
     "name": "stderr",
     "output_type": "stream",
     "text": [
      " 25%|██▌       | 8/32 [01:22<04:08, 10.36s/it]"
     ]
    },
    {
     "name": "stdout",
     "output_type": "stream",
     "text": [
      "EEG data size: (40, 7680, 9, 9)\n",
      "Processing /home/aicv/Documents/2023_EEG/DEAP_Dataset/data_preprocessed_matlab/s09.mat ..........\n"
     ]
    },
    {
     "name": "stderr",
     "output_type": "stream",
     "text": [
      " 28%|██▊       | 9/32 [01:33<03:58, 10.36s/it]"
     ]
    },
    {
     "name": "stdout",
     "output_type": "stream",
     "text": [
      "EEG data size: (40, 7680, 9, 9)\n",
      "Processing /home/aicv/Documents/2023_EEG/DEAP_Dataset/data_preprocessed_matlab/s10.mat ..........\n"
     ]
    },
    {
     "name": "stderr",
     "output_type": "stream",
     "text": [
      " 31%|███▏      | 10/32 [01:43<03:47, 10.36s/it]"
     ]
    },
    {
     "name": "stdout",
     "output_type": "stream",
     "text": [
      "EEG data size: (40, 7680, 9, 9)\n",
      "Processing /home/aicv/Documents/2023_EEG/DEAP_Dataset/data_preprocessed_matlab/s11.mat ..........\n"
     ]
    },
    {
     "name": "stderr",
     "output_type": "stream",
     "text": [
      " 34%|███▍      | 11/32 [01:53<03:37, 10.34s/it]"
     ]
    },
    {
     "name": "stdout",
     "output_type": "stream",
     "text": [
      "EEG data size: (40, 7680, 9, 9)\n",
      "Processing /home/aicv/Documents/2023_EEG/DEAP_Dataset/data_preprocessed_matlab/s12.mat ..........\n"
     ]
    },
    {
     "name": "stderr",
     "output_type": "stream",
     "text": [
      " 38%|███▊      | 12/32 [02:04<03:26, 10.33s/it]"
     ]
    },
    {
     "name": "stdout",
     "output_type": "stream",
     "text": [
      "EEG data size: (40, 7680, 9, 9)\n",
      "Processing /home/aicv/Documents/2023_EEG/DEAP_Dataset/data_preprocessed_matlab/s13.mat ..........\n"
     ]
    },
    {
     "name": "stderr",
     "output_type": "stream",
     "text": [
      " 41%|████      | 13/32 [02:14<03:16, 10.33s/it]"
     ]
    },
    {
     "name": "stdout",
     "output_type": "stream",
     "text": [
      "EEG data size: (40, 7680, 9, 9)\n",
      "Processing /home/aicv/Documents/2023_EEG/DEAP_Dataset/data_preprocessed_matlab/s14.mat ..........\n"
     ]
    },
    {
     "name": "stderr",
     "output_type": "stream",
     "text": [
      " 44%|████▍     | 14/32 [02:24<03:05, 10.32s/it]"
     ]
    },
    {
     "name": "stdout",
     "output_type": "stream",
     "text": [
      "EEG data size: (40, 7680, 9, 9)\n",
      "Processing /home/aicv/Documents/2023_EEG/DEAP_Dataset/data_preprocessed_matlab/s15.mat ..........\n"
     ]
    },
    {
     "name": "stderr",
     "output_type": "stream",
     "text": [
      " 47%|████▋     | 15/32 [02:35<02:55, 10.33s/it]"
     ]
    },
    {
     "name": "stdout",
     "output_type": "stream",
     "text": [
      "EEG data size: (40, 7680, 9, 9)\n",
      "Processing /home/aicv/Documents/2023_EEG/DEAP_Dataset/data_preprocessed_matlab/s16.mat ..........\n"
     ]
    },
    {
     "name": "stderr",
     "output_type": "stream",
     "text": [
      " 50%|█████     | 16/32 [02:45<02:45, 10.33s/it]"
     ]
    },
    {
     "name": "stdout",
     "output_type": "stream",
     "text": [
      "EEG data size: (40, 7680, 9, 9)\n",
      "Processing /home/aicv/Documents/2023_EEG/DEAP_Dataset/data_preprocessed_matlab/s17.mat ..........\n"
     ]
    },
    {
     "name": "stderr",
     "output_type": "stream",
     "text": [
      " 53%|█████▎    | 17/32 [02:55<02:34, 10.33s/it]"
     ]
    },
    {
     "name": "stdout",
     "output_type": "stream",
     "text": [
      "EEG data size: (40, 7680, 9, 9)\n",
      "Processing /home/aicv/Documents/2023_EEG/DEAP_Dataset/data_preprocessed_matlab/s18.mat ..........\n"
     ]
    },
    {
     "name": "stderr",
     "output_type": "stream",
     "text": [
      " 56%|█████▋    | 18/32 [03:06<02:24, 10.35s/it]"
     ]
    },
    {
     "name": "stdout",
     "output_type": "stream",
     "text": [
      "EEG data size: (40, 7680, 9, 9)\n",
      "Processing /home/aicv/Documents/2023_EEG/DEAP_Dataset/data_preprocessed_matlab/s19.mat ..........\n"
     ]
    },
    {
     "name": "stderr",
     "output_type": "stream",
     "text": [
      " 59%|█████▉    | 19/32 [03:16<02:14, 10.34s/it]"
     ]
    },
    {
     "name": "stdout",
     "output_type": "stream",
     "text": [
      "EEG data size: (40, 7680, 9, 9)\n",
      "Processing /home/aicv/Documents/2023_EEG/DEAP_Dataset/data_preprocessed_matlab/s20.mat ..........\n"
     ]
    },
    {
     "name": "stderr",
     "output_type": "stream",
     "text": [
      " 62%|██████▎   | 20/32 [03:26<02:04, 10.34s/it]"
     ]
    },
    {
     "name": "stdout",
     "output_type": "stream",
     "text": [
      "EEG data size: (40, 7680, 9, 9)\n",
      "Processing /home/aicv/Documents/2023_EEG/DEAP_Dataset/data_preprocessed_matlab/s21.mat ..........\n"
     ]
    },
    {
     "name": "stderr",
     "output_type": "stream",
     "text": [
      " 66%|██████▌   | 21/32 [03:37<01:53, 10.34s/it]"
     ]
    },
    {
     "name": "stdout",
     "output_type": "stream",
     "text": [
      "EEG data size: (40, 7680, 9, 9)\n",
      "Processing /home/aicv/Documents/2023_EEG/DEAP_Dataset/data_preprocessed_matlab/s22.mat ..........\n"
     ]
    },
    {
     "name": "stderr",
     "output_type": "stream",
     "text": [
      " 69%|██████▉   | 22/32 [03:47<01:43, 10.34s/it]"
     ]
    },
    {
     "name": "stdout",
     "output_type": "stream",
     "text": [
      "EEG data size: (40, 7680, 9, 9)\n",
      "Processing /home/aicv/Documents/2023_EEG/DEAP_Dataset/data_preprocessed_matlab/s23.mat ..........\n"
     ]
    },
    {
     "name": "stderr",
     "output_type": "stream",
     "text": [
      " 72%|███████▏  | 23/32 [03:57<01:32, 10.33s/it]"
     ]
    },
    {
     "name": "stdout",
     "output_type": "stream",
     "text": [
      "EEG data size: (40, 7680, 9, 9)\n",
      "Processing /home/aicv/Documents/2023_EEG/DEAP_Dataset/data_preprocessed_matlab/s24.mat ..........\n"
     ]
    },
    {
     "name": "stderr",
     "output_type": "stream",
     "text": [
      " 75%|███████▌  | 24/32 [04:08<01:22, 10.34s/it]"
     ]
    },
    {
     "name": "stdout",
     "output_type": "stream",
     "text": [
      "EEG data size: (40, 7680, 9, 9)\n",
      "Processing /home/aicv/Documents/2023_EEG/DEAP_Dataset/data_preprocessed_matlab/s25.mat ..........\n"
     ]
    },
    {
     "name": "stderr",
     "output_type": "stream",
     "text": [
      " 78%|███████▊  | 25/32 [04:18<01:12, 10.34s/it]"
     ]
    },
    {
     "name": "stdout",
     "output_type": "stream",
     "text": [
      "EEG data size: (40, 7680, 9, 9)\n",
      "Processing /home/aicv/Documents/2023_EEG/DEAP_Dataset/data_preprocessed_matlab/s26.mat ..........\n"
     ]
    },
    {
     "name": "stderr",
     "output_type": "stream",
     "text": [
      " 81%|████████▏ | 26/32 [04:28<01:01, 10.33s/it]"
     ]
    },
    {
     "name": "stdout",
     "output_type": "stream",
     "text": [
      "EEG data size: (40, 7680, 9, 9)\n",
      "Processing /home/aicv/Documents/2023_EEG/DEAP_Dataset/data_preprocessed_matlab/s27.mat ..........\n"
     ]
    },
    {
     "name": "stderr",
     "output_type": "stream",
     "text": [
      " 84%|████████▍ | 27/32 [04:39<00:51, 10.34s/it]"
     ]
    },
    {
     "name": "stdout",
     "output_type": "stream",
     "text": [
      "EEG data size: (40, 7680, 9, 9)\n",
      "Processing /home/aicv/Documents/2023_EEG/DEAP_Dataset/data_preprocessed_matlab/s28.mat ..........\n"
     ]
    },
    {
     "name": "stderr",
     "output_type": "stream",
     "text": [
      " 88%|████████▊ | 28/32 [04:49<00:41, 10.35s/it]"
     ]
    },
    {
     "name": "stdout",
     "output_type": "stream",
     "text": [
      "EEG data size: (40, 7680, 9, 9)\n",
      "Processing /home/aicv/Documents/2023_EEG/DEAP_Dataset/data_preprocessed_matlab/s29.mat ..........\n"
     ]
    },
    {
     "name": "stderr",
     "output_type": "stream",
     "text": [
      " 91%|█████████ | 29/32 [05:00<00:31, 10.34s/it]"
     ]
    },
    {
     "name": "stdout",
     "output_type": "stream",
     "text": [
      "EEG data size: (40, 7680, 9, 9)\n",
      "Processing /home/aicv/Documents/2023_EEG/DEAP_Dataset/data_preprocessed_matlab/s30.mat ..........\n"
     ]
    },
    {
     "name": "stderr",
     "output_type": "stream",
     "text": [
      " 94%|█████████▍| 30/32 [05:10<00:20, 10.35s/it]"
     ]
    },
    {
     "name": "stdout",
     "output_type": "stream",
     "text": [
      "EEG data size: (40, 7680, 9, 9)\n",
      "Processing /home/aicv/Documents/2023_EEG/DEAP_Dataset/data_preprocessed_matlab/s31.mat ..........\n"
     ]
    },
    {
     "name": "stderr",
     "output_type": "stream",
     "text": [
      " 97%|█████████▋| 31/32 [05:20<00:10, 10.36s/it]"
     ]
    },
    {
     "name": "stdout",
     "output_type": "stream",
     "text": [
      "EEG data size: (40, 7680, 9, 9)\n",
      "Processing /home/aicv/Documents/2023_EEG/DEAP_Dataset/data_preprocessed_matlab/s32.mat ..........\n"
     ]
    },
    {
     "name": "stderr",
     "output_type": "stream",
     "text": [
      "100%|██████████| 32/32 [05:31<00:00, 10.35s/it]"
     ]
    },
    {
     "name": "stdout",
     "output_type": "stream",
     "text": [
      "EEG data size: (40, 7680, 9, 9)\n"
     ]
    },
    {
     "name": "stderr",
     "output_type": "stream",
     "text": [
      "\n"
     ]
    }
   ],
   "source": [
    "dataset_dir = \"/home/aicv/Documents/2023_EEG/DEAP_Dataset/data_preprocessed_matlab\"\n",
    "window_size = 128\n",
    "output_dir = \"/home/aicv/Documents/2023_EEG/DEAP_Dataset/Feature_Extraction/\"\n",
    "basemean = \"no\"     # yes/no (using baseline signals or not)\n",
    "\n",
    "record_list = sorted([task for task in os.listdir(dataset_dir) if os.path.isfile(os.path.join(dataset_dir,task))])\n",
    "output_EEG_dir = output_dir+\"Base_EEG/\"+f\"basemean_{basemean}_pt\"+\"/\"\n",
    "if os.path.isdir(output_EEG_dir)==False:\n",
    "    os.makedirs(output_EEG_dir)\n",
    "\n",
    "    \n",
    "for record in tqdm(record_list):\n",
    "    file = os.path.join(dataset_dir,record)\n",
    "    data_inter_E,data_inter_C,label_inter = apply_mixup(file, window_size,label_class,basemean)\n",
    "    trials = data_inter_E.shape[0]\n",
    "\n",
    "    for trial in range(0,trials):\n",
    "        output_data_cnn_path = output_EEG_dir+record.split(\".\")[0]+f\"_trial{str(trial+1).zfill(2)}\"+\"_win_\"+str(window_size)+\".pt\"\n",
    "        output_data_cnn_tensor = torch.tensor(data_inter_E[trial])\n",
    "\n",
    "        torch.save(output_data_cnn_tensor, output_data_cnn_path)"
   ]
  },
  {
   "cell_type": "markdown",
   "id": "caf01d1d",
   "metadata": {},
   "source": [
    "### Reference code"
   ]
  },
  {
   "cell_type": "code",
   "execution_count": null,
   "id": "86cf9094",
   "metadata": {},
   "outputs": [],
   "source": [
    "begin = time.time()\n",
    "print(\"time begin:\",time.localtime())\n",
    "dataset_dir     =   \"./data_preprocessed_matlab/\"\n",
    "window_size     =   128\n",
    "output_dir      =   \"./deap_data/\"\n",
    "label_class     =   \"valence\"     # arousal/valence\n",
    "suffix          =   \"yes\"     # yes/no (using baseline signals or not)\n",
    "\n",
    "record_list = [task for task in os.listdir(dataset_dir) if os.path.isfile(os.path.join(dataset_dir,task))]\n",
    "output_dir = output_dir+suffix+\"_\"+label_class+\"/\"\n",
    "if os.path.isdir(output_dir)==False:\n",
    "    os.makedirs(output_dir)\n",
    "\n",
    "\n",
    "for record in record_list:\n",
    "    file = os.path.join(dataset_dir,record)\n",
    "    data_inter_E,data_inter_C,label_inter,record = apply_mixup(file, window_size,label_class,suffix)\n",
    "    output_data_cnn = output_dir+record+\"_win_\"+str(window_size)+\"_emotion_dataset.pkl\"\n",
    "    output_data_rnn = output_dir+record+\"_win_\"+str(window_size)+\"_context_dataset.pkl\"\n",
    "    output_label= output_dir+record+\"_win_\"+str(window_size)+\"_labels.pkl\"\n",
    "\n",
    "    with open(output_data_cnn, \"wb\") as fp:\n",
    "        pickle.dump(data_inter_E,fp, protocol=4)\n",
    "    with open(output_data_rnn, \"wb\") as fp:\n",
    "        pickle.dump(data_inter_C, fp, protocol=4)\n",
    "    with open(output_label, \"wb\") as fp:\n",
    "        pickle.dump(label_inter, fp)\n",
    "    end = time.time()\n",
    "    print(\"end time:\",time.localtime())\n",
    "    print(\"time consuming:\",(end-begin))"
   ]
  },
  {
   "cell_type": "code",
   "execution_count": null,
   "id": "2e05d5fe",
   "metadata": {},
   "outputs": [],
   "source": []
  }
 ],
 "metadata": {
  "kernelspec": {
   "display_name": "vggish",
   "language": "python",
   "name": "python3"
  },
  "language_info": {
   "codemirror_mode": {
    "name": "ipython",
    "version": 3
   },
   "file_extension": ".py",
   "mimetype": "text/x-python",
   "name": "python",
   "nbconvert_exporter": "python",
   "pygments_lexer": "ipython3",
   "version": "3.8.15 | packaged by conda-forge | (default, Nov 22 2022, 08:49:35) \n[GCC 10.4.0]"
  },
  "vscode": {
   "interpreter": {
    "hash": "ee306dfcf22095ddca454755253ccdb17c1371d81f066d64d924ceb0af94a0bc"
   }
  }
 },
 "nbformat": 4,
 "nbformat_minor": 5
}
