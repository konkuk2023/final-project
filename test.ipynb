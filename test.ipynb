{
 "cells": [
  {
   "cell_type": "code",
   "execution_count": 1,
   "metadata": {},
   "outputs": [
    {
     "name": "stderr",
     "output_type": "stream",
     "text": [
      "/opt/conda/envs/vggish/lib/python3.8/site-packages/tqdm/auto.py:21: TqdmWarning: IProgress not found. Please update jupyter and ipywidgets. See https://ipywidgets.readthedocs.io/en/stable/user_install.html\n",
      "  from .autonotebook import tqdm as notebook_tqdm\n"
     ]
    }
   ],
   "source": [
    "import numpy as np\n",
    "import torch\n",
    "import pandas as pd\n",
    "import os\n",
    "\n",
    "import matplotlib.pyplot as plt\n",
    "%matplotlib inline"
   ]
  },
  {
   "cell_type": "code",
   "execution_count": 3,
   "metadata": {},
   "outputs": [],
   "source": [
    "sample = torch.rand((3, 64, 224, 224))"
   ]
  },
  {
   "cell_type": "code",
   "execution_count": 5,
   "metadata": {},
   "outputs": [],
   "source": [
    "idices = [idx for idx in range(64) if idx%2==0]"
   ]
  },
  {
   "cell_type": "code",
   "execution_count": 8,
   "metadata": {},
   "outputs": [
    {
     "data": {
      "text/plain": [
       "torch.Size([3, 32, 224, 224])"
      ]
     },
     "execution_count": 8,
     "metadata": {},
     "output_type": "execute_result"
    }
   ],
   "source": [
    "sample[:, idices, :, :].shape"
   ]
  },
  {
   "cell_type": "code",
   "execution_count": 8,
   "metadata": {},
   "outputs": [],
   "source": [
    "table = pd.read_csv(os.path.join(\"/workspace/G_Project/weights/valence/TEST/1s/128e4/fold_1\", \"output.csv\"))['v_CE']"
   ]
  },
  {
   "cell_type": "code",
   "execution_count": 80,
   "metadata": {},
   "outputs": [
    {
     "name": "stdout",
     "output_type": "stream",
     "text": [
      "===============================\n",
      "- Batch: 128\n",
      "- LR: e3\n",
      "- Stop Epochs: [11, 13, 4, 18, 0]\n",
      "===============================\n",
      "- Batch: 128\n",
      "- LR: e4\n",
      "- Stop Epochs: [65, 1, 17, 19, 0]\n",
      "===============================\n",
      "- Batch: 128\n",
      "- LR: e5\n",
      "- Stop Epochs: [1, 9, 12, 142, 2]\n"
     ]
    }
   ],
   "source": [
    "target = \"arousal\"\n",
    "length = \"60s\"\n",
    "batch_size = \"128\"\n",
    "\n",
    "for lr in [\"e3\",\"e4\",\"e5\"]:\n",
    "    indices = []\n",
    "    for fold in [\"fold_1\",\"fold_2\",\"fold_3\",\"fold_4\",\"fold_5\"]:\n",
    "        path = os.path.join(\"/workspace/G_Project/weights\", target, \"TEST\", length, batch_size+lr, fold, \"output.csv\")\n",
    "        rmse = pd.read_csv(path)[\"v_RMSE\"] # 기입 위치 잘못됨\n",
    "        if np.isnan(rmse[0]):\n",
    "            rmse = pd.read_csv(path)['v_CE']\n",
    "        indices.append(np.argmin(rmse))\n",
    "\n",
    "    print(\"===============================\")\n",
    "    print(f'- Batch: {batch_size}')\n",
    "    print(f'- LR: {lr}')\n",
    "    print(f'- Stop Epochs: {indices}')"
   ]
  },
  {
   "cell_type": "code",
   "execution_count": 38,
   "metadata": {},
   "outputs": [],
   "source": [
    "table = pd.read_csv(os.path.join(\"/workspace/G_Project/weights/valence/TEST/1s/128e4/fold_1\", \"output.csv\"))['v_RMSE']"
   ]
  },
  {
   "cell_type": "code",
   "execution_count": 39,
   "metadata": {},
   "outputs": [
    {
     "data": {
      "text/plain": [
       "0     NaN\n",
       "1     NaN\n",
       "2     NaN\n",
       "3     NaN\n",
       "4     NaN\n",
       "       ..\n",
       "195   NaN\n",
       "196   NaN\n",
       "197   NaN\n",
       "198   NaN\n",
       "199   NaN\n",
       "Name: v_RMSE, Length: 200, dtype: float64"
      ]
     },
     "execution_count": 39,
     "metadata": {},
     "output_type": "execute_result"
    }
   ],
   "source": [
    "table"
   ]
  },
  {
   "cell_type": "code",
   "execution_count": 52,
   "metadata": {},
   "outputs": [
    {
     "data": {
      "text/plain": [
       "True"
      ]
     },
     "execution_count": 52,
     "metadata": {},
     "output_type": "execute_result"
    }
   ],
   "source": [
    "np.isnan(table[0])"
   ]
  }
 ],
 "metadata": {
  "kernelspec": {
   "display_name": "vggish",
   "language": "python",
   "name": "python3"
  },
  "language_info": {
   "codemirror_mode": {
    "name": "ipython",
    "version": 3
   },
   "file_extension": ".py",
   "mimetype": "text/x-python",
   "name": "python",
   "nbconvert_exporter": "python",
   "pygments_lexer": "ipython3",
   "version": "3.8.15"
  },
  "orig_nbformat": 4
 },
 "nbformat": 4,
 "nbformat_minor": 2
}
