{
 "cells": [
  {
   "cell_type": "code",
   "execution_count": 3,
   "metadata": {},
   "outputs": [],
   "source": [
    "import numpy as np\n",
    "import torch\n",
    "import pandas as pd\n",
    "import os\n",
    "import gspread\n",
    "from oauth2client.service_account import ServiceAccountCredentials\n",
    "\n",
    "import matplotlib.pyplot as plt\n",
    "%matplotlib inline"
   ]
  },
  {
   "cell_type": "code",
   "execution_count": 8,
   "metadata": {},
   "outputs": [],
   "source": [
    "# table = pd.read_csv(os.path.join(\"/workspace/G_Project/weights/valence/TEST/1s/128e4/fold_1\", \"output.csv\"))['v_CE']"
   ]
  },
  {
   "cell_type": "code",
   "execution_count": 80,
   "metadata": {},
   "outputs": [
    {
     "name": "stdout",
     "output_type": "stream",
     "text": [
      "===============================\n",
      "- Batch: 128\n",
      "- LR: e3\n",
      "- Stop Epochs: [11, 13, 4, 18, 0]\n",
      "===============================\n",
      "- Batch: 128\n",
      "- LR: e4\n",
      "- Stop Epochs: [65, 1, 17, 19, 0]\n",
      "===============================\n",
      "- Batch: 128\n",
      "- LR: e5\n",
      "- Stop Epochs: [1, 9, 12, 142, 2]\n"
     ]
    }
   ],
   "source": [
    "# target = \"arousal\"\n",
    "# length = \"60s\"\n",
    "# batch_size = \"128\"\n",
    "\n",
    "# for lr in [\"e3\",\"e4\",\"e5\"]:\n",
    "#     indices = []\n",
    "#     for fold in [\"fold_1\",\"fold_2\",\"fold_3\",\"fold_4\",\"fold_5\"]:\n",
    "#         path = os.path.join(\"/workspace/G_Project/weights\", target, \"TEST\", length, batch_size+lr, fold, \"output.csv\")\n",
    "#         rmse = pd.read_csv(path)[\"v_RMSE\"] # 기입 위치 잘못됨\n",
    "#         if np.isnan(rmse[0]):\n",
    "#             rmse = pd.read_csv(path)['v_CE']\n",
    "#         indices.append(np.argmin(rmse))\n",
    "\n",
    "#     print(\"===============================\")\n",
    "#     print(f'- Batch: {batch_size}')\n",
    "#     print(f'- LR: {lr}')\n",
    "#     print(f'- Stop Epochs: {indices}')"
   ]
  },
  {
   "cell_type": "code",
   "execution_count": 4,
   "metadata": {},
   "outputs": [],
   "source": [
    "scope = [\n",
    "    'https://spreadsheets.google.com/feeds',\n",
    "    'https://www.googleapis.com/auth/drive',\n",
    "]\n",
    "json_file_name = 'graduation-project-399003.json'"
   ]
  },
  {
   "cell_type": "code",
   "execution_count": 5,
   "metadata": {},
   "outputs": [],
   "source": [
    "credentials = ServiceAccountCredentials.from_json_keyfile_name(json_file_name, scope)"
   ]
  },
  {
   "cell_type": "code",
   "execution_count": 6,
   "metadata": {},
   "outputs": [],
   "source": [
    "gc = gspread.authorize(credentials)"
   ]
  },
  {
   "cell_type": "code",
   "execution_count": 7,
   "metadata": {},
   "outputs": [],
   "source": [
    "spreadsheet_url = 'https://docs.google.com/spreadsheets/d/1-caaREBN1rI1TT_xe6p21zC0-NGDOlGZ23HSZPPCdNc/edit#gid=930989279'"
   ]
  },
  {
   "cell_type": "code",
   "execution_count": 8,
   "metadata": {},
   "outputs": [],
   "source": [
    "doc = gc.open_by_url(spreadsheet_url)"
   ]
  },
  {
   "cell_type": "code",
   "execution_count": 9,
   "metadata": {},
   "outputs": [],
   "source": [
    "worksheet = doc.worksheet('Full Length')"
   ]
  },
  {
   "cell_type": "code",
   "execution_count": 11,
   "metadata": {},
   "outputs": [
    {
     "ename": "IncorrectCellLabel",
     "evalue": "CV_RMSE",
     "output_type": "error",
     "traceback": [
      "\u001b[0;31m---------------------------------------------------------------------------\u001b[0m",
      "\u001b[0;31mIncorrectCellLabel\u001b[0m                        Traceback (most recent call last)",
      "\u001b[1;32m/workspace/G_Project/code/test.ipynb Cell 10\u001b[0m line \u001b[0;36m1\n\u001b[0;32m----> <a href='vscode-notebook-cell://ssh-remote%2B7b22686f73744e616d65223a223131342e37302e32312e313130222c2275736572223a22726f6f74222c22706f7274223a31303031337d/workspace/G_Project/code/test.ipynb#X13sdnNjb2RlLXJlbW90ZQ%3D%3D?line=0'>1</a>\u001b[0m worksheet\u001b[39m.\u001b[39;49macell(\u001b[39m'\u001b[39;49m\u001b[39mCV_RMSE\u001b[39;49m\u001b[39m'\u001b[39;49m)\u001b[39m.\u001b[39mvalue\n",
      "File \u001b[0;32m/opt/conda/envs/vggish/lib/python3.8/site-packages/gspread/worksheet.py:255\u001b[0m, in \u001b[0;36mWorksheet.acell\u001b[0;34m(self, label, value_render_option)\u001b[0m\n\u001b[1;32m    236\u001b[0m \u001b[39mdef\u001b[39;00m \u001b[39macell\u001b[39m(\u001b[39mself\u001b[39m, label, value_render_option\u001b[39m=\u001b[39mValueRenderOption\u001b[39m.\u001b[39mformatted):\n\u001b[1;32m    237\u001b[0m \u001b[39m    \u001b[39m\u001b[39m\"\"\"Returns an instance of a :class:`gspread.cell.Cell`.\u001b[39;00m\n\u001b[1;32m    238\u001b[0m \n\u001b[1;32m    239\u001b[0m \u001b[39m    :param label: Cell label in A1 notation\u001b[39;00m\n\u001b[0;32m   (...)\u001b[0m\n\u001b[1;32m    252\u001b[0m \u001b[39m    <Cell R1C1 \"I'm cell A1\">\u001b[39;00m\n\u001b[1;32m    253\u001b[0m \u001b[39m    \"\"\"\u001b[39;00m\n\u001b[1;32m    254\u001b[0m     \u001b[39mreturn\u001b[39;00m \u001b[39mself\u001b[39m\u001b[39m.\u001b[39mcell(\n\u001b[0;32m--> 255\u001b[0m         \u001b[39m*\u001b[39m(a1_to_rowcol(label)), value_render_option\u001b[39m=\u001b[39mvalue_render_option\n\u001b[1;32m    256\u001b[0m     )\n",
      "File \u001b[0;32m/opt/conda/envs/vggish/lib/python3.8/site-packages/gspread/utils.py:321\u001b[0m, in \u001b[0;36ma1_to_rowcol\u001b[0;34m(label)\u001b[0m\n\u001b[1;32m    319\u001b[0m         col \u001b[39m+\u001b[39m\u001b[39m=\u001b[39m (\u001b[39mord\u001b[39m(c) \u001b[39m-\u001b[39m MAGIC_NUMBER) \u001b[39m*\u001b[39m (\u001b[39m26\u001b[39m\u001b[39m*\u001b[39m\u001b[39m*\u001b[39mi)\n\u001b[1;32m    320\u001b[0m \u001b[39melse\u001b[39;00m:\n\u001b[0;32m--> 321\u001b[0m     \u001b[39mraise\u001b[39;00m IncorrectCellLabel(label)\n\u001b[1;32m    323\u001b[0m \u001b[39mreturn\u001b[39;00m (row, col)\n",
      "\u001b[0;31mIncorrectCellLabel\u001b[0m: CV_RMSE"
     ]
    }
   ],
   "source": [
    "worksheet.acell('CV_RMSE').value"
   ]
  },
  {
   "cell_type": "code",
   "execution_count": 25,
   "metadata": {},
   "outputs": [
    {
     "name": "stdout",
     "output_type": "stream",
     "text": [
      "None\n"
     ]
    }
   ],
   "source": [
    "print(worksheet.acell('G8').value)"
   ]
  },
  {
   "cell_type": "code",
   "execution_count": 26,
   "metadata": {},
   "outputs": [
    {
     "data": {
      "text/plain": [
       "{'spreadsheetId': '1-caaREBN1rI1TT_xe6p21zC0-NGDOlGZ23HSZPPCdNc',\n",
       " 'updatedRange': \"'Full Length'!G8\",\n",
       " 'updatedRows': 1,\n",
       " 'updatedColumns': 1,\n",
       " 'updatedCells': 1}"
      ]
     },
     "execution_count": 26,
     "metadata": {},
     "output_type": "execute_result"
    }
   ],
   "source": [
    "worksheet.update_acell('G8', 10)"
   ]
  }
 ],
 "metadata": {
  "kernelspec": {
   "display_name": "vggish",
   "language": "python",
   "name": "python3"
  },
  "language_info": {
   "codemirror_mode": {
    "name": "ipython",
    "version": 3
   },
   "file_extension": ".py",
   "mimetype": "text/x-python",
   "name": "python",
   "nbconvert_exporter": "python",
   "pygments_lexer": "ipython3",
   "version": "3.8.15"
  },
  "orig_nbformat": 4
 },
 "nbformat": 4,
 "nbformat_minor": 2
}
